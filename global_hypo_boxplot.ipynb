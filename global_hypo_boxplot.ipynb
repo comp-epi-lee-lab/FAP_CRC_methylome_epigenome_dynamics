{
 "cells": [
  {
   "cell_type": "code",
   "execution_count": 1,
   "metadata": {},
   "outputs": [
    {
     "name": "stdout",
     "output_type": "stream",
     "text": [
      "fap.all.ratio.h.tsv  \u001b[31mrun_scp.sh\u001b[m\u001b[m*\n"
     ]
    }
   ],
   "source": [
    "ls ../../data/omics/cpg_met\n"
   ]
  },
  {
   "cell_type": "code",
   "execution_count": 2,
   "metadata": {},
   "outputs": [
    {
     "data": {
      "text/html": [
       "<div>\n",
       "<style scoped>\n",
       "    .dataframe tbody tr th:only-of-type {\n",
       "        vertical-align: middle;\n",
       "    }\n",
       "\n",
       "    .dataframe tbody tr th {\n",
       "        vertical-align: top;\n",
       "    }\n",
       "\n",
       "    .dataframe thead th {\n",
       "        text-align: right;\n",
       "    }\n",
       "</style>\n",
       "<table border=\"1\" class=\"dataframe\">\n",
       "  <thead>\n",
       "    <tr style=\"text-align: right;\">\n",
       "      <th></th>\n",
       "      <th>B:A001_C113</th>\n",
       "      <th>B:A001_C206</th>\n",
       "      <th>B:A002_C012</th>\n",
       "      <th>B:A002_C111</th>\n",
       "      <th>B:A014_C037</th>\n",
       "      <th>B:A014_C044</th>\n",
       "      <th>B:A015_C203</th>\n",
       "      <th>B:A033_E002</th>\n",
       "      <th>B:A035_E002</th>\n",
       "      <th>B:A035_E018</th>\n",
       "      <th>...</th>\n",
       "      <th>N:A016_E001</th>\n",
       "      <th>N:A016_E003</th>\n",
       "      <th>N:A055_C012</th>\n",
       "      <th>N:A055_C111</th>\n",
       "      <th>N:A055_C211</th>\n",
       "      <th>T:A001_C007</th>\n",
       "      <th>T:CRC1_FreshFrozen</th>\n",
       "      <th>T:CRC2_FreshFrozen</th>\n",
       "      <th>T:CRC4_FreshFrozen</th>\n",
       "      <th>T:CRC6_FreshFrozen</th>\n",
       "    </tr>\n",
       "    <tr>\n",
       "      <th>pos</th>\n",
       "      <th></th>\n",
       "      <th></th>\n",
       "      <th></th>\n",
       "      <th></th>\n",
       "      <th></th>\n",
       "      <th></th>\n",
       "      <th></th>\n",
       "      <th></th>\n",
       "      <th></th>\n",
       "      <th></th>\n",
       "      <th></th>\n",
       "      <th></th>\n",
       "      <th></th>\n",
       "      <th></th>\n",
       "      <th></th>\n",
       "      <th></th>\n",
       "      <th></th>\n",
       "      <th></th>\n",
       "      <th></th>\n",
       "      <th></th>\n",
       "      <th></th>\n",
       "    </tr>\n",
       "  </thead>\n",
       "  <tbody>\n",
       "    <tr>\n",
       "      <th>10494</th>\n",
       "      <td>92.86</td>\n",
       "      <td>100.00</td>\n",
       "      <td>92.86</td>\n",
       "      <td>NaN</td>\n",
       "      <td>80.00</td>\n",
       "      <td>90.91</td>\n",
       "      <td>81.82</td>\n",
       "      <td>NaN</td>\n",
       "      <td>94.44</td>\n",
       "      <td>88.24</td>\n",
       "      <td>...</td>\n",
       "      <td>NaN</td>\n",
       "      <td>NaN</td>\n",
       "      <td>NaN</td>\n",
       "      <td>NaN</td>\n",
       "      <td>90.00</td>\n",
       "      <td>NaN</td>\n",
       "      <td>NaN</td>\n",
       "      <td>NaN</td>\n",
       "      <td>NaN</td>\n",
       "      <td>NaN</td>\n",
       "    </tr>\n",
       "    <tr>\n",
       "      <th>10497</th>\n",
       "      <td>84.62</td>\n",
       "      <td>90.91</td>\n",
       "      <td>85.71</td>\n",
       "      <td>NaN</td>\n",
       "      <td>93.33</td>\n",
       "      <td>81.82</td>\n",
       "      <td>90.91</td>\n",
       "      <td>NaN</td>\n",
       "      <td>81.25</td>\n",
       "      <td>88.24</td>\n",
       "      <td>...</td>\n",
       "      <td>NaN</td>\n",
       "      <td>NaN</td>\n",
       "      <td>NaN</td>\n",
       "      <td>NaN</td>\n",
       "      <td>90.00</td>\n",
       "      <td>NaN</td>\n",
       "      <td>NaN</td>\n",
       "      <td>NaN</td>\n",
       "      <td>NaN</td>\n",
       "      <td>NaN</td>\n",
       "    </tr>\n",
       "    <tr>\n",
       "      <th>10508</th>\n",
       "      <td>91.67</td>\n",
       "      <td>100.00</td>\n",
       "      <td>90.91</td>\n",
       "      <td>NaN</td>\n",
       "      <td>100.00</td>\n",
       "      <td>80.00</td>\n",
       "      <td>NaN</td>\n",
       "      <td>NaN</td>\n",
       "      <td>93.75</td>\n",
       "      <td>92.86</td>\n",
       "      <td>...</td>\n",
       "      <td>NaN</td>\n",
       "      <td>NaN</td>\n",
       "      <td>NaN</td>\n",
       "      <td>NaN</td>\n",
       "      <td>100.00</td>\n",
       "      <td>NaN</td>\n",
       "      <td>NaN</td>\n",
       "      <td>NaN</td>\n",
       "      <td>NaN</td>\n",
       "      <td>NaN</td>\n",
       "    </tr>\n",
       "    <tr>\n",
       "      <th>10523</th>\n",
       "      <td>NaN</td>\n",
       "      <td>90.91</td>\n",
       "      <td>NaN</td>\n",
       "      <td>NaN</td>\n",
       "      <td>100.00</td>\n",
       "      <td>NaN</td>\n",
       "      <td>NaN</td>\n",
       "      <td>NaN</td>\n",
       "      <td>93.33</td>\n",
       "      <td>92.31</td>\n",
       "      <td>...</td>\n",
       "      <td>NaN</td>\n",
       "      <td>NaN</td>\n",
       "      <td>NaN</td>\n",
       "      <td>NaN</td>\n",
       "      <td>90.00</td>\n",
       "      <td>NaN</td>\n",
       "      <td>NaN</td>\n",
       "      <td>NaN</td>\n",
       "      <td>NaN</td>\n",
       "      <td>NaN</td>\n",
       "    </tr>\n",
       "    <tr>\n",
       "      <th>10535</th>\n",
       "      <td>NaN</td>\n",
       "      <td>NaN</td>\n",
       "      <td>NaN</td>\n",
       "      <td>NaN</td>\n",
       "      <td>NaN</td>\n",
       "      <td>NaN</td>\n",
       "      <td>NaN</td>\n",
       "      <td>NaN</td>\n",
       "      <td>81.82</td>\n",
       "      <td>100.00</td>\n",
       "      <td>...</td>\n",
       "      <td>NaN</td>\n",
       "      <td>NaN</td>\n",
       "      <td>NaN</td>\n",
       "      <td>NaN</td>\n",
       "      <td>90.00</td>\n",
       "      <td>NaN</td>\n",
       "      <td>NaN</td>\n",
       "      <td>NaN</td>\n",
       "      <td>NaN</td>\n",
       "      <td>NaN</td>\n",
       "    </tr>\n",
       "    <tr>\n",
       "      <th>...</th>\n",
       "      <td>...</td>\n",
       "      <td>...</td>\n",
       "      <td>...</td>\n",
       "      <td>...</td>\n",
       "      <td>...</td>\n",
       "      <td>...</td>\n",
       "      <td>...</td>\n",
       "      <td>...</td>\n",
       "      <td>...</td>\n",
       "      <td>...</td>\n",
       "      <td>...</td>\n",
       "      <td>...</td>\n",
       "      <td>...</td>\n",
       "      <td>...</td>\n",
       "      <td>...</td>\n",
       "      <td>...</td>\n",
       "      <td>...</td>\n",
       "      <td>...</td>\n",
       "      <td>...</td>\n",
       "      <td>...</td>\n",
       "      <td>...</td>\n",
       "    </tr>\n",
       "    <tr>\n",
       "      <th>91806351</th>\n",
       "      <td>100.00</td>\n",
       "      <td>NaN</td>\n",
       "      <td>NaN</td>\n",
       "      <td>NaN</td>\n",
       "      <td>NaN</td>\n",
       "      <td>NaN</td>\n",
       "      <td>NaN</td>\n",
       "      <td>NaN</td>\n",
       "      <td>NaN</td>\n",
       "      <td>NaN</td>\n",
       "      <td>...</td>\n",
       "      <td>NaN</td>\n",
       "      <td>NaN</td>\n",
       "      <td>100.00</td>\n",
       "      <td>85.71</td>\n",
       "      <td>100.00</td>\n",
       "      <td>NaN</td>\n",
       "      <td>NaN</td>\n",
       "      <td>NaN</td>\n",
       "      <td>NaN</td>\n",
       "      <td>NaN</td>\n",
       "    </tr>\n",
       "    <tr>\n",
       "      <th>91806567</th>\n",
       "      <td>62.86</td>\n",
       "      <td>66.67</td>\n",
       "      <td>53.66</td>\n",
       "      <td>39.39</td>\n",
       "      <td>57.14</td>\n",
       "      <td>43.75</td>\n",
       "      <td>78.57</td>\n",
       "      <td>58.82</td>\n",
       "      <td>84.21</td>\n",
       "      <td>75.00</td>\n",
       "      <td>...</td>\n",
       "      <td>47.37</td>\n",
       "      <td>66.67</td>\n",
       "      <td>86.05</td>\n",
       "      <td>77.78</td>\n",
       "      <td>84.13</td>\n",
       "      <td>40.00</td>\n",
       "      <td>46.67</td>\n",
       "      <td>31.03</td>\n",
       "      <td>76.92</td>\n",
       "      <td>59.09</td>\n",
       "    </tr>\n",
       "    <tr>\n",
       "      <th>91806609</th>\n",
       "      <td>37.84</td>\n",
       "      <td>50.00</td>\n",
       "      <td>42.86</td>\n",
       "      <td>33.33</td>\n",
       "      <td>53.33</td>\n",
       "      <td>10.00</td>\n",
       "      <td>53.33</td>\n",
       "      <td>50.00</td>\n",
       "      <td>81.82</td>\n",
       "      <td>83.33</td>\n",
       "      <td>...</td>\n",
       "      <td>44.44</td>\n",
       "      <td>43.75</td>\n",
       "      <td>72.73</td>\n",
       "      <td>73.17</td>\n",
       "      <td>73.21</td>\n",
       "      <td>28.57</td>\n",
       "      <td>35.00</td>\n",
       "      <td>34.48</td>\n",
       "      <td>75.00</td>\n",
       "      <td>50.00</td>\n",
       "    </tr>\n",
       "    <tr>\n",
       "      <th>91807240</th>\n",
       "      <td>61.36</td>\n",
       "      <td>78.57</td>\n",
       "      <td>68.63</td>\n",
       "      <td>73.17</td>\n",
       "      <td>38.71</td>\n",
       "      <td>46.43</td>\n",
       "      <td>78.95</td>\n",
       "      <td>77.27</td>\n",
       "      <td>88.89</td>\n",
       "      <td>72.92</td>\n",
       "      <td>...</td>\n",
       "      <td>33.33</td>\n",
       "      <td>68.18</td>\n",
       "      <td>84.31</td>\n",
       "      <td>80.39</td>\n",
       "      <td>89.23</td>\n",
       "      <td>51.02</td>\n",
       "      <td>68.75</td>\n",
       "      <td>40.00</td>\n",
       "      <td>66.67</td>\n",
       "      <td>31.91</td>\n",
       "    </tr>\n",
       "    <tr>\n",
       "      <th>91807330</th>\n",
       "      <td>41.67</td>\n",
       "      <td>45.45</td>\n",
       "      <td>38.60</td>\n",
       "      <td>46.00</td>\n",
       "      <td>33.33</td>\n",
       "      <td>16.13</td>\n",
       "      <td>56.52</td>\n",
       "      <td>32.00</td>\n",
       "      <td>80.77</td>\n",
       "      <td>71.67</td>\n",
       "      <td>...</td>\n",
       "      <td>NaN</td>\n",
       "      <td>NaN</td>\n",
       "      <td>NaN</td>\n",
       "      <td>NaN</td>\n",
       "      <td>NaN</td>\n",
       "      <td>NaN</td>\n",
       "      <td>NaN</td>\n",
       "      <td>NaN</td>\n",
       "      <td>NaN</td>\n",
       "      <td>NaN</td>\n",
       "    </tr>\n",
       "  </tbody>\n",
       "</table>\n",
       "<p>21562449 rows × 51 columns</p>\n",
       "</div>"
      ],
      "text/plain": [
       "          B:A001_C113  B:A001_C206  B:A002_C012  B:A002_C111  B:A014_C037  \\\n",
       "pos                                                                         \n",
       "10494           92.86       100.00        92.86          NaN        80.00   \n",
       "10497           84.62        90.91        85.71          NaN        93.33   \n",
       "10508           91.67       100.00        90.91          NaN       100.00   \n",
       "10523             NaN        90.91          NaN          NaN       100.00   \n",
       "10535             NaN          NaN          NaN          NaN          NaN   \n",
       "...               ...          ...          ...          ...          ...   \n",
       "91806351       100.00          NaN          NaN          NaN          NaN   \n",
       "91806567        62.86        66.67        53.66        39.39        57.14   \n",
       "91806609        37.84        50.00        42.86        33.33        53.33   \n",
       "91807240        61.36        78.57        68.63        73.17        38.71   \n",
       "91807330        41.67        45.45        38.60        46.00        33.33   \n",
       "\n",
       "          B:A014_C044  B:A015_C203  B:A033_E002  B:A035_E002  B:A035_E018  \\\n",
       "pos                                                                         \n",
       "10494           90.91        81.82          NaN        94.44        88.24   \n",
       "10497           81.82        90.91          NaN        81.25        88.24   \n",
       "10508           80.00          NaN          NaN        93.75        92.86   \n",
       "10523             NaN          NaN          NaN        93.33        92.31   \n",
       "10535             NaN          NaN          NaN        81.82       100.00   \n",
       "...               ...          ...          ...          ...          ...   \n",
       "91806351          NaN          NaN          NaN          NaN          NaN   \n",
       "91806567        43.75        78.57        58.82        84.21        75.00   \n",
       "91806609        10.00        53.33        50.00        81.82        83.33   \n",
       "91807240        46.43        78.95        77.27        88.89        72.92   \n",
       "91807330        16.13        56.52        32.00        80.77        71.67   \n",
       "\n",
       "          ...  N:A016_E001  N:A016_E003  N:A055_C012  N:A055_C111  \\\n",
       "pos       ...                                                       \n",
       "10494     ...          NaN          NaN          NaN          NaN   \n",
       "10497     ...          NaN          NaN          NaN          NaN   \n",
       "10508     ...          NaN          NaN          NaN          NaN   \n",
       "10523     ...          NaN          NaN          NaN          NaN   \n",
       "10535     ...          NaN          NaN          NaN          NaN   \n",
       "...       ...          ...          ...          ...          ...   \n",
       "91806351  ...          NaN          NaN       100.00        85.71   \n",
       "91806567  ...        47.37        66.67        86.05        77.78   \n",
       "91806609  ...        44.44        43.75        72.73        73.17   \n",
       "91807240  ...        33.33        68.18        84.31        80.39   \n",
       "91807330  ...          NaN          NaN          NaN          NaN   \n",
       "\n",
       "          N:A055_C211  T:A001_C007  T:CRC1_FreshFrozen  T:CRC2_FreshFrozen  \\\n",
       "pos                                                                          \n",
       "10494           90.00          NaN                 NaN                 NaN   \n",
       "10497           90.00          NaN                 NaN                 NaN   \n",
       "10508          100.00          NaN                 NaN                 NaN   \n",
       "10523           90.00          NaN                 NaN                 NaN   \n",
       "10535           90.00          NaN                 NaN                 NaN   \n",
       "...               ...          ...                 ...                 ...   \n",
       "91806351       100.00          NaN                 NaN                 NaN   \n",
       "91806567        84.13        40.00               46.67               31.03   \n",
       "91806609        73.21        28.57               35.00               34.48   \n",
       "91807240        89.23        51.02               68.75               40.00   \n",
       "91807330          NaN          NaN                 NaN                 NaN   \n",
       "\n",
       "          T:CRC4_FreshFrozen  T:CRC6_FreshFrozen  \n",
       "pos                                               \n",
       "10494                    NaN                 NaN  \n",
       "10497                    NaN                 NaN  \n",
       "10508                    NaN                 NaN  \n",
       "10523                    NaN                 NaN  \n",
       "10535                    NaN                 NaN  \n",
       "...                      ...                 ...  \n",
       "91806351                 NaN                 NaN  \n",
       "91806567               76.92               59.09  \n",
       "91806609               75.00               50.00  \n",
       "91807240               66.67               31.91  \n",
       "91807330                 NaN                 NaN  \n",
       "\n",
       "[21562449 rows x 51 columns]"
      ]
     },
     "execution_count": 2,
     "metadata": {},
     "output_type": "execute_result"
    }
   ],
   "source": [
    "import pandas as pd \n",
    "\n",
    "#df = pd.read_csv( '../../Omics/WGEM/fap.chr1.ratio.tsv', sep='\\t', header=0)\n",
    "#df['pos'] = \"chr1:\" + df['pos'].astype(str)\n",
    "\n",
    "\n",
    "df = pd.read_csv( '../../data/omics/cpg_met/fap.all.ratio.h.tsv', sep='\\t', header=0).set_index('pos')\n",
    "df"
   ]
  },
  {
   "cell_type": "code",
   "execution_count": 3,
   "metadata": {},
   "outputs": [
    {
     "data": {
      "text/plain": [
       "Index(['B:A001_C113', 'B:A001_C206', 'B:A002_C012', 'B:A002_C111',\n",
       "       'B:A014_C037', 'B:A014_C044', 'B:A015_C203', 'B:A033_E002',\n",
       "       'B:A035_E002', 'B:A035_E018', 'B:A035_E019', 'B:A035_E022',\n",
       "       'B:A035_E023', 'B:A035_E024', 'B:A052_E016', 'B:A052_E018', 'B:EP_007',\n",
       "       'B:EP_034', 'D:A001_C004', 'D:A001_C005', 'D:A002_C010', 'D:A002_C116',\n",
       "       'D:A002_C204', 'D:A014_C001', 'D:A014_C038', 'D:A015_C002',\n",
       "       'D:A035_E020', 'D:A035_E021', 'D:EP_88B', 'L:A001_blood',\n",
       "       'L:A002_Blood', 'L:A014_blood', 'L:A015_blood', 'L:EP_blood',\n",
       "       'N:A001_C021', 'N:A002_C121', 'N:A002_C212', 'N:A014_C052',\n",
       "       'N:A014_C115', 'N:A014_C202', 'N:A015_C008', 'N:A016_E001',\n",
       "       'N:A016_E003', 'N:A055_C012', 'N:A055_C111', 'N:A055_C211',\n",
       "       'T:A001_C007', 'T:CRC1_FreshFrozen', 'T:CRC2_FreshFrozen',\n",
       "       'T:CRC4_FreshFrozen', 'T:CRC6_FreshFrozen'],\n",
       "      dtype='object')"
      ]
     },
     "execution_count": 3,
     "metadata": {},
     "output_type": "execute_result"
    }
   ],
   "source": [
    "df.columns"
   ]
  },
  {
   "cell_type": "code",
   "execution_count": 4,
   "metadata": {},
   "outputs": [
    {
     "data": {
      "text/html": [
       "<div>\n",
       "<style scoped>\n",
       "    .dataframe tbody tr th:only-of-type {\n",
       "        vertical-align: middle;\n",
       "    }\n",
       "\n",
       "    .dataframe tbody tr th {\n",
       "        vertical-align: top;\n",
       "    }\n",
       "\n",
       "    .dataframe thead th {\n",
       "        text-align: right;\n",
       "    }\n",
       "</style>\n",
       "<table border=\"1\" class=\"dataframe\">\n",
       "  <thead>\n",
       "    <tr style=\"text-align: right;\">\n",
       "      <th></th>\n",
       "      <th>L:A001_blood</th>\n",
       "      <th>L:A002_Blood</th>\n",
       "      <th>L:A014_blood</th>\n",
       "      <th>L:A015_blood</th>\n",
       "      <th>L:EP_blood</th>\n",
       "    </tr>\n",
       "    <tr>\n",
       "      <th>pos</th>\n",
       "      <th></th>\n",
       "      <th></th>\n",
       "      <th></th>\n",
       "      <th></th>\n",
       "      <th></th>\n",
       "    </tr>\n",
       "  </thead>\n",
       "  <tbody>\n",
       "    <tr>\n",
       "      <th>10494</th>\n",
       "      <td>NaN</td>\n",
       "      <td>75.00</td>\n",
       "      <td>NaN</td>\n",
       "      <td>85.71</td>\n",
       "      <td>81.82</td>\n",
       "    </tr>\n",
       "    <tr>\n",
       "      <th>10497</th>\n",
       "      <td>NaN</td>\n",
       "      <td>66.67</td>\n",
       "      <td>NaN</td>\n",
       "      <td>38.46</td>\n",
       "      <td>45.45</td>\n",
       "    </tr>\n",
       "    <tr>\n",
       "      <th>10508</th>\n",
       "      <td>NaN</td>\n",
       "      <td>100.00</td>\n",
       "      <td>NaN</td>\n",
       "      <td>100.00</td>\n",
       "      <td>NaN</td>\n",
       "    </tr>\n",
       "    <tr>\n",
       "      <th>10523</th>\n",
       "      <td>NaN</td>\n",
       "      <td>NaN</td>\n",
       "      <td>NaN</td>\n",
       "      <td>81.82</td>\n",
       "      <td>NaN</td>\n",
       "    </tr>\n",
       "    <tr>\n",
       "      <th>10535</th>\n",
       "      <td>NaN</td>\n",
       "      <td>NaN</td>\n",
       "      <td>NaN</td>\n",
       "      <td>90.91</td>\n",
       "      <td>NaN</td>\n",
       "    </tr>\n",
       "    <tr>\n",
       "      <th>...</th>\n",
       "      <td>...</td>\n",
       "      <td>...</td>\n",
       "      <td>...</td>\n",
       "      <td>...</td>\n",
       "      <td>...</td>\n",
       "    </tr>\n",
       "    <tr>\n",
       "      <th>91806351</th>\n",
       "      <td>90.00</td>\n",
       "      <td>NaN</td>\n",
       "      <td>NaN</td>\n",
       "      <td>NaN</td>\n",
       "      <td>100.00</td>\n",
       "    </tr>\n",
       "    <tr>\n",
       "      <th>91806567</th>\n",
       "      <td>90.00</td>\n",
       "      <td>90.91</td>\n",
       "      <td>NaN</td>\n",
       "      <td>60.00</td>\n",
       "      <td>77.78</td>\n",
       "    </tr>\n",
       "    <tr>\n",
       "      <th>91806609</th>\n",
       "      <td>73.58</td>\n",
       "      <td>88.00</td>\n",
       "      <td>90.00</td>\n",
       "      <td>76.92</td>\n",
       "      <td>81.82</td>\n",
       "    </tr>\n",
       "    <tr>\n",
       "      <th>91807240</th>\n",
       "      <td>72.73</td>\n",
       "      <td>86.36</td>\n",
       "      <td>88.24</td>\n",
       "      <td>NaN</td>\n",
       "      <td>82.98</td>\n",
       "    </tr>\n",
       "    <tr>\n",
       "      <th>91807330</th>\n",
       "      <td>NaN</td>\n",
       "      <td>NaN</td>\n",
       "      <td>NaN</td>\n",
       "      <td>NaN</td>\n",
       "      <td>NaN</td>\n",
       "    </tr>\n",
       "  </tbody>\n",
       "</table>\n",
       "<p>21562449 rows × 5 columns</p>\n",
       "</div>"
      ],
      "text/plain": [
       "          L:A001_blood  L:A002_Blood  L:A014_blood  L:A015_blood  L:EP_blood\n",
       "pos                                                                         \n",
       "10494              NaN         75.00           NaN         85.71       81.82\n",
       "10497              NaN         66.67           NaN         38.46       45.45\n",
       "10508              NaN        100.00           NaN        100.00         NaN\n",
       "10523              NaN           NaN           NaN         81.82         NaN\n",
       "10535              NaN           NaN           NaN         90.91         NaN\n",
       "...                ...           ...           ...           ...         ...\n",
       "91806351         90.00           NaN           NaN           NaN      100.00\n",
       "91806567         90.00         90.91           NaN         60.00       77.78\n",
       "91806609         73.58         88.00         90.00         76.92       81.82\n",
       "91807240         72.73         86.36         88.24           NaN       82.98\n",
       "91807330           NaN           NaN           NaN           NaN         NaN\n",
       "\n",
       "[21562449 rows x 5 columns]"
      ]
     },
     "execution_count": 4,
     "metadata": {},
     "output_type": "execute_result"
    }
   ],
   "source": [
    "normal = df.columns[df.columns.str.contains('N:')]\n",
    "benign = df.columns[df.columns.str.contains('B:')]\n",
    "dysplasia = df.columns[df.columns.str.contains('D:')]\n",
    "tumor = df.columns[df.columns.str.contains('T:')]\n",
    "blood = df.columns[df.columns.str.contains('L:')]\n",
    "\n",
    "\n",
    "df[blood]"
   ]
  },
  {
   "cell_type": "code",
   "execution_count": 5,
   "metadata": {},
   "outputs": [
    {
     "data": {
      "text/plain": [
       "array([74.21359967, 75.57000615, 73.97962661, 75.94433484, 75.29282602,\n",
       "       76.46197297, 74.06854651, 70.32069536, 70.02929368, 77.16416685,\n",
       "       75.51772488, 75.45644079])"
      ]
     },
     "execution_count": 5,
     "metadata": {},
     "output_type": "execute_result"
    }
   ],
   "source": [
    "import numpy as np \n",
    "\n",
    "df.mean( axis = 0 )\n",
    "df[normal].mean( axis = 0 ).to_numpy()"
   ]
  },
  {
   "cell_type": "code",
   "execution_count": 6,
   "metadata": {},
   "outputs": [
    {
     "data": {
      "text/plain": [
       "L:A001_blood    77.800586\n",
       "L:A002_Blood    77.949687\n",
       "L:A014_blood    77.992391\n",
       "L:A015_blood    78.099621\n",
       "L:EP_blood      78.373509\n",
       "dtype: float64"
      ]
     },
     "execution_count": 6,
     "metadata": {},
     "output_type": "execute_result"
    }
   ],
   "source": [
    "df[blood].mean( axis = 0 )"
   ]
  },
  {
   "cell_type": "code",
   "execution_count": 7,
   "metadata": {},
   "outputs": [],
   "source": [
    "#df[blood].drop(['L:NA12878'], axis=1).mean( axis = 0 )"
   ]
  },
  {
   "cell_type": "code",
   "execution_count": 8,
   "metadata": {},
   "outputs": [
    {
     "name": "stdout",
     "output_type": "stream",
     "text": [
      "74.50160286207115\n",
      "70.84449597231857\n",
      "67.65641332245333\n",
      "65.29463582216606\n",
      "78.04315902918317\n"
     ]
    }
   ],
   "source": [
    "print(df[normal].mean( axis = 0 ).mean() )\n",
    "print(df[benign].mean( axis = 0 ).mean() )\n",
    "print(df[dysplasia].mean( axis = 0 ).mean() )\n",
    "print(df[tumor].mean( axis = 0 ).mean() )\n",
    "#print(df[blood].drop(['L:NA12878'], axis=1).mean( axis = 0 ).mean() )\n",
    "print(df[blood].mean( axis = 0 ).mean() )"
   ]
  },
  {
   "cell_type": "code",
   "execution_count": 9,
   "metadata": {},
   "outputs": [
    {
     "name": "stdout",
     "output_type": "stream",
     "text": [
      "2.2309800614603708\n",
      "2.5599720610258596\n",
      "4.4257964608514895\n",
      "4.306975169648636\n",
      "0.2135855947218625\n"
     ]
    }
   ],
   "source": [
    "print(df[normal].mean( axis = 0 ).std())\n",
    "print(df[benign].mean( axis = 0 ).std())\n",
    "print(df[dysplasia].mean( axis = 0 ).std())\n",
    "print(df[tumor].mean( axis = 0 ).std())\n",
    "print(df[blood].mean( axis = 0 ).std())\n"
   ]
  },
  {
   "cell_type": "code",
   "execution_count": 17,
   "metadata": {},
   "outputs": [
    {
     "data": {
      "application/vnd.plotly.v1+json": {
       "config": {
        "plotlyServerURL": "https://plot.ly"
       },
       "data": [
        {
         "boxpoints": "all",
         "jitter": 0.3,
         "line": {
          "color": "rgb(250,250,0)"
         },
         "marker": {
          "color": "rgb(250,250,0)"
         },
         "name": "Normal",
         "pointpos": -1.8,
         "type": "box",
         "y": [
          74.21359967065996,
          75.57000614891571,
          73.97962661313633,
          75.9443348384001,
          75.29282602404876,
          76.46197297307673,
          74.0685465116716,
          70.320695363548,
          70.02929368165437,
          77.16416685078846,
          75.51772488165939,
          75.45644078729438
         ]
        },
        {
         "boxpoints": "all",
         "line": {
          "color": "rgb(153, 255, 51)"
         },
         "marker": {
          "color": "rgb(153, 255, 51)"
         },
         "name": "Benign polyps",
         "type": "box",
         "y": [
          69.41264569310619,
          69.45987717665301,
          70.58908188979373,
          69.30328095767025,
          66.72502644534923,
          65.09036998364562,
          72.99359491240004,
          68.90809684139478,
          73.77287697661785,
          73.4218245266173,
          71.15345968929942,
          73.4331751679718,
          70.79994270245443,
          72.11942155245188,
          72.97217488388655,
          74.81362877719802,
          71.00182988789757,
          69.23061943732628
         ]
        },
        {
         "boxpoints": "all",
         "line": {
          "color": "rgb(102, 204, 85)"
         },
         "marker": {
          "color": "rgb(102, 204, 85)",
          "line": {
           "outliercolor": "rgb(102, 204, 85)",
           "outlierwidth": 2
          },
          "outliercolor": "rgb(102, 204, 85)"
         },
         "name": "Dysplasia polyps",
         "type": "box",
         "y": [
          67.99314111813077,
          70.82817431245569,
          61.1737790049377,
          64.59520759743326,
          63.021899026595484,
          64.84781841677473,
          66.02973788346539,
          70.08304254698504,
          74.01884469260106,
          75.05587140349708,
          66.5730305441104
         ]
        },
        {
         "boxpoints": "all",
         "line": {
          "color": "rgb(51,102,0)"
         },
         "marker": {
          "color": "rgb(51,102,0)"
         },
         "name": "Adenocarcinoma",
         "type": "box",
         "y": [
          64.47325429384802,
          71.56791407658304,
          59.904979722120956,
          63.66334005767183,
          66.8636909606065
         ]
        },
        {
         "boxpoints": "all",
         "line": {
          "color": "rgb(255,0,0)"
         },
         "marker": {
          "color": "rgb(255,0,0)"
         },
         "name": "Blood",
         "type": "box",
         "y": [
          77.80058637253555,
          77.94968718467177,
          77.99239085267963,
          78.0996213756753,
          78.37350936035362
         ]
        }
       ],
       "layout": {
        "font": {
         "color": "black",
         "family": "Arial, monospace",
         "size": 14
        },
        "height": 600,
        "legend": {
         "bgcolor": "rgb(255, 255, 255)",
         "bordercolor": "Black",
         "borderwidth": 1
        },
        "plot_bgcolor": "rgb(255,255,255)",
        "template": {
         "data": {
          "bar": [
           {
            "error_x": {
             "color": "#2a3f5f"
            },
            "error_y": {
             "color": "#2a3f5f"
            },
            "marker": {
             "line": {
              "color": "#E5ECF6",
              "width": 0.5
             },
             "pattern": {
              "fillmode": "overlay",
              "size": 10,
              "solidity": 0.2
             }
            },
            "type": "bar"
           }
          ],
          "barpolar": [
           {
            "marker": {
             "line": {
              "color": "#E5ECF6",
              "width": 0.5
             },
             "pattern": {
              "fillmode": "overlay",
              "size": 10,
              "solidity": 0.2
             }
            },
            "type": "barpolar"
           }
          ],
          "carpet": [
           {
            "aaxis": {
             "endlinecolor": "#2a3f5f",
             "gridcolor": "white",
             "linecolor": "white",
             "minorgridcolor": "white",
             "startlinecolor": "#2a3f5f"
            },
            "baxis": {
             "endlinecolor": "#2a3f5f",
             "gridcolor": "white",
             "linecolor": "white",
             "minorgridcolor": "white",
             "startlinecolor": "#2a3f5f"
            },
            "type": "carpet"
           }
          ],
          "choropleth": [
           {
            "colorbar": {
             "outlinewidth": 0,
             "ticks": ""
            },
            "type": "choropleth"
           }
          ],
          "contour": [
           {
            "colorbar": {
             "outlinewidth": 0,
             "ticks": ""
            },
            "colorscale": [
             [
              0,
              "#0d0887"
             ],
             [
              0.1111111111111111,
              "#46039f"
             ],
             [
              0.2222222222222222,
              "#7201a8"
             ],
             [
              0.3333333333333333,
              "#9c179e"
             ],
             [
              0.4444444444444444,
              "#bd3786"
             ],
             [
              0.5555555555555556,
              "#d8576b"
             ],
             [
              0.6666666666666666,
              "#ed7953"
             ],
             [
              0.7777777777777778,
              "#fb9f3a"
             ],
             [
              0.8888888888888888,
              "#fdca26"
             ],
             [
              1,
              "#f0f921"
             ]
            ],
            "type": "contour"
           }
          ],
          "contourcarpet": [
           {
            "colorbar": {
             "outlinewidth": 0,
             "ticks": ""
            },
            "type": "contourcarpet"
           }
          ],
          "heatmap": [
           {
            "colorbar": {
             "outlinewidth": 0,
             "ticks": ""
            },
            "colorscale": [
             [
              0,
              "#0d0887"
             ],
             [
              0.1111111111111111,
              "#46039f"
             ],
             [
              0.2222222222222222,
              "#7201a8"
             ],
             [
              0.3333333333333333,
              "#9c179e"
             ],
             [
              0.4444444444444444,
              "#bd3786"
             ],
             [
              0.5555555555555556,
              "#d8576b"
             ],
             [
              0.6666666666666666,
              "#ed7953"
             ],
             [
              0.7777777777777778,
              "#fb9f3a"
             ],
             [
              0.8888888888888888,
              "#fdca26"
             ],
             [
              1,
              "#f0f921"
             ]
            ],
            "type": "heatmap"
           }
          ],
          "heatmapgl": [
           {
            "colorbar": {
             "outlinewidth": 0,
             "ticks": ""
            },
            "colorscale": [
             [
              0,
              "#0d0887"
             ],
             [
              0.1111111111111111,
              "#46039f"
             ],
             [
              0.2222222222222222,
              "#7201a8"
             ],
             [
              0.3333333333333333,
              "#9c179e"
             ],
             [
              0.4444444444444444,
              "#bd3786"
             ],
             [
              0.5555555555555556,
              "#d8576b"
             ],
             [
              0.6666666666666666,
              "#ed7953"
             ],
             [
              0.7777777777777778,
              "#fb9f3a"
             ],
             [
              0.8888888888888888,
              "#fdca26"
             ],
             [
              1,
              "#f0f921"
             ]
            ],
            "type": "heatmapgl"
           }
          ],
          "histogram": [
           {
            "marker": {
             "pattern": {
              "fillmode": "overlay",
              "size": 10,
              "solidity": 0.2
             }
            },
            "type": "histogram"
           }
          ],
          "histogram2d": [
           {
            "colorbar": {
             "outlinewidth": 0,
             "ticks": ""
            },
            "colorscale": [
             [
              0,
              "#0d0887"
             ],
             [
              0.1111111111111111,
              "#46039f"
             ],
             [
              0.2222222222222222,
              "#7201a8"
             ],
             [
              0.3333333333333333,
              "#9c179e"
             ],
             [
              0.4444444444444444,
              "#bd3786"
             ],
             [
              0.5555555555555556,
              "#d8576b"
             ],
             [
              0.6666666666666666,
              "#ed7953"
             ],
             [
              0.7777777777777778,
              "#fb9f3a"
             ],
             [
              0.8888888888888888,
              "#fdca26"
             ],
             [
              1,
              "#f0f921"
             ]
            ],
            "type": "histogram2d"
           }
          ],
          "histogram2dcontour": [
           {
            "colorbar": {
             "outlinewidth": 0,
             "ticks": ""
            },
            "colorscale": [
             [
              0,
              "#0d0887"
             ],
             [
              0.1111111111111111,
              "#46039f"
             ],
             [
              0.2222222222222222,
              "#7201a8"
             ],
             [
              0.3333333333333333,
              "#9c179e"
             ],
             [
              0.4444444444444444,
              "#bd3786"
             ],
             [
              0.5555555555555556,
              "#d8576b"
             ],
             [
              0.6666666666666666,
              "#ed7953"
             ],
             [
              0.7777777777777778,
              "#fb9f3a"
             ],
             [
              0.8888888888888888,
              "#fdca26"
             ],
             [
              1,
              "#f0f921"
             ]
            ],
            "type": "histogram2dcontour"
           }
          ],
          "mesh3d": [
           {
            "colorbar": {
             "outlinewidth": 0,
             "ticks": ""
            },
            "type": "mesh3d"
           }
          ],
          "parcoords": [
           {
            "line": {
             "colorbar": {
              "outlinewidth": 0,
              "ticks": ""
             }
            },
            "type": "parcoords"
           }
          ],
          "pie": [
           {
            "automargin": true,
            "type": "pie"
           }
          ],
          "scatter": [
           {
            "fillpattern": {
             "fillmode": "overlay",
             "size": 10,
             "solidity": 0.2
            },
            "type": "scatter"
           }
          ],
          "scatter3d": [
           {
            "line": {
             "colorbar": {
              "outlinewidth": 0,
              "ticks": ""
             }
            },
            "marker": {
             "colorbar": {
              "outlinewidth": 0,
              "ticks": ""
             }
            },
            "type": "scatter3d"
           }
          ],
          "scattercarpet": [
           {
            "marker": {
             "colorbar": {
              "outlinewidth": 0,
              "ticks": ""
             }
            },
            "type": "scattercarpet"
           }
          ],
          "scattergeo": [
           {
            "marker": {
             "colorbar": {
              "outlinewidth": 0,
              "ticks": ""
             }
            },
            "type": "scattergeo"
           }
          ],
          "scattergl": [
           {
            "marker": {
             "colorbar": {
              "outlinewidth": 0,
              "ticks": ""
             }
            },
            "type": "scattergl"
           }
          ],
          "scattermapbox": [
           {
            "marker": {
             "colorbar": {
              "outlinewidth": 0,
              "ticks": ""
             }
            },
            "type": "scattermapbox"
           }
          ],
          "scatterpolar": [
           {
            "marker": {
             "colorbar": {
              "outlinewidth": 0,
              "ticks": ""
             }
            },
            "type": "scatterpolar"
           }
          ],
          "scatterpolargl": [
           {
            "marker": {
             "colorbar": {
              "outlinewidth": 0,
              "ticks": ""
             }
            },
            "type": "scatterpolargl"
           }
          ],
          "scatterternary": [
           {
            "marker": {
             "colorbar": {
              "outlinewidth": 0,
              "ticks": ""
             }
            },
            "type": "scatterternary"
           }
          ],
          "surface": [
           {
            "colorbar": {
             "outlinewidth": 0,
             "ticks": ""
            },
            "colorscale": [
             [
              0,
              "#0d0887"
             ],
             [
              0.1111111111111111,
              "#46039f"
             ],
             [
              0.2222222222222222,
              "#7201a8"
             ],
             [
              0.3333333333333333,
              "#9c179e"
             ],
             [
              0.4444444444444444,
              "#bd3786"
             ],
             [
              0.5555555555555556,
              "#d8576b"
             ],
             [
              0.6666666666666666,
              "#ed7953"
             ],
             [
              0.7777777777777778,
              "#fb9f3a"
             ],
             [
              0.8888888888888888,
              "#fdca26"
             ],
             [
              1,
              "#f0f921"
             ]
            ],
            "type": "surface"
           }
          ],
          "table": [
           {
            "cells": {
             "fill": {
              "color": "#EBF0F8"
             },
             "line": {
              "color": "white"
             }
            },
            "header": {
             "fill": {
              "color": "#C8D4E3"
             },
             "line": {
              "color": "white"
             }
            },
            "type": "table"
           }
          ]
         },
         "layout": {
          "annotationdefaults": {
           "arrowcolor": "#2a3f5f",
           "arrowhead": 0,
           "arrowwidth": 1
          },
          "autotypenumbers": "strict",
          "coloraxis": {
           "colorbar": {
            "outlinewidth": 0,
            "ticks": ""
           }
          },
          "colorscale": {
           "diverging": [
            [
             0,
             "#8e0152"
            ],
            [
             0.1,
             "#c51b7d"
            ],
            [
             0.2,
             "#de77ae"
            ],
            [
             0.3,
             "#f1b6da"
            ],
            [
             0.4,
             "#fde0ef"
            ],
            [
             0.5,
             "#f7f7f7"
            ],
            [
             0.6,
             "#e6f5d0"
            ],
            [
             0.7,
             "#b8e186"
            ],
            [
             0.8,
             "#7fbc41"
            ],
            [
             0.9,
             "#4d9221"
            ],
            [
             1,
             "#276419"
            ]
           ],
           "sequential": [
            [
             0,
             "#0d0887"
            ],
            [
             0.1111111111111111,
             "#46039f"
            ],
            [
             0.2222222222222222,
             "#7201a8"
            ],
            [
             0.3333333333333333,
             "#9c179e"
            ],
            [
             0.4444444444444444,
             "#bd3786"
            ],
            [
             0.5555555555555556,
             "#d8576b"
            ],
            [
             0.6666666666666666,
             "#ed7953"
            ],
            [
             0.7777777777777778,
             "#fb9f3a"
            ],
            [
             0.8888888888888888,
             "#fdca26"
            ],
            [
             1,
             "#f0f921"
            ]
           ],
           "sequentialminus": [
            [
             0,
             "#0d0887"
            ],
            [
             0.1111111111111111,
             "#46039f"
            ],
            [
             0.2222222222222222,
             "#7201a8"
            ],
            [
             0.3333333333333333,
             "#9c179e"
            ],
            [
             0.4444444444444444,
             "#bd3786"
            ],
            [
             0.5555555555555556,
             "#d8576b"
            ],
            [
             0.6666666666666666,
             "#ed7953"
            ],
            [
             0.7777777777777778,
             "#fb9f3a"
            ],
            [
             0.8888888888888888,
             "#fdca26"
            ],
            [
             1,
             "#f0f921"
            ]
           ]
          },
          "colorway": [
           "#636efa",
           "#EF553B",
           "#00cc96",
           "#ab63fa",
           "#FFA15A",
           "#19d3f3",
           "#FF6692",
           "#B6E880",
           "#FF97FF",
           "#FECB52"
          ],
          "font": {
           "color": "#2a3f5f"
          },
          "geo": {
           "bgcolor": "white",
           "lakecolor": "white",
           "landcolor": "#E5ECF6",
           "showlakes": true,
           "showland": true,
           "subunitcolor": "white"
          },
          "hoverlabel": {
           "align": "left"
          },
          "hovermode": "closest",
          "mapbox": {
           "style": "light"
          },
          "paper_bgcolor": "white",
          "plot_bgcolor": "#E5ECF6",
          "polar": {
           "angularaxis": {
            "gridcolor": "white",
            "linecolor": "white",
            "ticks": ""
           },
           "bgcolor": "#E5ECF6",
           "radialaxis": {
            "gridcolor": "white",
            "linecolor": "white",
            "ticks": ""
           }
          },
          "scene": {
           "xaxis": {
            "backgroundcolor": "#E5ECF6",
            "gridcolor": "white",
            "gridwidth": 2,
            "linecolor": "white",
            "showbackground": true,
            "ticks": "",
            "zerolinecolor": "white"
           },
           "yaxis": {
            "backgroundcolor": "#E5ECF6",
            "gridcolor": "white",
            "gridwidth": 2,
            "linecolor": "white",
            "showbackground": true,
            "ticks": "",
            "zerolinecolor": "white"
           },
           "zaxis": {
            "backgroundcolor": "#E5ECF6",
            "gridcolor": "white",
            "gridwidth": 2,
            "linecolor": "white",
            "showbackground": true,
            "ticks": "",
            "zerolinecolor": "white"
           }
          },
          "shapedefaults": {
           "line": {
            "color": "#2a3f5f"
           }
          },
          "ternary": {
           "aaxis": {
            "gridcolor": "white",
            "linecolor": "white",
            "ticks": ""
           },
           "baxis": {
            "gridcolor": "white",
            "linecolor": "white",
            "ticks": ""
           },
           "bgcolor": "#E5ECF6",
           "caxis": {
            "gridcolor": "white",
            "linecolor": "white",
            "ticks": ""
           }
          },
          "title": {
           "x": 0.05
          },
          "xaxis": {
           "automargin": true,
           "gridcolor": "white",
           "linecolor": "white",
           "ticks": "",
           "title": {
            "standoff": 15
           },
           "zerolinecolor": "white",
           "zerolinewidth": 2
          },
          "yaxis": {
           "automargin": true,
           "gridcolor": "white",
           "linecolor": "white",
           "ticks": "",
           "title": {
            "standoff": 15
           },
           "zerolinecolor": "white",
           "zerolinewidth": 2
          }
         }
        },
        "title": {
         "font": {
          "size": 25
         },
         "text": "FAP WGEM-seq Global Hypomethylation",
         "x": 0.5,
         "xanchor": "center"
        },
        "width": 700,
        "xaxis": {
         "autorange": true,
         "linecolor": "black",
         "linewidth": 2,
         "mirror": true,
         "range": [
          -0.8160613263608272,
          4.5
         ],
         "showline": true,
         "type": "category"
        },
        "yaxis": {
         "linecolor": "black",
         "linewidth": 2,
         "mirror": true,
         "range": [
          55,
          80
         ],
         "showline": true,
         "type": "linear"
        }
       }
      },
      "image/png": "[encoded data removed]",
      "text/html": [
       "<div>                            <div id=\"a178bc9b-a834-4925-a4df-1477042a9d73\" class=\"plotly-graph-div\" style=\"height:600px; width:700px;\"></div>            <script type=\"text/javascript\">                require([\"plotly\"], function(Plotly) {                    window.PLOTLYENV=window.PLOTLYENV || {};                                    if (document.getElementById(\"a178bc9b-a834-4925-a4df-1477042a9d73\")) {                    Plotly.newPlot(                        \"a178bc9b-a834-4925-a4df-1477042a9d73\",                        [{\"boxpoints\":\"all\",\"jitter\":0.3,\"line\":{\"color\":\"rgb(250,250,0)\"},\"marker\":{\"color\":\"rgb(250,250,0)\"},\"name\":\"Normal\",\"pointpos\":-1.8,\"y\":[74.21359967065996,75.57000614891571,73.97962661313633,75.9443348384001,75.29282602404876,76.46197297307673,74.0685465116716,70.320695363548,70.02929368165437,77.16416685078846,75.51772488165939,75.45644078729438],\"type\":\"box\"},{\"boxpoints\":\"all\",\"line\":{\"color\":\"rgb(153, 255, 51)\"},\"marker\":{\"color\":\"rgb(153, 255, 51)\"},\"name\":\"Benign polyps\",\"y\":[69.41264569310619,69.45987717665301,70.58908188979373,69.30328095767025,66.72502644534923,65.09036998364562,72.99359491240004,68.90809684139478,73.77287697661785,73.4218245266173,71.15345968929942,73.4331751679718,70.79994270245443,72.11942155245188,72.97217488388655,74.81362877719802,71.00182988789757,69.23061943732628],\"type\":\"box\"},{\"boxpoints\":\"all\",\"line\":{\"color\":\"rgb(102, 204, 85)\"},\"marker\":{\"color\":\"rgb(102, 204, 85)\",\"line\":{\"outliercolor\":\"rgb(102, 204, 85)\",\"outlierwidth\":2},\"outliercolor\":\"rgb(102, 204, 85)\"},\"name\":\"Dysplasia polyps\",\"y\":[67.99314111813077,70.82817431245569,61.1737790049377,64.59520759743326,63.021899026595484,64.84781841677473,66.02973788346539,70.08304254698504,74.01884469260106,75.05587140349708,66.5730305441104],\"type\":\"box\"},{\"boxpoints\":\"all\",\"line\":{\"color\":\"rgb(51,102,0)\"},\"marker\":{\"color\":\"rgb(51,102,0)\"},\"name\":\"Adenocarcinoma\",\"y\":[64.47325429384802,71.56791407658304,59.904979722120956,63.66334005767183,66.8636909606065],\"type\":\"box\"},{\"boxpoints\":\"all\",\"line\":{\"color\":\"rgb(255,0,0)\"},\"marker\":{\"color\":\"rgb(255,0,0)\"},\"name\":\"Blood\",\"y\":[77.80058637253555,77.94968718467177,77.99239085267963,78.0996213756753,78.37350936035362],\"type\":\"box\"}],                        {\"template\":{\"data\":{\"histogram2dcontour\":[{\"type\":\"histogram2dcontour\",\"colorbar\":{\"outlinewidth\":0,\"ticks\":\"\"},\"colorscale\":[[0.0,\"#0d0887\"],[0.1111111111111111,\"#46039f\"],[0.2222222222222222,\"#7201a8\"],[0.3333333333333333,\"#9c179e\"],[0.4444444444444444,\"#bd3786\"],[0.5555555555555556,\"#d8576b\"],[0.6666666666666666,\"#ed7953\"],[0.7777777777777778,\"#fb9f3a\"],[0.8888888888888888,\"#fdca26\"],[1.0,\"#f0f921\"]]}],\"choropleth\":[{\"type\":\"choropleth\",\"colorbar\":{\"outlinewidth\":0,\"ticks\":\"\"}}],\"histogram2d\":[{\"type\":\"histogram2d\",\"colorbar\":{\"outlinewidth\":0,\"ticks\":\"\"},\"colorscale\":[[0.0,\"#0d0887\"],[0.1111111111111111,\"#46039f\"],[0.2222222222222222,\"#7201a8\"],[0.3333333333333333,\"#9c179e\"],[0.4444444444444444,\"#bd3786\"],[0.5555555555555556,\"#d8576b\"],[0.6666666666666666,\"#ed7953\"],[0.7777777777777778,\"#fb9f3a\"],[0.8888888888888888,\"#fdca26\"],[1.0,\"#f0f921\"]]}],\"heatmap\":[{\"type\":\"heatmap\",\"colorbar\":{\"outlinewidth\":0,\"ticks\":\"\"},\"colorscale\":[[0.0,\"#0d0887\"],[0.1111111111111111,\"#46039f\"],[0.2222222222222222,\"#7201a8\"],[0.3333333333333333,\"#9c179e\"],[0.4444444444444444,\"#bd3786\"],[0.5555555555555556,\"#d8576b\"],[0.6666666666666666,\"#ed7953\"],[0.7777777777777778,\"#fb9f3a\"],[0.8888888888888888,\"#fdca26\"],[1.0,\"#f0f921\"]]}],\"heatmapgl\":[{\"type\":\"heatmapgl\",\"colorbar\":{\"outlinewidth\":0,\"ticks\":\"\"},\"colorscale\":[[0.0,\"#0d0887\"],[0.1111111111111111,\"#46039f\"],[0.2222222222222222,\"#7201a8\"],[0.3333333333333333,\"#9c179e\"],[0.4444444444444444,\"#bd3786\"],[0.5555555555555556,\"#d8576b\"],[0.6666666666666666,\"#ed7953\"],[0.7777777777777778,\"#fb9f3a\"],[0.8888888888888888,\"#fdca26\"],[1.0,\"#f0f921\"]]}],\"contourcarpet\":[{\"type\":\"contourcarpet\",\"colorbar\":{\"outlinewidth\":0,\"ticks\":\"\"}}],\"contour\":[{\"type\":\"contour\",\"colorbar\":{\"outlinewidth\":0,\"ticks\":\"\"},\"colorscale\":[[0.0,\"#0d0887\"],[0.1111111111111111,\"#46039f\"],[0.2222222222222222,\"#7201a8\"],[0.3333333333333333,\"#9c179e\"],[0.4444444444444444,\"#bd3786\"],[0.5555555555555556,\"#d8576b\"],[0.6666666666666666,\"#ed7953\"],[0.7777777777777778,\"#fb9f3a\"],[0.8888888888888888,\"#fdca26\"],[1.0,\"#f0f921\"]]}],\"surface\":[{\"type\":\"surface\",\"colorbar\":{\"outlinewidth\":0,\"ticks\":\"\"},\"colorscale\":[[0.0,\"#0d0887\"],[0.1111111111111111,\"#46039f\"],[0.2222222222222222,\"#7201a8\"],[0.3333333333333333,\"#9c179e\"],[0.4444444444444444,\"#bd3786\"],[0.5555555555555556,\"#d8576b\"],[0.6666666666666666,\"#ed7953\"],[0.7777777777777778,\"#fb9f3a\"],[0.8888888888888888,\"#fdca26\"],[1.0,\"#f0f921\"]]}],\"mesh3d\":[{\"type\":\"mesh3d\",\"colorbar\":{\"outlinewidth\":0,\"ticks\":\"\"}}],\"scatter\":[{\"fillpattern\":{\"fillmode\":\"overlay\",\"size\":10,\"solidity\":0.2},\"type\":\"scatter\"}],\"parcoords\":[{\"type\":\"parcoords\",\"line\":{\"colorbar\":{\"outlinewidth\":0,\"ticks\":\"\"}}}],\"scatterpolargl\":[{\"type\":\"scatterpolargl\",\"marker\":{\"colorbar\":{\"outlinewidth\":0,\"ticks\":\"\"}}}],\"bar\":[{\"error_x\":{\"color\":\"#2a3f5f\"},\"error_y\":{\"color\":\"#2a3f5f\"},\"marker\":{\"line\":{\"color\":\"#E5ECF6\",\"width\":0.5},\"pattern\":{\"fillmode\":\"overlay\",\"size\":10,\"solidity\":0.2}},\"type\":\"bar\"}],\"scattergeo\":[{\"type\":\"scattergeo\",\"marker\":{\"colorbar\":{\"outlinewidth\":0,\"ticks\":\"\"}}}],\"scatterpolar\":[{\"type\":\"scatterpolar\",\"marker\":{\"colorbar\":{\"outlinewidth\":0,\"ticks\":\"\"}}}],\"histogram\":[{\"marker\":{\"pattern\":{\"fillmode\":\"overlay\",\"size\":10,\"solidity\":0.2}},\"type\":\"histogram\"}],\"scattergl\":[{\"type\":\"scattergl\",\"marker\":{\"colorbar\":{\"outlinewidth\":0,\"ticks\":\"\"}}}],\"scatter3d\":[{\"type\":\"scatter3d\",\"line\":{\"colorbar\":{\"outlinewidth\":0,\"ticks\":\"\"}},\"marker\":{\"colorbar\":{\"outlinewidth\":0,\"ticks\":\"\"}}}],\"scattermapbox\":[{\"type\":\"scattermapbox\",\"marker\":{\"colorbar\":{\"outlinewidth\":0,\"ticks\":\"\"}}}],\"scatterternary\":[{\"type\":\"scatterternary\",\"marker\":{\"colorbar\":{\"outlinewidth\":0,\"ticks\":\"\"}}}],\"scattercarpet\":[{\"type\":\"scattercarpet\",\"marker\":{\"colorbar\":{\"outlinewidth\":0,\"ticks\":\"\"}}}],\"carpet\":[{\"aaxis\":{\"endlinecolor\":\"#2a3f5f\",\"gridcolor\":\"white\",\"linecolor\":\"white\",\"minorgridcolor\":\"white\",\"startlinecolor\":\"#2a3f5f\"},\"baxis\":{\"endlinecolor\":\"#2a3f5f\",\"gridcolor\":\"white\",\"linecolor\":\"white\",\"minorgridcolor\":\"white\",\"startlinecolor\":\"#2a3f5f\"},\"type\":\"carpet\"}],\"table\":[{\"cells\":{\"fill\":{\"color\":\"#EBF0F8\"},\"line\":{\"color\":\"white\"}},\"header\":{\"fill\":{\"color\":\"#C8D4E3\"},\"line\":{\"color\":\"white\"}},\"type\":\"table\"}],\"barpolar\":[{\"marker\":{\"line\":{\"color\":\"#E5ECF6\",\"width\":0.5},\"pattern\":{\"fillmode\":\"overlay\",\"size\":10,\"solidity\":0.2}},\"type\":\"barpolar\"}],\"pie\":[{\"automargin\":true,\"type\":\"pie\"}]},\"layout\":{\"autotypenumbers\":\"strict\",\"colorway\":[\"#636efa\",\"#EF553B\",\"#00cc96\",\"#ab63fa\",\"#FFA15A\",\"#19d3f3\",\"#FF6692\",\"#B6E880\",\"#FF97FF\",\"#FECB52\"],\"font\":{\"color\":\"#2a3f5f\"},\"hovermode\":\"closest\",\"hoverlabel\":{\"align\":\"left\"},\"paper_bgcolor\":\"white\",\"plot_bgcolor\":\"#E5ECF6\",\"polar\":{\"bgcolor\":\"#E5ECF6\",\"angularaxis\":{\"gridcolor\":\"white\",\"linecolor\":\"white\",\"ticks\":\"\"},\"radialaxis\":{\"gridcolor\":\"white\",\"linecolor\":\"white\",\"ticks\":\"\"}},\"ternary\":{\"bgcolor\":\"#E5ECF6\",\"aaxis\":{\"gridcolor\":\"white\",\"linecolor\":\"white\",\"ticks\":\"\"},\"baxis\":{\"gridcolor\":\"white\",\"linecolor\":\"white\",\"ticks\":\"\"},\"caxis\":{\"gridcolor\":\"white\",\"linecolor\":\"white\",\"ticks\":\"\"}},\"coloraxis\":{\"colorbar\":{\"outlinewidth\":0,\"ticks\":\"\"}},\"colorscale\":{\"sequential\":[[0.0,\"#0d0887\"],[0.1111111111111111,\"#46039f\"],[0.2222222222222222,\"#7201a8\"],[0.3333333333333333,\"#9c179e\"],[0.4444444444444444,\"#bd3786\"],[0.5555555555555556,\"#d8576b\"],[0.6666666666666666,\"#ed7953\"],[0.7777777777777778,\"#fb9f3a\"],[0.8888888888888888,\"#fdca26\"],[1.0,\"#f0f921\"]],\"sequentialminus\":[[0.0,\"#0d0887\"],[0.1111111111111111,\"#46039f\"],[0.2222222222222222,\"#7201a8\"],[0.3333333333333333,\"#9c179e\"],[0.4444444444444444,\"#bd3786\"],[0.5555555555555556,\"#d8576b\"],[0.6666666666666666,\"#ed7953\"],[0.7777777777777778,\"#fb9f3a\"],[0.8888888888888888,\"#fdca26\"],[1.0,\"#f0f921\"]],\"diverging\":[[0,\"#8e0152\"],[0.1,\"#c51b7d\"],[0.2,\"#de77ae\"],[0.3,\"#f1b6da\"],[0.4,\"#fde0ef\"],[0.5,\"#f7f7f7\"],[0.6,\"#e6f5d0\"],[0.7,\"#b8e186\"],[0.8,\"#7fbc41\"],[0.9,\"#4d9221\"],[1,\"#276419\"]]},\"xaxis\":{\"gridcolor\":\"white\",\"linecolor\":\"white\",\"ticks\":\"\",\"title\":{\"standoff\":15},\"zerolinecolor\":\"white\",\"automargin\":true,\"zerolinewidth\":2},\"yaxis\":{\"gridcolor\":\"white\",\"linecolor\":\"white\",\"ticks\":\"\",\"title\":{\"standoff\":15},\"zerolinecolor\":\"white\",\"automargin\":true,\"zerolinewidth\":2},\"scene\":{\"xaxis\":{\"backgroundcolor\":\"#E5ECF6\",\"gridcolor\":\"white\",\"linecolor\":\"white\",\"showbackground\":true,\"ticks\":\"\",\"zerolinecolor\":\"white\",\"gridwidth\":2},\"yaxis\":{\"backgroundcolor\":\"#E5ECF6\",\"gridcolor\":\"white\",\"linecolor\":\"white\",\"showbackground\":true,\"ticks\":\"\",\"zerolinecolor\":\"white\",\"gridwidth\":2},\"zaxis\":{\"backgroundcolor\":\"#E5ECF6\",\"gridcolor\":\"white\",\"linecolor\":\"white\",\"showbackground\":true,\"ticks\":\"\",\"zerolinecolor\":\"white\",\"gridwidth\":2}},\"shapedefaults\":{\"line\":{\"color\":\"#2a3f5f\"}},\"annotationdefaults\":{\"arrowcolor\":\"#2a3f5f\",\"arrowhead\":0,\"arrowwidth\":1},\"geo\":{\"bgcolor\":\"white\",\"landcolor\":\"#E5ECF6\",\"subunitcolor\":\"white\",\"showland\":true,\"showlakes\":true,\"lakecolor\":\"white\"},\"title\":{\"x\":0.05},\"mapbox\":{\"style\":\"light\"}}},\"font\":{\"family\":\"Arial, monospace\",\"size\":14,\"color\":\"black\"},\"title\":{\"font\":{\"size\":25},\"text\":\"FAP WGEM-seq Global Hypomethylation\",\"xanchor\":\"center\",\"x\":0.5},\"legend\":{\"bgcolor\":\"rgb(255, 255, 255)\",\"bordercolor\":\"Black\",\"borderwidth\":1},\"height\":600,\"width\":700,\"plot_bgcolor\":\"rgb(255,255,255)\",\"xaxis\":{\"showline\":true,\"mirror\":true,\"linewidth\":2,\"linecolor\":\"black\"},\"yaxis\":{\"showline\":true,\"mirror\":true,\"linewidth\":2,\"linecolor\":\"black\",\"range\":[55,80]}},                        {\"responsive\": true}                    ).then(function(){\n",
       "                            \n",
       "var gd = document.getElementById('a178bc9b-a834-4925-a4df-1477042a9d73');\n",
       "var x = new MutationObserver(function (mutations, observer) {{\n",
       "        var display = window.getComputedStyle(gd).display;\n",
       "        if (!display || display === 'none') {{\n",
       "            console.log([gd, 'removed!']);\n",
       "            Plotly.purge(gd);\n",
       "            observer.disconnect();\n",
       "        }}\n",
       "}});\n",
       "\n",
       "// Listen for the removal of the full notebook cells\n",
       "var notebookContainer = gd.closest('#notebook-container');\n",
       "if (notebookContainer) {{\n",
       "    x.observe(notebookContainer, {childList: true});\n",
       "}}\n",
       "\n",
       "// Listen for the clearing of the current output cell\n",
       "var outputEl = gd.closest('.output');\n",
       "if (outputEl) {{\n",
       "    x.observe(outputEl, {childList: true});\n",
       "}}\n",
       "\n",
       "                        })                };                });            </script>        </div>"
      ]
     },
     "metadata": {},
     "output_type": "display_data"
    }
   ],
   "source": [
    "import plotly.express as px\n",
    "import plotly.graph_objects as go\n",
    "\n",
    "#pd.set_option('precision', 2)\n",
    "#pd.set_option('display.float_format', lambda x: '%.2f' % x)\n",
    "\n",
    "fig = go.Figure()\n",
    "\n",
    "px.defaults.template = \"simple_white\"\n",
    "#\"plotly\", \"plotly_white\", \"plotly_dark\", \"ggplot2\", \"seaborn\", \"simple_white\", \"none\"\n",
    "#px.defaults.color_continuous_scale = px.colors.sequential.Blackbody\n",
    "px.defaults.width = 700\n",
    "px.defaults.height = 800\n",
    "\n",
    "\n",
    "fig.add_trace(go.Box(\n",
    "    y=df[normal].mean( axis = 0 ).to_numpy(),\n",
    "    name=\"Normal\",\n",
    "    jitter=0.3,\n",
    "    pointpos=-1.8,\n",
    "    boxpoints='all', # represent all points\n",
    "    marker_color='rgb(250,250,0)',\n",
    "    line_color='rgb(250,250,0)'\n",
    "))\n",
    "\n",
    "fig.add_trace(go.Box(\n",
    "    y=df[benign].mean( axis = 0 ).to_numpy(),\n",
    "    name=\"Benign polyps\",\n",
    "    boxpoints='all', # no data points\n",
    "    marker_color='rgb(153, 255, 51)',\n",
    "    line_color='rgb(153, 255, 51)'\n",
    "))\n",
    "\n",
    "fig.add_trace(go.Box(\n",
    "    y=df[dysplasia].mean( axis = 0 ).to_numpy(),\n",
    "    name=\"Dysplasia polyps\",\n",
    "    boxpoints='all', # only suspected outliers\n",
    "    marker=dict(\n",
    "        color='rgb(102, 204, 85)',\n",
    "        outliercolor='rgb(102, 204, 85)',\n",
    "        line=dict(\n",
    "            outliercolor='rgb(102, 204, 85)',\n",
    "            outlierwidth=2)),\n",
    "    line_color='rgb(102, 204, 85)'\n",
    "))\n",
    "\n",
    "fig.add_trace(go.Box(\n",
    "    y=df[tumor].mean( axis = 0 ).to_numpy(),\n",
    "    name=\"Adenocarcinoma\",\n",
    "    boxpoints='all', # only outliers\n",
    "    marker_color='rgb(51,102,0)',\n",
    "    line_color='rgb(51,102,0)'\n",
    "))\n",
    "\n",
    "\n",
    "\n",
    "fig.add_trace(go.Box(\n",
    "    y = df[blood].mean( axis = 0 ).to_numpy(),\n",
    "    name=\"Blood\",\n",
    "    boxpoints='all', # only suspected outliers\n",
    "    marker_color='rgb(255,0,0)',\n",
    "    line_color='rgb(255,0,0)'\n",
    "))\n",
    "\n",
    "\n",
    "fig.update_layout(\n",
    "    height=600, width=700,\n",
    "    font_family=\"Arial\",\n",
    "    title=dict(text=\"FAP WGEM-seq Global Hypomethylation\",\n",
    "              xanchor='center', x=0.5,  \n",
    "              ),\n",
    "    titlefont=dict(size=25),\n",
    "    #xaxis_title=\"PC_0\",\n",
    "    #yaxis_title=\"PC_1\",\n",
    "    #legend_title=None,\n",
    "    font=dict(\n",
    "        family=\"Arial, monospace\",\n",
    "        size=14,\n",
    "        color=\"black\"\n",
    "    ),\n",
    "    legend=dict(\n",
    "        #yanchor=\"bottom\",\n",
    "        #y=0.01,\n",
    "        #xanchor=\"left\",\n",
    "        #x=0.01,\n",
    "        #traceorder=\"reversed\",\n",
    "        bgcolor= \"rgb(255, 255, 255)\",\n",
    "        bordercolor=\"Black\",\n",
    "        borderwidth=1,\n",
    "        ),\n",
    "    plot_bgcolor='rgb(255,255,255)'\n",
    ")\n",
    "\n",
    "fig.update_xaxes(showline=True, mirror=True, linewidth=2, linecolor = 'black')\n",
    "fig.update_yaxes(showline=True, mirror=True, linewidth=2, linecolor = 'black', range = [55,80])\n",
    "\n",
    "fig.write_image(\"fap_emseq_bloxplot.pdf\")\n",
    "fig.write_image(\"fap_emseq_bloxplot.png\")\n",
    "fig.show()\n"
   ]
  },
  {
   "cell_type": "code",
   "execution_count": 11,
   "metadata": {},
   "outputs": [
    {
     "data": {
      "text/plain": [
       "RanksumsResult(statistic=3.513670180338604, pvalue=0.0004419612054769206)"
      ]
     },
     "execution_count": 11,
     "metadata": {},
     "output_type": "execute_result"
    }
   ],
   "source": [
    "from scipy import stats\n",
    "\n",
    "stats.ranksums(\n",
    "    df[normal].mean( axis = 0 ).to_numpy(),\n",
    "    df[benign].mean( axis = 0 ).to_numpy()\n",
    ")\n",
    "\n"
   ]
  },
  {
   "cell_type": "code",
   "execution_count": 12,
   "metadata": {},
   "outputs": [
    {
     "data": {
      "text/plain": [
       "RanksumsResult(statistic=3.3850160019316498, pvalue=0.0007117410518086113)"
      ]
     },
     "execution_count": 12,
     "metadata": {},
     "output_type": "execute_result"
    }
   ],
   "source": [
    "stats.ranksums(\n",
    "    df[normal].mean( axis = 0 ).to_numpy(),\n",
    "    df[dysplasia].mean( axis = 0 ).to_numpy()\n",
    ")\n"
   ]
  },
  {
   "cell_type": "code",
   "execution_count": 13,
   "metadata": {},
   "outputs": [
    {
     "data": {
      "text/plain": [
       "RanksumsResult(statistic=2.9514591494904874, pvalue=0.003162763790369106)"
      ]
     },
     "execution_count": 13,
     "metadata": {},
     "output_type": "execute_result"
    }
   ],
   "source": [
    "stats.ranksums(\n",
    "    df[normal].mean( axis = 0 ).to_numpy(),\n",
    "    df[tumor].mean( axis = 0 ).to_numpy()\n",
    ")\n"
   ]
  },
  {
   "cell_type": "code",
   "execution_count": 14,
   "metadata": {},
   "outputs": [
    {
     "data": {
      "text/plain": [
       "RanksumsResult(statistic=-3.162277660168379, pvalue=0.001565402258002548)"
      ]
     },
     "execution_count": 14,
     "metadata": {},
     "output_type": "execute_result"
    }
   ],
   "source": [
    "stats.ranksums(\n",
    "    df[normal].mean( axis = 0 ).to_numpy(),\n",
    "    df[blood].mean( axis = 0 ).to_numpy()\n",
    ")\n"
   ]
  },
  {
   "cell_type": "code",
   "execution_count": 15,
   "metadata": {},
   "outputs": [
    {
     "data": {
      "text/plain": [
       "RanksumsResult(statistic=-3.3541019662496843, pvalue=0.0007962301575908116)"
      ]
     },
     "execution_count": 15,
     "metadata": {},
     "output_type": "execute_result"
    }
   ],
   "source": [
    "stats.ranksums(\n",
    "    df[benign].mean( axis = 0 ).to_numpy(),\n",
    "    df[blood].mean( axis = 0 ).to_numpy()\n",
    ")"
   ]
  },
  {
   "cell_type": "code",
   "execution_count": 16,
   "metadata": {},
   "outputs": [
    {
     "data": {
      "text/plain": [
       "RanksumsResult(statistic=-3.115426512203614, pvalue=0.0018367911015436899)"
      ]
     },
     "execution_count": 16,
     "metadata": {},
     "output_type": "execute_result"
    }
   ],
   "source": [
    "stats.ranksums(\n",
    "    df[dysplasia].mean( axis = 0 ).to_numpy(),\n",
    "    df[blood].mean( axis = 0 ).to_numpy()\n",
    ")"
   ]
  },
  {
   "cell_type": "code",
   "execution_count": null,
   "metadata": {},
   "outputs": [],
   "source": []
  },
  {
   "cell_type": "code",
   "execution_count": null,
   "metadata": {},
   "outputs": [],
   "source": []
  },
  {
   "cell_type": "code",
   "execution_count": null,
   "metadata": {},
   "outputs": [],
   "source": []
  }
 ],
 "metadata": {
  "kernelspec": {
   "display_name": "Python 3 (ipykernel)",
   "language": "python",
   "name": "python3"
  },
  "language_info": {
   "codemirror_mode": {
    "name": "ipython",
    "version": 3
   },
   "file_extension": ".py",
   "mimetype": "text/x-python",
   "name": "python",
   "nbconvert_exporter": "python",
   "pygments_lexer": "ipython3",
   "version": "3.11.0"
  }
 },
 "nbformat": 4,
 "nbformat_minor": 4
}
