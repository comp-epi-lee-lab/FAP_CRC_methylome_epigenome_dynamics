{
 "cells": [
  {
   "cell_type": "code",
   "execution_count": 1,
   "metadata": {},
   "outputs": [
    {
     "name": "stdout",
     "output_type": "stream",
     "text": [
      "\u001b[34mchromState\u001b[m\u001b[m/                 fap.all23.ratio.atac.N.bed\n"
     ]
    }
   ],
   "source": [
    "ls ../../data/omics/asso_met_atac/"
   ]
  },
  {
   "cell_type": "code",
   "execution_count": 2,
   "metadata": {},
   "outputs": [
    {
     "data": {
      "text/html": [
       "<div>\n",
       "<style scoped>\n",
       "    .dataframe tbody tr th:only-of-type {\n",
       "        vertical-align: middle;\n",
       "    }\n",
       "\n",
       "    .dataframe tbody tr th {\n",
       "        vertical-align: top;\n",
       "    }\n",
       "\n",
       "    .dataframe thead th {\n",
       "        text-align: right;\n",
       "    }\n",
       "</style>\n",
       "<table border=\"1\" class=\"dataframe\">\n",
       "  <thead>\n",
       "    <tr style=\"text-align: right;\">\n",
       "      <th></th>\n",
       "      <th>name</th>\n",
       "      <th>score</th>\n",
       "      <th>qValue(-log10)</th>\n",
       "      <th>peak</th>\n",
       "      <th>chr</th>\n",
       "      <th>start</th>\n",
       "      <th>stop</th>\n",
       "      <th>N:A001_C021</th>\n",
       "      <th>N:A002_C121</th>\n",
       "      <th>N:A002_C212</th>\n",
       "      <th>...</th>\n",
       "      <th>N:A014_C115</th>\n",
       "      <th>N:A014_C202</th>\n",
       "      <th>N:A015_C008</th>\n",
       "      <th>N:A055_C111</th>\n",
       "      <th>N:A055_C211</th>\n",
       "      <th>T:A001_C007</th>\n",
       "      <th>CHR</th>\n",
       "      <th>start2</th>\n",
       "      <th>stop2</th>\n",
       "      <th>chrState</th>\n",
       "    </tr>\n",
       "  </thead>\n",
       "  <tbody>\n",
       "    <tr>\n",
       "      <th>0</th>\n",
       "      <td>Peak_103702</td>\n",
       "      <td>1000</td>\n",
       "      <td>153.03862</td>\n",
       "      <td>600</td>\n",
       "      <td>chr1</td>\n",
       "      <td>100440204</td>\n",
       "      <td>100440206</td>\n",
       "      <td>7.69</td>\n",
       "      <td>3.57</td>\n",
       "      <td>5.36</td>\n",
       "      <td>...</td>\n",
       "      <td>5.26</td>\n",
       "      <td>5.88</td>\n",
       "      <td>4.44</td>\n",
       "      <td>3.70</td>\n",
       "      <td>0.00</td>\n",
       "      <td>3.03</td>\n",
       "      <td>chr1</td>\n",
       "      <td>100439844</td>\n",
       "      <td>100440444</td>\n",
       "      <td>10_EnhA2</td>\n",
       "    </tr>\n",
       "    <tr>\n",
       "      <th>1</th>\n",
       "      <td>Peak_103702</td>\n",
       "      <td>1000</td>\n",
       "      <td>153.03862</td>\n",
       "      <td>600</td>\n",
       "      <td>chr1</td>\n",
       "      <td>100440409</td>\n",
       "      <td>100440411</td>\n",
       "      <td>13.04</td>\n",
       "      <td>9.30</td>\n",
       "      <td>6.82</td>\n",
       "      <td>...</td>\n",
       "      <td>10.26</td>\n",
       "      <td>12.50</td>\n",
       "      <td>17.74</td>\n",
       "      <td>15.00</td>\n",
       "      <td>19.61</td>\n",
       "      <td>3.70</td>\n",
       "      <td>chr1</td>\n",
       "      <td>100439844</td>\n",
       "      <td>100440444</td>\n",
       "      <td>10_EnhA2</td>\n",
       "    </tr>\n",
       "    <tr>\n",
       "      <th>2</th>\n",
       "      <td>Peak_24248</td>\n",
       "      <td>1000</td>\n",
       "      <td>909.79266</td>\n",
       "      <td>285</td>\n",
       "      <td>chr1</td>\n",
       "      <td>100440204</td>\n",
       "      <td>100440206</td>\n",
       "      <td>7.69</td>\n",
       "      <td>3.57</td>\n",
       "      <td>5.36</td>\n",
       "      <td>...</td>\n",
       "      <td>5.26</td>\n",
       "      <td>5.88</td>\n",
       "      <td>4.44</td>\n",
       "      <td>3.70</td>\n",
       "      <td>0.00</td>\n",
       "      <td>3.03</td>\n",
       "      <td>chr1</td>\n",
       "      <td>100439844</td>\n",
       "      <td>100440444</td>\n",
       "      <td>10_EnhA2</td>\n",
       "    </tr>\n",
       "    <tr>\n",
       "      <th>3</th>\n",
       "      <td>Peak_24248</td>\n",
       "      <td>1000</td>\n",
       "      <td>909.79266</td>\n",
       "      <td>285</td>\n",
       "      <td>chr1</td>\n",
       "      <td>100440409</td>\n",
       "      <td>100440411</td>\n",
       "      <td>13.04</td>\n",
       "      <td>9.30</td>\n",
       "      <td>6.82</td>\n",
       "      <td>...</td>\n",
       "      <td>10.26</td>\n",
       "      <td>12.50</td>\n",
       "      <td>17.74</td>\n",
       "      <td>15.00</td>\n",
       "      <td>19.61</td>\n",
       "      <td>3.70</td>\n",
       "      <td>chr1</td>\n",
       "      <td>100439844</td>\n",
       "      <td>100440444</td>\n",
       "      <td>10_EnhA2</td>\n",
       "    </tr>\n",
       "    <tr>\n",
       "      <th>4</th>\n",
       "      <td>Peak_163928</td>\n",
       "      <td>545</td>\n",
       "      <td>52.61214</td>\n",
       "      <td>118</td>\n",
       "      <td>chr1</td>\n",
       "      <td>100531119</td>\n",
       "      <td>100531121</td>\n",
       "      <td>56.25</td>\n",
       "      <td>55.71</td>\n",
       "      <td>45.83</td>\n",
       "      <td>...</td>\n",
       "      <td>41.67</td>\n",
       "      <td>31.71</td>\n",
       "      <td>39.53</td>\n",
       "      <td>53.06</td>\n",
       "      <td>50.00</td>\n",
       "      <td>55.17</td>\n",
       "      <td>chr1</td>\n",
       "      <td>100529444</td>\n",
       "      <td>100531644</td>\n",
       "      <td>10_EnhA2</td>\n",
       "    </tr>\n",
       "    <tr>\n",
       "      <th>...</th>\n",
       "      <td>...</td>\n",
       "      <td>...</td>\n",
       "      <td>...</td>\n",
       "      <td>...</td>\n",
       "      <td>...</td>\n",
       "      <td>...</td>\n",
       "      <td>...</td>\n",
       "      <td>...</td>\n",
       "      <td>...</td>\n",
       "      <td>...</td>\n",
       "      <td>...</td>\n",
       "      <td>...</td>\n",
       "      <td>...</td>\n",
       "      <td>...</td>\n",
       "      <td>...</td>\n",
       "      <td>...</td>\n",
       "      <td>...</td>\n",
       "      <td>...</td>\n",
       "      <td>...</td>\n",
       "      <td>...</td>\n",
       "      <td>...</td>\n",
       "    </tr>\n",
       "    <tr>\n",
       "      <th>315681</th>\n",
       "      <td>Peak_167824</td>\n",
       "      <td>513</td>\n",
       "      <td>49.40406</td>\n",
       "      <td>100</td>\n",
       "      <td>chr9</td>\n",
       "      <td>99907590</td>\n",
       "      <td>99907592</td>\n",
       "      <td>24.00</td>\n",
       "      <td>27.03</td>\n",
       "      <td>36.67</td>\n",
       "      <td>...</td>\n",
       "      <td>30.43</td>\n",
       "      <td>33.33</td>\n",
       "      <td>27.78</td>\n",
       "      <td>24.32</td>\n",
       "      <td>50.00</td>\n",
       "      <td>18.52</td>\n",
       "      <td>chr9</td>\n",
       "      <td>99907518</td>\n",
       "      <td>99907718</td>\n",
       "      <td>10_EnhA2</td>\n",
       "    </tr>\n",
       "    <tr>\n",
       "      <th>315682</th>\n",
       "      <td>Peak_20368</td>\n",
       "      <td>1000</td>\n",
       "      <td>1036.83118</td>\n",
       "      <td>1194</td>\n",
       "      <td>chr9</td>\n",
       "      <td>99907590</td>\n",
       "      <td>99907592</td>\n",
       "      <td>24.00</td>\n",
       "      <td>27.03</td>\n",
       "      <td>36.67</td>\n",
       "      <td>...</td>\n",
       "      <td>30.43</td>\n",
       "      <td>33.33</td>\n",
       "      <td>27.78</td>\n",
       "      <td>24.32</td>\n",
       "      <td>50.00</td>\n",
       "      <td>18.52</td>\n",
       "      <td>chr9</td>\n",
       "      <td>99907518</td>\n",
       "      <td>99907718</td>\n",
       "      <td>10_EnhA2</td>\n",
       "    </tr>\n",
       "    <tr>\n",
       "      <th>315683</th>\n",
       "      <td>Peak_208251</td>\n",
       "      <td>271</td>\n",
       "      <td>25.31115</td>\n",
       "      <td>1617</td>\n",
       "      <td>chr9</td>\n",
       "      <td>99907590</td>\n",
       "      <td>99907592</td>\n",
       "      <td>24.00</td>\n",
       "      <td>27.03</td>\n",
       "      <td>36.67</td>\n",
       "      <td>...</td>\n",
       "      <td>30.43</td>\n",
       "      <td>33.33</td>\n",
       "      <td>27.78</td>\n",
       "      <td>24.32</td>\n",
       "      <td>50.00</td>\n",
       "      <td>18.52</td>\n",
       "      <td>chr9</td>\n",
       "      <td>99907518</td>\n",
       "      <td>99907718</td>\n",
       "      <td>10_EnhA2</td>\n",
       "    </tr>\n",
       "    <tr>\n",
       "      <th>315684</th>\n",
       "      <td>Peak_21225</td>\n",
       "      <td>1000</td>\n",
       "      <td>1007.21161</td>\n",
       "      <td>979</td>\n",
       "      <td>chr9</td>\n",
       "      <td>99907590</td>\n",
       "      <td>99907592</td>\n",
       "      <td>24.00</td>\n",
       "      <td>27.03</td>\n",
       "      <td>36.67</td>\n",
       "      <td>...</td>\n",
       "      <td>30.43</td>\n",
       "      <td>33.33</td>\n",
       "      <td>27.78</td>\n",
       "      <td>24.32</td>\n",
       "      <td>50.00</td>\n",
       "      <td>18.52</td>\n",
       "      <td>chr9</td>\n",
       "      <td>99907518</td>\n",
       "      <td>99907718</td>\n",
       "      <td>10_EnhA2</td>\n",
       "    </tr>\n",
       "    <tr>\n",
       "      <th>315685</th>\n",
       "      <td>Peak_8855</td>\n",
       "      <td>1000</td>\n",
       "      <td>1682.28528</td>\n",
       "      <td>709</td>\n",
       "      <td>chr9</td>\n",
       "      <td>99907590</td>\n",
       "      <td>99907592</td>\n",
       "      <td>24.00</td>\n",
       "      <td>27.03</td>\n",
       "      <td>36.67</td>\n",
       "      <td>...</td>\n",
       "      <td>30.43</td>\n",
       "      <td>33.33</td>\n",
       "      <td>27.78</td>\n",
       "      <td>24.32</td>\n",
       "      <td>50.00</td>\n",
       "      <td>18.52</td>\n",
       "      <td>chr9</td>\n",
       "      <td>99907518</td>\n",
       "      <td>99907718</td>\n",
       "      <td>10_EnhA2</td>\n",
       "    </tr>\n",
       "  </tbody>\n",
       "</table>\n",
       "<p>315686 rows × 21 columns</p>\n",
       "</div>"
      ],
      "text/plain": [
       "               name  score  qValue(-log10)  peak   chr      start       stop  \\\n",
       "0       Peak_103702   1000       153.03862   600  chr1  100440204  100440206   \n",
       "1       Peak_103702   1000       153.03862   600  chr1  100440409  100440411   \n",
       "2        Peak_24248   1000       909.79266   285  chr1  100440204  100440206   \n",
       "3        Peak_24248   1000       909.79266   285  chr1  100440409  100440411   \n",
       "4       Peak_163928    545        52.61214   118  chr1  100531119  100531121   \n",
       "...             ...    ...             ...   ...   ...        ...        ...   \n",
       "315681  Peak_167824    513        49.40406   100  chr9   99907590   99907592   \n",
       "315682   Peak_20368   1000      1036.83118  1194  chr9   99907590   99907592   \n",
       "315683  Peak_208251    271        25.31115  1617  chr9   99907590   99907592   \n",
       "315684   Peak_21225   1000      1007.21161   979  chr9   99907590   99907592   \n",
       "315685    Peak_8855   1000      1682.28528   709  chr9   99907590   99907592   \n",
       "\n",
       "        N:A001_C021  N:A002_C121  N:A002_C212  ...  N:A014_C115  N:A014_C202  \\\n",
       "0              7.69         3.57         5.36  ...         5.26         5.88   \n",
       "1             13.04         9.30         6.82  ...        10.26        12.50   \n",
       "2              7.69         3.57         5.36  ...         5.26         5.88   \n",
       "3             13.04         9.30         6.82  ...        10.26        12.50   \n",
       "4             56.25        55.71        45.83  ...        41.67        31.71   \n",
       "...             ...          ...          ...  ...          ...          ...   \n",
       "315681        24.00        27.03        36.67  ...        30.43        33.33   \n",
       "315682        24.00        27.03        36.67  ...        30.43        33.33   \n",
       "315683        24.00        27.03        36.67  ...        30.43        33.33   \n",
       "315684        24.00        27.03        36.67  ...        30.43        33.33   \n",
       "315685        24.00        27.03        36.67  ...        30.43        33.33   \n",
       "\n",
       "        N:A015_C008  N:A055_C111  N:A055_C211  T:A001_C007   CHR     start2  \\\n",
       "0              4.44         3.70         0.00         3.03  chr1  100439844   \n",
       "1             17.74        15.00        19.61         3.70  chr1  100439844   \n",
       "2              4.44         3.70         0.00         3.03  chr1  100439844   \n",
       "3             17.74        15.00        19.61         3.70  chr1  100439844   \n",
       "4             39.53        53.06        50.00        55.17  chr1  100529444   \n",
       "...             ...          ...          ...          ...   ...        ...   \n",
       "315681        27.78        24.32        50.00        18.52  chr9   99907518   \n",
       "315682        27.78        24.32        50.00        18.52  chr9   99907518   \n",
       "315683        27.78        24.32        50.00        18.52  chr9   99907518   \n",
       "315684        27.78        24.32        50.00        18.52  chr9   99907518   \n",
       "315685        27.78        24.32        50.00        18.52  chr9   99907518   \n",
       "\n",
       "            stop2  chrState  \n",
       "0       100440444  10_EnhA2  \n",
       "1       100440444  10_EnhA2  \n",
       "2       100440444  10_EnhA2  \n",
       "3       100440444  10_EnhA2  \n",
       "4       100531644  10_EnhA2  \n",
       "...           ...       ...  \n",
       "315681   99907718  10_EnhA2  \n",
       "315682   99907718  10_EnhA2  \n",
       "315683   99907718  10_EnhA2  \n",
       "315684   99907718  10_EnhA2  \n",
       "315685   99907718  10_EnhA2  \n",
       "\n",
       "[315686 rows x 21 columns]"
      ]
     },
     "execution_count": 2,
     "metadata": {},
     "output_type": "execute_result"
    }
   ],
   "source": [
    "import pandas as pd \n",
    "\n",
    "df = pd.read_csv( '../../data/omics/asso_met_atac/chromState/fap.chrall23.ratio.E075_18_core_K27ac_hg38lift_dense.10_EnhA2.atac.N.bed', header=0, sep=\"\\t\" )\n",
    "df"
   ]
  },
  {
   "cell_type": "code",
   "execution_count": 3,
   "metadata": {},
   "outputs": [
    {
     "data": {
      "text/plain": [
       "339.3873385027849"
      ]
     },
     "execution_count": 3,
     "metadata": {},
     "output_type": "execute_result"
    }
   ],
   "source": [
    "df.loc[:,['name','score','qValue(-log10)','peak']].drop_duplicates()['qValue(-log10)'].mean()"
   ]
  },
  {
   "cell_type": "code",
   "execution_count": 4,
   "metadata": {},
   "outputs": [
    {
     "data": {
      "text/plain": [
       "45.907696290724154"
      ]
     },
     "execution_count": 4,
     "metadata": {},
     "output_type": "execute_result"
    }
   ],
   "source": [
    "df.loc[:,df.columns.str.contains('N:')].mean(axis=1).mean()"
   ]
  },
  {
   "cell_type": "code",
   "execution_count": 5,
   "metadata": {},
   "outputs": [],
   "source": [
    "#chromState=['1_TssA','2_TssFlnk','3_TssFlnkU','4_TssFlnkD','5_Tx','6_TxWk','7_EnhG1','9_EnhA1','10_EnhA2','8_EnhG2',\n",
    "#'11_EnhWk','12_ZNF_Rpts','13_Het','14_TssBiv','15_EnhBiv','16_ReprPC','17_ReprPCWk'] #,'18_Quies']\n",
    "\n",
    "chromState=['1_TssA','2_TssFlnk','3_TssFlnkU','4_TssFlnkD','5_Tx','6_TxWk','7_EnhG1','9_EnhA1','10_EnhA2','8_EnhG2',\n",
    "'11_EnhWk','12_ZNF_Rpts','13_Het'] #,'18_Quies']\n",
    "\n",
    "color_chromState= [\n",
    " 'rgb( 255,0,0)', # 1 Active TSS \n",
    " 'rgb( 255,69,0)', #  2 Flanking TSS \n",
    " 'rgb( 255,69,0)', #  3 Flanking TSS Upstream \n",
    " 'rgb( 255,69,0)', #  4 Flanking TSS Downstream \n",
    " 'rgb( 0,128,0)', #  5 Strong transcription \n",
    " 'rgb( 0,100,0)', #  6 Weak transcription \n",
    " 'rgb( 194,225,5)', #  7 Genic enhancer1 \n",
    " 'rgb( 255,195,77)', #  9 Active Enhancer 1 \n",
    " 'rgb( 255,195,77)', #  10 Active Enhancer 2 \n",
    " 'rgb( 194,225,5)', #  8 Genic enhancer2 \n",
    " 'rgb( 255,255,0)', #  11 Weak Enhancer \n",
    " 'rgb( 102,205,170)', #  12 ZNF genes & repeats \n",
    " 'rgb( 138,145,208)', #  13 Heterochromatin \n",
    "# 'rgb( 205,92,92)', #  14 Bivalent/Poised TSS \n",
    "# 'rgb( 189,183,107)', #  15 Bivalent Enhancer \n",
    "# 'rgb( 128,128,128)', #  16 Repressed PolyComb \n",
    "# 'rgb( 192,192,192)', #  17 Weak Repressed PolyComb \n",
    " #'rgb( 255,255,255)' #  18 Quiescent/Low \n",
    " ]\n",
    "\n"
   ]
  },
  {
   "cell_type": "code",
   "execution_count": 6,
   "metadata": {},
   "outputs": [
    {
     "data": {
      "text/plain": [
       "array([], shape=(0, 3), dtype=float64)"
      ]
     },
     "execution_count": 6,
     "metadata": {},
     "output_type": "execute_result"
    }
   ],
   "source": [
    "import numpy as np\n",
    "\n",
    "arr_sum = np.empty([0,3])\n",
    "arr_sum"
   ]
  },
  {
   "cell_type": "code",
   "execution_count": 7,
   "metadata": {},
   "outputs": [
    {
     "name": "stdout",
     "output_type": "stream",
     "text": [
      "1_TssA 3404731 15.04067649297654 4.020239078875404 616.4768930175815\n",
      "[4.020239078875404, 616.4768930175815, 3404731]\n",
      "2_TssFlnk 798547 13.590549105268181 7.547525646267369 537.4599776070352\n",
      "[7.547525646267369, 537.4599776070352, 798547]\n",
      "3_TssFlnkU 1123659 13.932100882623596 8.636441976088845 581.6378850513034\n",
      "[8.636441976088845, 581.6378850513034, 1123659]\n",
      "4_TssFlnkD 366856 12.812724679467026 11.856839300865909 478.0923430362367\n",
      "[11.856839300865909, 478.0923430362367, 366856]\n",
      "5_Tx 60730 11.014193088891622 78.59462218905271 106.52008678782755\n",
      "[78.59462218905271, 106.52008678782755, 60730]\n",
      "6_TxWk 212362 12.266047644622745 56.35794084385092 186.46835236825203\n",
      "[56.35794084385092, 186.46835236825203, 212362]\n",
      "7_EnhG1 33932 10.432113800927626 60.70434437468889 231.2758664840881\n",
      "[60.70434437468889, 231.2758664840881, 33932]\n",
      "9_EnhA1 182096 12.11228929952167 44.694051906150534 388.469031843957\n",
      "[44.694051906150534, 388.469031843957, 182096]\n",
      "10_EnhA2 315686 12.662503327664771 45.907696290724154 339.3873385027849\n",
      "[45.907696290724154, 339.3873385027849, 315686]\n",
      "8_EnhG2 22315 10.01301437706337 47.441515373316406 393.4645752261019\n",
      "[47.441515373316406, 393.4645752261019, 22315]\n",
      "11_EnhWk 155849 11.956642868748848 44.97908578909059 261.51464753524937\n",
      "[44.97908578909059, 261.51464753524937, 155849]\n",
      "12_ZNF_Rpts 9161 9.122710622015209 46.68809305833177 156.61414955116695\n",
      "[46.68809305833177, 156.61414955116695, 9161]\n",
      "13_Het 5374 8.589327789175437 55.87389043041148 114.35005271954675\n",
      "[55.87389043041148, 114.35005271954675, 5374]\n"
     ]
    }
   ],
   "source": [
    "for s in chromState : \n",
    "    f = \"../../data/omics/asso_met_atac/chromState/fap.chrall23.ratio.E075_18_core_K27ac_hg38lift_dense.{}.atac.N.bed\".format(s)\n",
    "    #print (f)\n",
    "    df = pd.read_csv( f, header=0, sep=\"\\t\" )\n",
    "    met = df.loc[:,df.columns.str.contains('N:')].mean(axis=1).mean()\n",
    "    atac = df.loc[:,['name','score','qValue(-log10)','peak']].drop_duplicates()['qValue(-log10)'].mean()\n",
    "    print (s, df.shape[0], np.log(df.shape[0]), met, atac)\n",
    "    print ( [met, atac, df.shape[0]] )\n",
    "    arr_sum = np.append(arr_sum, [[met, atac, df.shape[0]]], axis=0 )\n",
    "    \n",
    "    "
   ]
  },
  {
   "cell_type": "code",
   "execution_count": 8,
   "metadata": {},
   "outputs": [
    {
     "data": {
      "text/plain": [
       "array([[4.02023908e+00, 6.16476893e+02, 3.40473100e+06],\n",
       "       [7.54752565e+00, 5.37459978e+02, 7.98547000e+05],\n",
       "       [8.63644198e+00, 5.81637885e+02, 1.12365900e+06],\n",
       "       [1.18568393e+01, 4.78092343e+02, 3.66856000e+05],\n",
       "       [7.85946222e+01, 1.06520087e+02, 6.07300000e+04],\n",
       "       [5.63579408e+01, 1.86468352e+02, 2.12362000e+05],\n",
       "       [6.07043444e+01, 2.31275866e+02, 3.39320000e+04],\n",
       "       [4.46940519e+01, 3.88469032e+02, 1.82096000e+05],\n",
       "       [4.59076963e+01, 3.39387339e+02, 3.15686000e+05],\n",
       "       [4.74415154e+01, 3.93464575e+02, 2.23150000e+04],\n",
       "       [4.49790858e+01, 2.61514648e+02, 1.55849000e+05],\n",
       "       [4.66880931e+01, 1.56614150e+02, 9.16100000e+03],\n",
       "       [5.58738904e+01, 1.14350053e+02, 5.37400000e+03]])"
      ]
     },
     "execution_count": 8,
     "metadata": {},
     "output_type": "execute_result"
    }
   ],
   "source": [
    "arr_sum"
   ]
  },
  {
   "cell_type": "code",
   "execution_count": 9,
   "metadata": {},
   "outputs": [
    {
     "data": {
      "text/html": [
       "<div>\n",
       "<style scoped>\n",
       "    .dataframe tbody tr th:only-of-type {\n",
       "        vertical-align: middle;\n",
       "    }\n",
       "\n",
       "    .dataframe tbody tr th {\n",
       "        vertical-align: top;\n",
       "    }\n",
       "\n",
       "    .dataframe thead th {\n",
       "        text-align: right;\n",
       "    }\n",
       "</style>\n",
       "<table border=\"1\" class=\"dataframe\">\n",
       "  <thead>\n",
       "    <tr style=\"text-align: right;\">\n",
       "      <th></th>\n",
       "      <th>met</th>\n",
       "      <th>atac</th>\n",
       "      <th>size</th>\n",
       "    </tr>\n",
       "  </thead>\n",
       "  <tbody>\n",
       "    <tr>\n",
       "      <th>1_TssA</th>\n",
       "      <td>4.020239</td>\n",
       "      <td>616.476893</td>\n",
       "      <td>3404731.0</td>\n",
       "    </tr>\n",
       "    <tr>\n",
       "      <th>2_TssFlnk</th>\n",
       "      <td>7.547526</td>\n",
       "      <td>537.459978</td>\n",
       "      <td>798547.0</td>\n",
       "    </tr>\n",
       "    <tr>\n",
       "      <th>3_TssFlnkU</th>\n",
       "      <td>8.636442</td>\n",
       "      <td>581.637885</td>\n",
       "      <td>1123659.0</td>\n",
       "    </tr>\n",
       "    <tr>\n",
       "      <th>4_TssFlnkD</th>\n",
       "      <td>11.856839</td>\n",
       "      <td>478.092343</td>\n",
       "      <td>366856.0</td>\n",
       "    </tr>\n",
       "    <tr>\n",
       "      <th>5_Tx</th>\n",
       "      <td>78.594622</td>\n",
       "      <td>106.520087</td>\n",
       "      <td>60730.0</td>\n",
       "    </tr>\n",
       "    <tr>\n",
       "      <th>6_TxWk</th>\n",
       "      <td>56.357941</td>\n",
       "      <td>186.468352</td>\n",
       "      <td>212362.0</td>\n",
       "    </tr>\n",
       "    <tr>\n",
       "      <th>7_EnhG1</th>\n",
       "      <td>60.704344</td>\n",
       "      <td>231.275866</td>\n",
       "      <td>33932.0</td>\n",
       "    </tr>\n",
       "    <tr>\n",
       "      <th>9_EnhA1</th>\n",
       "      <td>44.694052</td>\n",
       "      <td>388.469032</td>\n",
       "      <td>182096.0</td>\n",
       "    </tr>\n",
       "    <tr>\n",
       "      <th>10_EnhA2</th>\n",
       "      <td>45.907696</td>\n",
       "      <td>339.387339</td>\n",
       "      <td>315686.0</td>\n",
       "    </tr>\n",
       "    <tr>\n",
       "      <th>8_EnhG2</th>\n",
       "      <td>47.441515</td>\n",
       "      <td>393.464575</td>\n",
       "      <td>22315.0</td>\n",
       "    </tr>\n",
       "    <tr>\n",
       "      <th>11_EnhWk</th>\n",
       "      <td>44.979086</td>\n",
       "      <td>261.514648</td>\n",
       "      <td>155849.0</td>\n",
       "    </tr>\n",
       "    <tr>\n",
       "      <th>12_ZNF_Rpts</th>\n",
       "      <td>46.688093</td>\n",
       "      <td>156.614150</td>\n",
       "      <td>9161.0</td>\n",
       "    </tr>\n",
       "    <tr>\n",
       "      <th>13_Het</th>\n",
       "      <td>55.873890</td>\n",
       "      <td>114.350053</td>\n",
       "      <td>5374.0</td>\n",
       "    </tr>\n",
       "  </tbody>\n",
       "</table>\n",
       "</div>"
      ],
      "text/plain": [
       "                   met        atac       size\n",
       "1_TssA        4.020239  616.476893  3404731.0\n",
       "2_TssFlnk     7.547526  537.459978   798547.0\n",
       "3_TssFlnkU    8.636442  581.637885  1123659.0\n",
       "4_TssFlnkD   11.856839  478.092343   366856.0\n",
       "5_Tx         78.594622  106.520087    60730.0\n",
       "6_TxWk       56.357941  186.468352   212362.0\n",
       "7_EnhG1      60.704344  231.275866    33932.0\n",
       "9_EnhA1      44.694052  388.469032   182096.0\n",
       "10_EnhA2     45.907696  339.387339   315686.0\n",
       "8_EnhG2      47.441515  393.464575    22315.0\n",
       "11_EnhWk     44.979086  261.514648   155849.0\n",
       "12_ZNF_Rpts  46.688093  156.614150     9161.0\n",
       "13_Het       55.873890  114.350053     5374.0"
      ]
     },
     "execution_count": 9,
     "metadata": {},
     "output_type": "execute_result"
    }
   ],
   "source": [
    "df = pd.DataFrame(arr_sum, columns = ['met','atac','size'], index= chromState)\n",
    "df"
   ]
  },
  {
   "cell_type": "code",
   "execution_count": 10,
   "metadata": {},
   "outputs": [
    {
     "data": {
      "text/plain": [
       "array([15.04067649, 13.59054911, 13.93210088, 12.81272468, 11.01419309,\n",
       "       12.26604764, 10.4321138 , 12.1122893 , 12.66250333, 10.01301438,\n",
       "       11.95664287,  9.12271062,  8.58932779])"
      ]
     },
     "execution_count": 10,
     "metadata": {},
     "output_type": "execute_result"
    }
   ],
   "source": [
    "np.log(df['size'].to_list())"
   ]
  },
  {
   "cell_type": "code",
   "execution_count": 11,
   "metadata": {},
   "outputs": [
    {
     "data": {
      "text/html": [
       "<div>\n",
       "<style scoped>\n",
       "    .dataframe tbody tr th:only-of-type {\n",
       "        vertical-align: middle;\n",
       "    }\n",
       "\n",
       "    .dataframe tbody tr th {\n",
       "        vertical-align: top;\n",
       "    }\n",
       "\n",
       "    .dataframe thead th {\n",
       "        text-align: right;\n",
       "    }\n",
       "</style>\n",
       "<table border=\"1\" class=\"dataframe\">\n",
       "  <thead>\n",
       "    <tr style=\"text-align: right;\">\n",
       "      <th></th>\n",
       "      <th>met</th>\n",
       "      <th>atac</th>\n",
       "      <th>size</th>\n",
       "      <th>color</th>\n",
       "      <th>text</th>\n",
       "    </tr>\n",
       "  </thead>\n",
       "  <tbody>\n",
       "    <tr>\n",
       "      <th>1_TssA</th>\n",
       "      <td>4.020239</td>\n",
       "      <td>616.476893</td>\n",
       "      <td>3404731.0</td>\n",
       "      <td>rgb( 255,0,0)</td>\n",
       "      <td>1_TssA&lt;br&gt;#CpG: 3,404,731</td>\n",
       "    </tr>\n",
       "    <tr>\n",
       "      <th>2_TssFlnk</th>\n",
       "      <td>7.547526</td>\n",
       "      <td>537.459978</td>\n",
       "      <td>798547.0</td>\n",
       "      <td>rgb( 255,69,0)</td>\n",
       "      <td>2_TssFlnk&lt;br&gt;#CpG: 798,547</td>\n",
       "    </tr>\n",
       "    <tr>\n",
       "      <th>3_TssFlnkU</th>\n",
       "      <td>8.636442</td>\n",
       "      <td>581.637885</td>\n",
       "      <td>1123659.0</td>\n",
       "      <td>rgb( 255,69,0)</td>\n",
       "      <td>3_TssFlnkU&lt;br&gt;#CpG: 1,123,659</td>\n",
       "    </tr>\n",
       "    <tr>\n",
       "      <th>4_TssFlnkD</th>\n",
       "      <td>11.856839</td>\n",
       "      <td>478.092343</td>\n",
       "      <td>366856.0</td>\n",
       "      <td>rgb( 255,69,0)</td>\n",
       "      <td>4_TssFlnkD&lt;br&gt;#CpG: 366,856</td>\n",
       "    </tr>\n",
       "    <tr>\n",
       "      <th>5_Tx</th>\n",
       "      <td>78.594622</td>\n",
       "      <td>106.520087</td>\n",
       "      <td>60730.0</td>\n",
       "      <td>rgb( 0,128,0)</td>\n",
       "      <td>5_Tx&lt;br&gt;#CpG: 60,730</td>\n",
       "    </tr>\n",
       "    <tr>\n",
       "      <th>6_TxWk</th>\n",
       "      <td>56.357941</td>\n",
       "      <td>186.468352</td>\n",
       "      <td>212362.0</td>\n",
       "      <td>rgb( 0,100,0)</td>\n",
       "      <td>6_TxWk&lt;br&gt;#CpG: 212,362</td>\n",
       "    </tr>\n",
       "    <tr>\n",
       "      <th>7_EnhG1</th>\n",
       "      <td>60.704344</td>\n",
       "      <td>231.275866</td>\n",
       "      <td>33932.0</td>\n",
       "      <td>rgb( 194,225,5)</td>\n",
       "      <td>7_EnhG1&lt;br&gt;#CpG: 33,932</td>\n",
       "    </tr>\n",
       "    <tr>\n",
       "      <th>9_EnhA1</th>\n",
       "      <td>44.694052</td>\n",
       "      <td>388.469032</td>\n",
       "      <td>182096.0</td>\n",
       "      <td>rgb( 255,195,77)</td>\n",
       "      <td>9_EnhA1&lt;br&gt;#CpG: 182,096</td>\n",
       "    </tr>\n",
       "    <tr>\n",
       "      <th>10_EnhA2</th>\n",
       "      <td>45.907696</td>\n",
       "      <td>339.387339</td>\n",
       "      <td>315686.0</td>\n",
       "      <td>rgb( 255,195,77)</td>\n",
       "      <td>10_EnhA2&lt;br&gt;#CpG: 315,686</td>\n",
       "    </tr>\n",
       "    <tr>\n",
       "      <th>8_EnhG2</th>\n",
       "      <td>47.441515</td>\n",
       "      <td>393.464575</td>\n",
       "      <td>22315.0</td>\n",
       "      <td>rgb( 194,225,5)</td>\n",
       "      <td>8_EnhG2&lt;br&gt;#CpG: 22,315</td>\n",
       "    </tr>\n",
       "    <tr>\n",
       "      <th>11_EnhWk</th>\n",
       "      <td>44.979086</td>\n",
       "      <td>261.514648</td>\n",
       "      <td>155849.0</td>\n",
       "      <td>rgb( 255,255,0)</td>\n",
       "      <td>11_EnhWk&lt;br&gt;#CpG: 155,849</td>\n",
       "    </tr>\n",
       "    <tr>\n",
       "      <th>12_ZNF_Rpts</th>\n",
       "      <td>46.688093</td>\n",
       "      <td>156.614150</td>\n",
       "      <td>9161.0</td>\n",
       "      <td>rgb( 102,205,170)</td>\n",
       "      <td>12_ZNF_Rpts&lt;br&gt;#CpG: 9,161</td>\n",
       "    </tr>\n",
       "    <tr>\n",
       "      <th>13_Het</th>\n",
       "      <td>55.873890</td>\n",
       "      <td>114.350053</td>\n",
       "      <td>5374.0</td>\n",
       "      <td>rgb( 138,145,208)</td>\n",
       "      <td>13_Het&lt;br&gt;#CpG: 5,374</td>\n",
       "    </tr>\n",
       "  </tbody>\n",
       "</table>\n",
       "</div>"
      ],
      "text/plain": [
       "                   met        atac       size              color  \\\n",
       "1_TssA        4.020239  616.476893  3404731.0      rgb( 255,0,0)   \n",
       "2_TssFlnk     7.547526  537.459978   798547.0     rgb( 255,69,0)   \n",
       "3_TssFlnkU    8.636442  581.637885  1123659.0     rgb( 255,69,0)   \n",
       "4_TssFlnkD   11.856839  478.092343   366856.0     rgb( 255,69,0)   \n",
       "5_Tx         78.594622  106.520087    60730.0      rgb( 0,128,0)   \n",
       "6_TxWk       56.357941  186.468352   212362.0      rgb( 0,100,0)   \n",
       "7_EnhG1      60.704344  231.275866    33932.0    rgb( 194,225,5)   \n",
       "9_EnhA1      44.694052  388.469032   182096.0   rgb( 255,195,77)   \n",
       "10_EnhA2     45.907696  339.387339   315686.0   rgb( 255,195,77)   \n",
       "8_EnhG2      47.441515  393.464575    22315.0    rgb( 194,225,5)   \n",
       "11_EnhWk     44.979086  261.514648   155849.0    rgb( 255,255,0)   \n",
       "12_ZNF_Rpts  46.688093  156.614150     9161.0  rgb( 102,205,170)   \n",
       "13_Het       55.873890  114.350053     5374.0  rgb( 138,145,208)   \n",
       "\n",
       "                                      text  \n",
       "1_TssA           1_TssA<br>#CpG: 3,404,731  \n",
       "2_TssFlnk       2_TssFlnk<br>#CpG: 798,547  \n",
       "3_TssFlnkU   3_TssFlnkU<br>#CpG: 1,123,659  \n",
       "4_TssFlnkD     4_TssFlnkD<br>#CpG: 366,856  \n",
       "5_Tx                  5_Tx<br>#CpG: 60,730  \n",
       "6_TxWk             6_TxWk<br>#CpG: 212,362  \n",
       "7_EnhG1            7_EnhG1<br>#CpG: 33,932  \n",
       "9_EnhA1           9_EnhA1<br>#CpG: 182,096  \n",
       "10_EnhA2         10_EnhA2<br>#CpG: 315,686  \n",
       "8_EnhG2            8_EnhG2<br>#CpG: 22,315  \n",
       "11_EnhWk         11_EnhWk<br>#CpG: 155,849  \n",
       "12_ZNF_Rpts     12_ZNF_Rpts<br>#CpG: 9,161  \n",
       "13_Het               13_Het<br>#CpG: 5,374  "
      ]
     },
     "execution_count": 11,
     "metadata": {},
     "output_type": "execute_result"
    }
   ],
   "source": [
    "\n",
    "df = pd.concat([df, pd.DataFrame(color_chromState, index=chromState, columns=['color'])], axis=1)\n",
    "df_text = []\n",
    "for index, row in df.iterrows() : \n",
    "    df_text.append( \"{}<br>#CpG: {:,.0f}\".format( index, row['size'] ) )\n",
    "\n",
    "df['text'] = df_text\n",
    "df"
   ]
  },
  {
   "cell_type": "code",
   "execution_count": 12,
   "metadata": {},
   "outputs": [
    {
     "data": {
      "text/html": [
       "<div>\n",
       "<style scoped>\n",
       "    .dataframe tbody tr th:only-of-type {\n",
       "        vertical-align: middle;\n",
       "    }\n",
       "\n",
       "    .dataframe tbody tr th {\n",
       "        vertical-align: top;\n",
       "    }\n",
       "\n",
       "    .dataframe thead th {\n",
       "        text-align: right;\n",
       "    }\n",
       "</style>\n",
       "<table border=\"1\" class=\"dataframe\">\n",
       "  <thead>\n",
       "    <tr style=\"text-align: right;\">\n",
       "      <th></th>\n",
       "      <th>x</th>\n",
       "      <th>y</th>\n",
       "      <th>size</th>\n",
       "    </tr>\n",
       "  </thead>\n",
       "  <tbody>\n",
       "    <tr>\n",
       "      <th>0</th>\n",
       "      <td>140</td>\n",
       "      <td>500</td>\n",
       "      <td>3000000</td>\n",
       "    </tr>\n",
       "    <tr>\n",
       "      <th>1</th>\n",
       "      <td>140</td>\n",
       "      <td>500</td>\n",
       "      <td>1000000</td>\n",
       "    </tr>\n",
       "    <tr>\n",
       "      <th>2</th>\n",
       "      <td>140</td>\n",
       "      <td>500</td>\n",
       "      <td>100000</td>\n",
       "    </tr>\n",
       "    <tr>\n",
       "      <th>3</th>\n",
       "      <td>140</td>\n",
       "      <td>500</td>\n",
       "      <td>10000</td>\n",
       "    </tr>\n",
       "  </tbody>\n",
       "</table>\n",
       "</div>"
      ],
      "text/plain": [
       "     x    y     size\n",
       "0  140  500  3000000\n",
       "1  140  500  1000000\n",
       "2  140  500   100000\n",
       "3  140  500    10000"
      ]
     },
     "execution_count": 12,
     "metadata": {},
     "output_type": "execute_result"
    }
   ],
   "source": [
    "df_bubble = pd.DataFrame([[140,500,3000000],[140,500,1000000],[140,500,100000],[140,500,10000]], columns=['x','y','size'])\n",
    "df_bubble"
   ]
  },
  {
   "cell_type": "code",
   "execution_count": 16,
   "metadata": {},
   "outputs": [
    {
     "data": {
      "application/vnd.plotly.v1+json": {
       "config": {
        "plotlyServerURL": "https://plot.ly"
       },
       "data": [
        {
         "marker": {
          "color": [
           "rgb( 255,0,0)",
           "rgb( 255,69,0)",
           "rgb( 255,69,0)",
           "rgb( 255,69,0)",
           "rgb( 0,128,0)",
           "rgb( 0,100,0)",
           "rgb( 194,225,5)",
           "rgb( 255,195,77)",
           "rgb( 255,195,77)",
           "rgb( 194,225,5)",
           "rgb( 255,255,0)",
           "rgb( 102,205,170)",
           "rgb( 138,145,208)",
           "rgb( 205,92,92)",
           "rgb( 189,183,107)",
           "rgb( 128,128,128)",
           "rgb( 192,192,192)",
           "rgb( 255,255,255)"
          ],
          "size": [
           34047.31,
           7985.47,
           11236.59,
           3668.56,
           607.3,
           2123.62,
           339.32,
           1820.96,
           3156.86,
           223.15,
           1558.49,
           91.61,
           53.74
          ],
          "sizemode": "area"
         },
         "mode": "markers",
         "opacity": 0.8,
         "text": [
          "1_TssA<br>#CpG: 3,404,731",
          "2_TssFlnk<br>#CpG: 798,547",
          "3_TssFlnkU<br>#CpG: 1,123,659",
          "4_TssFlnkD<br>#CpG: 366,856",
          "5_Tx<br>#CpG: 60,730",
          "6_TxWk<br>#CpG: 212,362",
          "7_EnhG1<br>#CpG: 33,932",
          "9_EnhA1<br>#CpG: 182,096",
          "10_EnhA2<br>#CpG: 315,686",
          "8_EnhG2<br>#CpG: 22,315",
          "11_EnhWk<br>#CpG: 155,849",
          "12_ZNF_Rpts<br>#CpG: 9,161",
          "13_Het<br>#CpG: 5,374"
         ],
         "type": "scatter",
         "x": [
          4.020239078875404,
          7.547525646267369,
          8.636441976088845,
          11.856839300865909,
          78.59462218905271,
          56.35794084385092,
          60.70434437468889,
          44.694051906150534,
          45.907696290724154,
          47.441515373316406,
          44.97908578909059,
          46.68809305833177,
          55.87389043041148
         ],
         "y": [
          616.4768930175815,
          537.4599776070352,
          581.6378850513034,
          478.0923430362367,
          106.52008678782755,
          186.46835236825203,
          231.2758664840881,
          388.469031843957,
          339.3873385027849,
          393.4645752261019,
          261.51464753524937,
          156.61414955116695,
          114.35005271954675
         ]
        },
        {
         "marker": {
          "color": "rgb(200,200,200)",
          "size": [
           30000,
           10000,
           1000,
           100
          ],
          "sizemode": "area"
         },
         "mode": "markers",
         "opacity": 0.8,
         "text": [
          3000000,
          1000000,
          100000,
          10000
         ],
         "type": "scatter",
         "x": [
          140,
          140,
          140,
          140
         ],
         "y": [
          500,
          500,
          500,
          500
         ]
        }
       ],
       "layout": {
        "font": {
         "color": "black",
         "family": "Arial, monospace",
         "size": 14
        },
        "height": 700,
        "legend": {
         "bgcolor": "rgb(255, 255, 255)",
         "bordercolor": "Black",
         "borderwidth": 1
        },
        "plot_bgcolor": "rgb(255,255,255)",
        "showlegend": false,
        "template": {
         "data": {
          "bar": [
           {
            "error_x": {
             "color": "#2a3f5f"
            },
            "error_y": {
             "color": "#2a3f5f"
            },
            "marker": {
             "line": {
              "color": "#E5ECF6",
              "width": 0.5
             },
             "pattern": {
              "fillmode": "overlay",
              "size": 10,
              "solidity": 0.2
             }
            },
            "type": "bar"
           }
          ],
          "barpolar": [
           {
            "marker": {
             "line": {
              "color": "#E5ECF6",
              "width": 0.5
             },
             "pattern": {
              "fillmode": "overlay",
              "size": 10,
              "solidity": 0.2
             }
            },
            "type": "barpolar"
           }
          ],
          "carpet": [
           {
            "aaxis": {
             "endlinecolor": "#2a3f5f",
             "gridcolor": "white",
             "linecolor": "white",
             "minorgridcolor": "white",
             "startlinecolor": "#2a3f5f"
            },
            "baxis": {
             "endlinecolor": "#2a3f5f",
             "gridcolor": "white",
             "linecolor": "white",
             "minorgridcolor": "white",
             "startlinecolor": "#2a3f5f"
            },
            "type": "carpet"
           }
          ],
          "choropleth": [
           {
            "colorbar": {
             "outlinewidth": 0,
             "ticks": ""
            },
            "type": "choropleth"
           }
          ],
          "contour": [
           {
            "colorbar": {
             "outlinewidth": 0,
             "ticks": ""
            },
            "colorscale": [
             [
              0,
              "#0d0887"
             ],
             [
              0.1111111111111111,
              "#46039f"
             ],
             [
              0.2222222222222222,
              "#7201a8"
             ],
             [
              0.3333333333333333,
              "#9c179e"
             ],
             [
              0.4444444444444444,
              "#bd3786"
             ],
             [
              0.5555555555555556,
              "#d8576b"
             ],
             [
              0.6666666666666666,
              "#ed7953"
             ],
             [
              0.7777777777777778,
              "#fb9f3a"
             ],
             [
              0.8888888888888888,
              "#fdca26"
             ],
             [
              1,
              "#f0f921"
             ]
            ],
            "type": "contour"
           }
          ],
          "contourcarpet": [
           {
            "colorbar": {
             "outlinewidth": 0,
             "ticks": ""
            },
            "type": "contourcarpet"
           }
          ],
          "heatmap": [
           {
            "colorbar": {
             "outlinewidth": 0,
             "ticks": ""
            },
            "colorscale": [
             [
              0,
              "#0d0887"
             ],
             [
              0.1111111111111111,
              "#46039f"
             ],
             [
              0.2222222222222222,
              "#7201a8"
             ],
             [
              0.3333333333333333,
              "#9c179e"
             ],
             [
              0.4444444444444444,
              "#bd3786"
             ],
             [
              0.5555555555555556,
              "#d8576b"
             ],
             [
              0.6666666666666666,
              "#ed7953"
             ],
             [
              0.7777777777777778,
              "#fb9f3a"
             ],
             [
              0.8888888888888888,
              "#fdca26"
             ],
             [
              1,
              "#f0f921"
             ]
            ],
            "type": "heatmap"
           }
          ],
          "heatmapgl": [
           {
            "colorbar": {
             "outlinewidth": 0,
             "ticks": ""
            },
            "colorscale": [
             [
              0,
              "#0d0887"
             ],
             [
              0.1111111111111111,
              "#46039f"
             ],
             [
              0.2222222222222222,
              "#7201a8"
             ],
             [
              0.3333333333333333,
              "#9c179e"
             ],
             [
              0.4444444444444444,
              "#bd3786"
             ],
             [
              0.5555555555555556,
              "#d8576b"
             ],
             [
              0.6666666666666666,
              "#ed7953"
             ],
             [
              0.7777777777777778,
              "#fb9f3a"
             ],
             [
              0.8888888888888888,
              "#fdca26"
             ],
             [
              1,
              "#f0f921"
             ]
            ],
            "type": "heatmapgl"
           }
          ],
          "histogram": [
           {
            "marker": {
             "pattern": {
              "fillmode": "overlay",
              "size": 10,
              "solidity": 0.2
             }
            },
            "type": "histogram"
           }
          ],
          "histogram2d": [
           {
            "colorbar": {
             "outlinewidth": 0,
             "ticks": ""
            },
            "colorscale": [
             [
              0,
              "#0d0887"
             ],
             [
              0.1111111111111111,
              "#46039f"
             ],
             [
              0.2222222222222222,
              "#7201a8"
             ],
             [
              0.3333333333333333,
              "#9c179e"
             ],
             [
              0.4444444444444444,
              "#bd3786"
             ],
             [
              0.5555555555555556,
              "#d8576b"
             ],
             [
              0.6666666666666666,
              "#ed7953"
             ],
             [
              0.7777777777777778,
              "#fb9f3a"
             ],
             [
              0.8888888888888888,
              "#fdca26"
             ],
             [
              1,
              "#f0f921"
             ]
            ],
            "type": "histogram2d"
           }
          ],
          "histogram2dcontour": [
           {
            "colorbar": {
             "outlinewidth": 0,
             "ticks": ""
            },
            "colorscale": [
             [
              0,
              "#0d0887"
             ],
             [
              0.1111111111111111,
              "#46039f"
             ],
             [
              0.2222222222222222,
              "#7201a8"
             ],
             [
              0.3333333333333333,
              "#9c179e"
             ],
             [
              0.4444444444444444,
              "#bd3786"
             ],
             [
              0.5555555555555556,
              "#d8576b"
             ],
             [
              0.6666666666666666,
              "#ed7953"
             ],
             [
              0.7777777777777778,
              "#fb9f3a"
             ],
             [
              0.8888888888888888,
              "#fdca26"
             ],
             [
              1,
              "#f0f921"
             ]
            ],
            "type": "histogram2dcontour"
           }
          ],
          "mesh3d": [
           {
            "colorbar": {
             "outlinewidth": 0,
             "ticks": ""
            },
            "type": "mesh3d"
           }
          ],
          "parcoords": [
           {
            "line": {
             "colorbar": {
              "outlinewidth": 0,
              "ticks": ""
             }
            },
            "type": "parcoords"
           }
          ],
          "pie": [
           {
            "automargin": true,
            "type": "pie"
           }
          ],
          "scatter": [
           {
            "fillpattern": {
             "fillmode": "overlay",
             "size": 10,
             "solidity": 0.2
            },
            "type": "scatter"
           }
          ],
          "scatter3d": [
           {
            "line": {
             "colorbar": {
              "outlinewidth": 0,
              "ticks": ""
             }
            },
            "marker": {
             "colorbar": {
              "outlinewidth": 0,
              "ticks": ""
             }
            },
            "type": "scatter3d"
           }
          ],
          "scattercarpet": [
           {
            "marker": {
             "colorbar": {
              "outlinewidth": 0,
              "ticks": ""
             }
            },
            "type": "scattercarpet"
           }
          ],
          "scattergeo": [
           {
            "marker": {
             "colorbar": {
              "outlinewidth": 0,
              "ticks": ""
             }
            },
            "type": "scattergeo"
           }
          ],
          "scattergl": [
           {
            "marker": {
             "colorbar": {
              "outlinewidth": 0,
              "ticks": ""
             }
            },
            "type": "scattergl"
           }
          ],
          "scattermapbox": [
           {
            "marker": {
             "colorbar": {
              "outlinewidth": 0,
              "ticks": ""
             }
            },
            "type": "scattermapbox"
           }
          ],
          "scatterpolar": [
           {
            "marker": {
             "colorbar": {
              "outlinewidth": 0,
              "ticks": ""
             }
            },
            "type": "scatterpolar"
           }
          ],
          "scatterpolargl": [
           {
            "marker": {
             "colorbar": {
              "outlinewidth": 0,
              "ticks": ""
             }
            },
            "type": "scatterpolargl"
           }
          ],
          "scatterternary": [
           {
            "marker": {
             "colorbar": {
              "outlinewidth": 0,
              "ticks": ""
             }
            },
            "type": "scatterternary"
           }
          ],
          "surface": [
           {
            "colorbar": {
             "outlinewidth": 0,
             "ticks": ""
            },
            "colorscale": [
             [
              0,
              "#0d0887"
             ],
             [
              0.1111111111111111,
              "#46039f"
             ],
             [
              0.2222222222222222,
              "#7201a8"
             ],
             [
              0.3333333333333333,
              "#9c179e"
             ],
             [
              0.4444444444444444,
              "#bd3786"
             ],
             [
              0.5555555555555556,
              "#d8576b"
             ],
             [
              0.6666666666666666,
              "#ed7953"
             ],
             [
              0.7777777777777778,
              "#fb9f3a"
             ],
             [
              0.8888888888888888,
              "#fdca26"
             ],
             [
              1,
              "#f0f921"
             ]
            ],
            "type": "surface"
           }
          ],
          "table": [
           {
            "cells": {
             "fill": {
              "color": "#EBF0F8"
             },
             "line": {
              "color": "white"
             }
            },
            "header": {
             "fill": {
              "color": "#C8D4E3"
             },
             "line": {
              "color": "white"
             }
            },
            "type": "table"
           }
          ]
         },
         "layout": {
          "annotationdefaults": {
           "arrowcolor": "#2a3f5f",
           "arrowhead": 0,
           "arrowwidth": 1
          },
          "autotypenumbers": "strict",
          "coloraxis": {
           "colorbar": {
            "outlinewidth": 0,
            "ticks": ""
           }
          },
          "colorscale": {
           "diverging": [
            [
             0,
             "#8e0152"
            ],
            [
             0.1,
             "#c51b7d"
            ],
            [
             0.2,
             "#de77ae"
            ],
            [
             0.3,
             "#f1b6da"
            ],
            [
             0.4,
             "#fde0ef"
            ],
            [
             0.5,
             "#f7f7f7"
            ],
            [
             0.6,
             "#e6f5d0"
            ],
            [
             0.7,
             "#b8e186"
            ],
            [
             0.8,
             "#7fbc41"
            ],
            [
             0.9,
             "#4d9221"
            ],
            [
             1,
             "#276419"
            ]
           ],
           "sequential": [
            [
             0,
             "#0d0887"
            ],
            [
             0.1111111111111111,
             "#46039f"
            ],
            [
             0.2222222222222222,
             "#7201a8"
            ],
            [
             0.3333333333333333,
             "#9c179e"
            ],
            [
             0.4444444444444444,
             "#bd3786"
            ],
            [
             0.5555555555555556,
             "#d8576b"
            ],
            [
             0.6666666666666666,
             "#ed7953"
            ],
            [
             0.7777777777777778,
             "#fb9f3a"
            ],
            [
             0.8888888888888888,
             "#fdca26"
            ],
            [
             1,
             "#f0f921"
            ]
           ],
           "sequentialminus": [
            [
             0,
             "#0d0887"
            ],
            [
             0.1111111111111111,
             "#46039f"
            ],
            [
             0.2222222222222222,
             "#7201a8"
            ],
            [
             0.3333333333333333,
             "#9c179e"
            ],
            [
             0.4444444444444444,
             "#bd3786"
            ],
            [
             0.5555555555555556,
             "#d8576b"
            ],
            [
             0.6666666666666666,
             "#ed7953"
            ],
            [
             0.7777777777777778,
             "#fb9f3a"
            ],
            [
             0.8888888888888888,
             "#fdca26"
            ],
            [
             1,
             "#f0f921"
            ]
           ]
          },
          "colorway": [
           "#636efa",
           "#EF553B",
           "#00cc96",
           "#ab63fa",
           "#FFA15A",
           "#19d3f3",
           "#FF6692",
           "#B6E880",
           "#FF97FF",
           "#FECB52"
          ],
          "font": {
           "color": "#2a3f5f"
          },
          "geo": {
           "bgcolor": "white",
           "lakecolor": "white",
           "landcolor": "#E5ECF6",
           "showlakes": true,
           "showland": true,
           "subunitcolor": "white"
          },
          "hoverlabel": {
           "align": "left"
          },
          "hovermode": "closest",
          "mapbox": {
           "style": "light"
          },
          "paper_bgcolor": "white",
          "plot_bgcolor": "#E5ECF6",
          "polar": {
           "angularaxis": {
            "gridcolor": "white",
            "linecolor": "white",
            "ticks": ""
           },
           "bgcolor": "#E5ECF6",
           "radialaxis": {
            "gridcolor": "white",
            "linecolor": "white",
            "ticks": ""
           }
          },
          "scene": {
           "xaxis": {
            "backgroundcolor": "#E5ECF6",
            "gridcolor": "white",
            "gridwidth": 2,
            "linecolor": "white",
            "showbackground": true,
            "ticks": "",
            "zerolinecolor": "white"
           },
           "yaxis": {
            "backgroundcolor": "#E5ECF6",
            "gridcolor": "white",
            "gridwidth": 2,
            "linecolor": "white",
            "showbackground": true,
            "ticks": "",
            "zerolinecolor": "white"
           },
           "zaxis": {
            "backgroundcolor": "#E5ECF6",
            "gridcolor": "white",
            "gridwidth": 2,
            "linecolor": "white",
            "showbackground": true,
            "ticks": "",
            "zerolinecolor": "white"
           }
          },
          "shapedefaults": {
           "line": {
            "color": "#2a3f5f"
           }
          },
          "ternary": {
           "aaxis": {
            "gridcolor": "white",
            "linecolor": "white",
            "ticks": ""
           },
           "baxis": {
            "gridcolor": "white",
            "linecolor": "white",
            "ticks": ""
           },
           "bgcolor": "#E5ECF6",
           "caxis": {
            "gridcolor": "white",
            "linecolor": "white",
            "ticks": ""
           }
          },
          "title": {
           "x": 0.05
          },
          "xaxis": {
           "automargin": true,
           "gridcolor": "white",
           "linecolor": "white",
           "ticks": "",
           "title": {
            "standoff": 15
           },
           "zerolinecolor": "white",
           "zerolinewidth": 2
          },
          "yaxis": {
           "automargin": true,
           "gridcolor": "white",
           "linecolor": "white",
           "ticks": "",
           "title": {
            "standoff": 15
           },
           "zerolinecolor": "white",
           "zerolinewidth": 2
          }
         }
        },
        "title": {
         "font": {
          "size": 20
         },
         "text": "Methylation and accessibility association",
         "x": 0.5,
         "xanchor": "center"
        },
        "width": 1000,
        "xaxis": {
         "linecolor": "black",
         "linewidth": 2,
         "mirror": false,
         "range": [
          -25,
          160
         ],
         "showline": true,
         "tickmode": "array",
         "ticks": "outside",
         "tickvals": [
          0,
          10,
          20,
          30,
          40,
          50,
          60,
          70,
          80,
          90,
          100
         ],
         "title": {
          "text": "Methylation ratio (%)<br>Whole-Genome EM-seq normal colon mucosa from FAP patients"
         },
         "type": "linear",
         "zeroline": true,
         "zerolinecolor": "black",
         "zerolinewidth": 2
        },
        "yaxis": {
         "linecolor": "black",
         "linewidth": 2,
         "mirror": true,
         "range": [
          0,
          900
         ],
         "showline": false,
         "ticks": "outside",
         "title": {
          "text": "ATAC-seq normal colon mucosa from ENCODE (ENCFF081FUV)<br>Accessibility (-log10(FDR))"
         },
         "type": "linear"
        }
       }
      },
      "image/png": "[encoded data removed]",
      "text/html": [
       "<div>                            <div id=\"d08748d4-3e48-4824-a6e6-5a5f16064b3e\" class=\"plotly-graph-div\" style=\"height:700px; width:1000px;\"></div>            <script type=\"text/javascript\">                require([\"plotly\"], function(Plotly) {                    window.PLOTLYENV=window.PLOTLYENV || {};                                    if (document.getElementById(\"d08748d4-3e48-4824-a6e6-5a5f16064b3e\")) {                    Plotly.newPlot(                        \"d08748d4-3e48-4824-a6e6-5a5f16064b3e\",                        [{\"marker\":{\"color\":[\"rgb( 255,0,0)\",\"rgb( 255,69,0)\",\"rgb( 255,69,0)\",\"rgb( 255,69,0)\",\"rgb( 0,128,0)\",\"rgb( 0,100,0)\",\"rgb( 194,225,5)\",\"rgb( 255,195,77)\",\"rgb( 255,195,77)\",\"rgb( 194,225,5)\",\"rgb( 255,255,0)\",\"rgb( 102,205,170)\",\"rgb( 138,145,208)\",\"rgb( 205,92,92)\",\"rgb( 189,183,107)\",\"rgb( 128,128,128)\",\"rgb( 192,192,192)\",\"rgb( 255,255,255)\"],\"size\":[34047.31,7985.47,11236.59,3668.56,607.3,2123.62,339.32,1820.96,3156.86,223.15,1558.49,91.61,53.74],\"sizemode\":\"area\"},\"mode\":\"markers\",\"opacity\":0.8,\"text\":[\"1_TssA<br>#CpG: 3,404,731\",\"2_TssFlnk<br>#CpG: 798,547\",\"3_TssFlnkU<br>#CpG: 1,123,659\",\"4_TssFlnkD<br>#CpG: 366,856\",\"5_Tx<br>#CpG: 60,730\",\"6_TxWk<br>#CpG: 212,362\",\"7_EnhG1<br>#CpG: 33,932\",\"9_EnhA1<br>#CpG: 182,096\",\"10_EnhA2<br>#CpG: 315,686\",\"8_EnhG2<br>#CpG: 22,315\",\"11_EnhWk<br>#CpG: 155,849\",\"12_ZNF_Rpts<br>#CpG: 9,161\",\"13_Het<br>#CpG: 5,374\"],\"x\":[4.020239078875404,7.547525646267369,8.636441976088845,11.856839300865909,78.59462218905271,56.35794084385092,60.70434437468889,44.694051906150534,45.907696290724154,47.441515373316406,44.97908578909059,46.68809305833177,55.87389043041148],\"y\":[616.4768930175815,537.4599776070352,581.6378850513034,478.0923430362367,106.52008678782755,186.46835236825203,231.2758664840881,388.469031843957,339.3873385027849,393.4645752261019,261.51464753524937,156.61414955116695,114.35005271954675],\"type\":\"scatter\"},{\"marker\":{\"color\":\"rgb(200,200,200)\",\"size\":[30000.0,10000.0,1000.0,100.0],\"sizemode\":\"area\"},\"mode\":\"markers\",\"opacity\":0.8,\"text\":[3000000.0,1000000.0,100000.0,10000.0],\"x\":[140,140,140,140],\"y\":[500,500,500,500],\"type\":\"scatter\"}],                        {\"template\":{\"data\":{\"histogram2dcontour\":[{\"type\":\"histogram2dcontour\",\"colorbar\":{\"outlinewidth\":0,\"ticks\":\"\"},\"colorscale\":[[0.0,\"#0d0887\"],[0.1111111111111111,\"#46039f\"],[0.2222222222222222,\"#7201a8\"],[0.3333333333333333,\"#9c179e\"],[0.4444444444444444,\"#bd3786\"],[0.5555555555555556,\"#d8576b\"],[0.6666666666666666,\"#ed7953\"],[0.7777777777777778,\"#fb9f3a\"],[0.8888888888888888,\"#fdca26\"],[1.0,\"#f0f921\"]]}],\"choropleth\":[{\"type\":\"choropleth\",\"colorbar\":{\"outlinewidth\":0,\"ticks\":\"\"}}],\"histogram2d\":[{\"type\":\"histogram2d\",\"colorbar\":{\"outlinewidth\":0,\"ticks\":\"\"},\"colorscale\":[[0.0,\"#0d0887\"],[0.1111111111111111,\"#46039f\"],[0.2222222222222222,\"#7201a8\"],[0.3333333333333333,\"#9c179e\"],[0.4444444444444444,\"#bd3786\"],[0.5555555555555556,\"#d8576b\"],[0.6666666666666666,\"#ed7953\"],[0.7777777777777778,\"#fb9f3a\"],[0.8888888888888888,\"#fdca26\"],[1.0,\"#f0f921\"]]}],\"heatmap\":[{\"type\":\"heatmap\",\"colorbar\":{\"outlinewidth\":0,\"ticks\":\"\"},\"colorscale\":[[0.0,\"#0d0887\"],[0.1111111111111111,\"#46039f\"],[0.2222222222222222,\"#7201a8\"],[0.3333333333333333,\"#9c179e\"],[0.4444444444444444,\"#bd3786\"],[0.5555555555555556,\"#d8576b\"],[0.6666666666666666,\"#ed7953\"],[0.7777777777777778,\"#fb9f3a\"],[0.8888888888888888,\"#fdca26\"],[1.0,\"#f0f921\"]]}],\"heatmapgl\":[{\"type\":\"heatmapgl\",\"colorbar\":{\"outlinewidth\":0,\"ticks\":\"\"},\"colorscale\":[[0.0,\"#0d0887\"],[0.1111111111111111,\"#46039f\"],[0.2222222222222222,\"#7201a8\"],[0.3333333333333333,\"#9c179e\"],[0.4444444444444444,\"#bd3786\"],[0.5555555555555556,\"#d8576b\"],[0.6666666666666666,\"#ed7953\"],[0.7777777777777778,\"#fb9f3a\"],[0.8888888888888888,\"#fdca26\"],[1.0,\"#f0f921\"]]}],\"contourcarpet\":[{\"type\":\"contourcarpet\",\"colorbar\":{\"outlinewidth\":0,\"ticks\":\"\"}}],\"contour\":[{\"type\":\"contour\",\"colorbar\":{\"outlinewidth\":0,\"ticks\":\"\"},\"colorscale\":[[0.0,\"#0d0887\"],[0.1111111111111111,\"#46039f\"],[0.2222222222222222,\"#7201a8\"],[0.3333333333333333,\"#9c179e\"],[0.4444444444444444,\"#bd3786\"],[0.5555555555555556,\"#d8576b\"],[0.6666666666666666,\"#ed7953\"],[0.7777777777777778,\"#fb9f3a\"],[0.8888888888888888,\"#fdca26\"],[1.0,\"#f0f921\"]]}],\"surface\":[{\"type\":\"surface\",\"colorbar\":{\"outlinewidth\":0,\"ticks\":\"\"},\"colorscale\":[[0.0,\"#0d0887\"],[0.1111111111111111,\"#46039f\"],[0.2222222222222222,\"#7201a8\"],[0.3333333333333333,\"#9c179e\"],[0.4444444444444444,\"#bd3786\"],[0.5555555555555556,\"#d8576b\"],[0.6666666666666666,\"#ed7953\"],[0.7777777777777778,\"#fb9f3a\"],[0.8888888888888888,\"#fdca26\"],[1.0,\"#f0f921\"]]}],\"mesh3d\":[{\"type\":\"mesh3d\",\"colorbar\":{\"outlinewidth\":0,\"ticks\":\"\"}}],\"scatter\":[{\"fillpattern\":{\"fillmode\":\"overlay\",\"size\":10,\"solidity\":0.2},\"type\":\"scatter\"}],\"parcoords\":[{\"type\":\"parcoords\",\"line\":{\"colorbar\":{\"outlinewidth\":0,\"ticks\":\"\"}}}],\"scatterpolargl\":[{\"type\":\"scatterpolargl\",\"marker\":{\"colorbar\":{\"outlinewidth\":0,\"ticks\":\"\"}}}],\"bar\":[{\"error_x\":{\"color\":\"#2a3f5f\"},\"error_y\":{\"color\":\"#2a3f5f\"},\"marker\":{\"line\":{\"color\":\"#E5ECF6\",\"width\":0.5},\"pattern\":{\"fillmode\":\"overlay\",\"size\":10,\"solidity\":0.2}},\"type\":\"bar\"}],\"scattergeo\":[{\"type\":\"scattergeo\",\"marker\":{\"colorbar\":{\"outlinewidth\":0,\"ticks\":\"\"}}}],\"scatterpolar\":[{\"type\":\"scatterpolar\",\"marker\":{\"colorbar\":{\"outlinewidth\":0,\"ticks\":\"\"}}}],\"histogram\":[{\"marker\":{\"pattern\":{\"fillmode\":\"overlay\",\"size\":10,\"solidity\":0.2}},\"type\":\"histogram\"}],\"scattergl\":[{\"type\":\"scattergl\",\"marker\":{\"colorbar\":{\"outlinewidth\":0,\"ticks\":\"\"}}}],\"scatter3d\":[{\"type\":\"scatter3d\",\"line\":{\"colorbar\":{\"outlinewidth\":0,\"ticks\":\"\"}},\"marker\":{\"colorbar\":{\"outlinewidth\":0,\"ticks\":\"\"}}}],\"scattermapbox\":[{\"type\":\"scattermapbox\",\"marker\":{\"colorbar\":{\"outlinewidth\":0,\"ticks\":\"\"}}}],\"scatterternary\":[{\"type\":\"scatterternary\",\"marker\":{\"colorbar\":{\"outlinewidth\":0,\"ticks\":\"\"}}}],\"scattercarpet\":[{\"type\":\"scattercarpet\",\"marker\":{\"colorbar\":{\"outlinewidth\":0,\"ticks\":\"\"}}}],\"carpet\":[{\"aaxis\":{\"endlinecolor\":\"#2a3f5f\",\"gridcolor\":\"white\",\"linecolor\":\"white\",\"minorgridcolor\":\"white\",\"startlinecolor\":\"#2a3f5f\"},\"baxis\":{\"endlinecolor\":\"#2a3f5f\",\"gridcolor\":\"white\",\"linecolor\":\"white\",\"minorgridcolor\":\"white\",\"startlinecolor\":\"#2a3f5f\"},\"type\":\"carpet\"}],\"table\":[{\"cells\":{\"fill\":{\"color\":\"#EBF0F8\"},\"line\":{\"color\":\"white\"}},\"header\":{\"fill\":{\"color\":\"#C8D4E3\"},\"line\":{\"color\":\"white\"}},\"type\":\"table\"}],\"barpolar\":[{\"marker\":{\"line\":{\"color\":\"#E5ECF6\",\"width\":0.5},\"pattern\":{\"fillmode\":\"overlay\",\"size\":10,\"solidity\":0.2}},\"type\":\"barpolar\"}],\"pie\":[{\"automargin\":true,\"type\":\"pie\"}]},\"layout\":{\"autotypenumbers\":\"strict\",\"colorway\":[\"#636efa\",\"#EF553B\",\"#00cc96\",\"#ab63fa\",\"#FFA15A\",\"#19d3f3\",\"#FF6692\",\"#B6E880\",\"#FF97FF\",\"#FECB52\"],\"font\":{\"color\":\"#2a3f5f\"},\"hovermode\":\"closest\",\"hoverlabel\":{\"align\":\"left\"},\"paper_bgcolor\":\"white\",\"plot_bgcolor\":\"#E5ECF6\",\"polar\":{\"bgcolor\":\"#E5ECF6\",\"angularaxis\":{\"gridcolor\":\"white\",\"linecolor\":\"white\",\"ticks\":\"\"},\"radialaxis\":{\"gridcolor\":\"white\",\"linecolor\":\"white\",\"ticks\":\"\"}},\"ternary\":{\"bgcolor\":\"#E5ECF6\",\"aaxis\":{\"gridcolor\":\"white\",\"linecolor\":\"white\",\"ticks\":\"\"},\"baxis\":{\"gridcolor\":\"white\",\"linecolor\":\"white\",\"ticks\":\"\"},\"caxis\":{\"gridcolor\":\"white\",\"linecolor\":\"white\",\"ticks\":\"\"}},\"coloraxis\":{\"colorbar\":{\"outlinewidth\":0,\"ticks\":\"\"}},\"colorscale\":{\"sequential\":[[0.0,\"#0d0887\"],[0.1111111111111111,\"#46039f\"],[0.2222222222222222,\"#7201a8\"],[0.3333333333333333,\"#9c179e\"],[0.4444444444444444,\"#bd3786\"],[0.5555555555555556,\"#d8576b\"],[0.6666666666666666,\"#ed7953\"],[0.7777777777777778,\"#fb9f3a\"],[0.8888888888888888,\"#fdca26\"],[1.0,\"#f0f921\"]],\"sequentialminus\":[[0.0,\"#0d0887\"],[0.1111111111111111,\"#46039f\"],[0.2222222222222222,\"#7201a8\"],[0.3333333333333333,\"#9c179e\"],[0.4444444444444444,\"#bd3786\"],[0.5555555555555556,\"#d8576b\"],[0.6666666666666666,\"#ed7953\"],[0.7777777777777778,\"#fb9f3a\"],[0.8888888888888888,\"#fdca26\"],[1.0,\"#f0f921\"]],\"diverging\":[[0,\"#8e0152\"],[0.1,\"#c51b7d\"],[0.2,\"#de77ae\"],[0.3,\"#f1b6da\"],[0.4,\"#fde0ef\"],[0.5,\"#f7f7f7\"],[0.6,\"#e6f5d0\"],[0.7,\"#b8e186\"],[0.8,\"#7fbc41\"],[0.9,\"#4d9221\"],[1,\"#276419\"]]},\"xaxis\":{\"gridcolor\":\"white\",\"linecolor\":\"white\",\"ticks\":\"\",\"title\":{\"standoff\":15},\"zerolinecolor\":\"white\",\"automargin\":true,\"zerolinewidth\":2},\"yaxis\":{\"gridcolor\":\"white\",\"linecolor\":\"white\",\"ticks\":\"\",\"title\":{\"standoff\":15},\"zerolinecolor\":\"white\",\"automargin\":true,\"zerolinewidth\":2},\"scene\":{\"xaxis\":{\"backgroundcolor\":\"#E5ECF6\",\"gridcolor\":\"white\",\"linecolor\":\"white\",\"showbackground\":true,\"ticks\":\"\",\"zerolinecolor\":\"white\",\"gridwidth\":2},\"yaxis\":{\"backgroundcolor\":\"#E5ECF6\",\"gridcolor\":\"white\",\"linecolor\":\"white\",\"showbackground\":true,\"ticks\":\"\",\"zerolinecolor\":\"white\",\"gridwidth\":2},\"zaxis\":{\"backgroundcolor\":\"#E5ECF6\",\"gridcolor\":\"white\",\"linecolor\":\"white\",\"showbackground\":true,\"ticks\":\"\",\"zerolinecolor\":\"white\",\"gridwidth\":2}},\"shapedefaults\":{\"line\":{\"color\":\"#2a3f5f\"}},\"annotationdefaults\":{\"arrowcolor\":\"#2a3f5f\",\"arrowhead\":0,\"arrowwidth\":1},\"geo\":{\"bgcolor\":\"white\",\"landcolor\":\"#E5ECF6\",\"subunitcolor\":\"white\",\"showland\":true,\"showlakes\":true,\"lakecolor\":\"white\"},\"title\":{\"x\":0.05},\"mapbox\":{\"style\":\"light\"}}},\"font\":{\"family\":\"Arial, monospace\",\"size\":14,\"color\":\"black\"},\"title\":{\"font\":{\"size\":20},\"text\":\"Methylation and accessibility association\",\"xanchor\":\"center\",\"x\":0.5},\"xaxis\":{\"title\":{\"text\":\"Methylation ratio (%)<br>Whole-Genome EM-seq normal colon mucosa from FAP patients\"},\"tickmode\":\"array\",\"tickvals\":[0,10,20,30,40,50,60,70,80,90,100],\"range\":[-25,160],\"showline\":true,\"linecolor\":\"black\",\"mirror\":false,\"linewidth\":2,\"ticks\":\"outside\",\"zeroline\":true,\"zerolinewidth\":2,\"zerolinecolor\":\"black\"},\"yaxis\":{\"title\":{\"text\":\"ATAC-seq normal colon mucosa from ENCODE (ENCFF081FUV)<br>Accessibility (-log10(FDR))\"},\"range\":[0,900],\"showline\":false,\"linecolor\":\"black\",\"mirror\":true,\"linewidth\":2,\"ticks\":\"outside\"},\"legend\":{\"bgcolor\":\"rgb(255, 255, 255)\",\"bordercolor\":\"Black\",\"borderwidth\":1},\"width\":1000,\"height\":700,\"plot_bgcolor\":\"rgb(255,255,255)\",\"showlegend\":false},                        {\"responsive\": true}                    ).then(function(){\n",
       "                            \n",
       "var gd = document.getElementById('d08748d4-3e48-4824-a6e6-5a5f16064b3e');\n",
       "var x = new MutationObserver(function (mutations, observer) {{\n",
       "        var display = window.getComputedStyle(gd).display;\n",
       "        if (!display || display === 'none') {{\n",
       "            console.log([gd, 'removed!']);\n",
       "            Plotly.purge(gd);\n",
       "            observer.disconnect();\n",
       "        }}\n",
       "}});\n",
       "\n",
       "// Listen for the removal of the full notebook cells\n",
       "var notebookContainer = gd.closest('#notebook-container');\n",
       "if (notebookContainer) {{\n",
       "    x.observe(notebookContainer, {childList: true});\n",
       "}}\n",
       "\n",
       "// Listen for the clearing of the current output cell\n",
       "var outputEl = gd.closest('.output');\n",
       "if (outputEl) {{\n",
       "    x.observe(outputEl, {childList: true});\n",
       "}}\n",
       "\n",
       "                        })                };                });            </script>        </div>"
      ]
     },
     "metadata": {},
     "output_type": "display_data"
    }
   ],
   "source": [
    "from plotly.subplots import make_subplots\n",
    "import plotly.graph_objects as go\n",
    "import plotly.io as pio\n",
    "pio.renderers\n",
    "\n",
    "colorscale_met=[\n",
    "                [1.0, \"rgb(165,0,38)\"],\n",
    "                [0.8888888888888888, \"rgb(215,48,39)\"],\n",
    "                [0.7777777777777778, \"rgb(244,109,67)\"],\n",
    "                [0.6666666666666666, \"rgb(253,174,97)\"],\n",
    "                [0.5555555555555556, \"rgb(254,224,144)\"],\n",
    "                [0.4444444444444444, \"rgb(224,243,248)\"],\n",
    "                [0.3333333333333333, \"rgb(171,217,233)\"],\n",
    "                [0.2222222222222222, \"rgb(116,173,209)\"],\n",
    "                [0.1111111111111111, \"rgb(69,117,180)\"],\n",
    "                [0.0, \"rgb(49,54,149)\"]]\n",
    "\n",
    "color_chromState= [\n",
    " 'rgb( 255,0,0)', # 1 Active TSS \n",
    " 'rgb( 255,69,0)', #  2 Flanking TSS \n",
    " 'rgb( 255,69,0)', #  3 Flanking TSS Upstream \n",
    " 'rgb( 255,69,0)', #  4 Flanking TSS Downstream \n",
    " 'rgb( 0,128,0)', #  5 Strong transcription \n",
    " 'rgb( 0,100,0)', #  6 Weak transcription \n",
    " 'rgb( 194,225,5)', #  7 Genic enhancer1 \n",
    " 'rgb( 255,195,77)', #  9 Active Enhancer 1 \n",
    " 'rgb( 255,195,77)', #  10 Active Enhancer 2 \n",
    " 'rgb( 194,225,5)', #  8 Genic enhancer2 \n",
    " 'rgb( 255,255,0)', #  11 Weak Enhancer \n",
    " 'rgb( 102,205,170)', #  12 ZNF genes & repeats \n",
    " 'rgb( 138,145,208)', #  13 Heterochromatin \n",
    " 'rgb( 205,92,92)', #  14 Bivalent/Poised TSS \n",
    " 'rgb( 189,183,107)', #  15 Bivalent Enhancer \n",
    " 'rgb( 128,128,128)', #  16 Repressed PolyComb \n",
    " 'rgb( 192,192,192)', #  17 Weak Repressed PolyComb \n",
    " 'rgb( 255,255,255)' #  18 Quiescent/Low \n",
    " ]\n",
    "\n",
    "fig = go.Figure()\n",
    "#fig = make_subplots(rows=1, cols=2, column_widths=[0.9, 0.1])\n",
    "\n",
    "fig.add_trace( go.Scatter(\n",
    "    x=df['met'],\n",
    "    y=df['atac'],\n",
    "    mode='markers',\n",
    "    opacity=0.8,\n",
    "    marker=dict(\n",
    "        color=color_chromState,\n",
    "        #color=df['score'],\n",
    "        #size=np.log(df['size'].to_list()),\n",
    "        size=df['size']/100,\n",
    "        sizemode='area',\n",
    "        #sizeref=2.*max(size)/(40.**2),\n",
    "        #sizemin=4\n",
    "        #colorscale='RdBu_r',\n",
    "        #colorscale='gray_r',\n",
    "        #showscale=True\n",
    "        ),\n",
    "    #hovertemplate = '<b>%{text}</b><br>'+\n",
    "    #'<i>#CpGs</i>: $%{size:.2f}',\n",
    "    #'<br><b>X</b>: %{x}<br>'+\n",
    "    #'<b>%{text}</b>',\n",
    "    text = df['text']\n",
    "    #colorscale=colorscale\n",
    "    ), \n",
    "    #row=1, col=1\n",
    "    #go.Scatter(x=[0,100],y=[4500,0])                    \n",
    ")\n",
    "\n",
    "fig.add_trace( go.Scatter(\n",
    "    x=df_bubble['x'],\n",
    "    y=df_bubble['y'],\n",
    "    mode='markers',\n",
    "    opacity=0.8,\n",
    "    marker=dict(\n",
    "        color='rgb(200,200,200)',\n",
    "        #color=df['score'],\n",
    "        #size=np.log(df['size'].to_list()),\n",
    "        size=df_bubble['size']/100,\n",
    "        sizemode='area',\n",
    "        #sizeref=2.*max(size)/(40.**2),\n",
    "        #sizemin=4\n",
    "        #colorscale='RdBu_r',\n",
    "        #colorscale='gray_r',\n",
    "        #showscale=True\n",
    "        ),\n",
    "    #hovertemplate = '<b>%{text}</b><br>'+\n",
    "    #'<i>#CpGs</i>: $%{size:.2f}',\n",
    "    #'<br><b>X</b>: %{x}<br>'+\n",
    "    #'<b>%{text}</b>',\n",
    "    text = df_bubble['size']\n",
    "    #colorscale=colorscale\n",
    "    ), \n",
    "    #row=1, col=1\n",
    "    #go.Scatter(x=[0,100],y=[4500,0])                    \n",
    ")\n",
    "\n",
    "\n",
    "#fig.update_yaxes(type=\"log\")\n",
    "fig.update_layout(\n",
    "    xaxis_title='Methylation ratio (%)'+'<br>'+'Whole-Genome EM-seq normal colon mucosa from FAP patients',\n",
    "    yaxis_title='ATAC-seq normal colon mucosa from ENCODE (ENCFF081FUV)'+'<br>'+'Accessibility (-log10(FDR))',\n",
    "    \n",
    "    width=1000,\n",
    "    height=700,\n",
    "    font_family=\"Arial\",\n",
    "    title=dict(text=\"Methylation and accessibility association\",\n",
    "              xanchor='center', x=0.5,  \n",
    "              ),\n",
    "    titlefont=dict(size=20),\n",
    "    #xaxis_title=\"PC_0\",\n",
    "    #yaxis_title=\"PC_1\",\n",
    "    #legend_title=None,\n",
    "    font=dict(\n",
    "        family=\"Arial, monospace\",\n",
    "        size=14,\n",
    "        color=\"black\"\n",
    "    ),\n",
    "    xaxis = dict(\n",
    "        tickmode = 'array',\n",
    "        tickvals = [0,10,20,30,40,50,60,70,80,90,100],\n",
    "        range=[-25,160]\n",
    "    ),\n",
    "    yaxis = dict(\n",
    "#        tickmode = 'array',\n",
    "#        tickvals = [0,10,20,30,40,50,60,70,80,90,100],\n",
    "        range=[0,900]\n",
    "    ),\n",
    "    legend=dict(\n",
    "        #yanchor=\"bottom\",\n",
    "        #y=0.01,\n",
    "        #xanchor=\"left\",\n",
    "        #x=0.01,\n",
    "        #traceorder=\"reversed\",\n",
    "        bgcolor= \"rgb(255, 255, 255)\",\n",
    "        bordercolor=\"Black\",\n",
    "        borderwidth=1,\n",
    "        ),\n",
    "    #plot_bgcolor='rgb(250,250,250)',\n",
    "    plot_bgcolor='rgb(255,255,255)',\n",
    "    showlegend=False\n",
    ")\n",
    "\n",
    "\n",
    "\n",
    "fig.update_xaxes(showline=True, linecolor='black', mirror=False, linewidth=2, ticks='outside', zeroline=True, zerolinewidth=2, zerolinecolor='black')\n",
    "fig.update_yaxes(showline=False, linecolor='black', mirror=True, linewidth=2, ticks='outside')\n",
    "\n",
    "\n",
    "fig.write_image(\"fap_asso_met_atac_chromState_trend.pdf\")\n",
    "fig.write_image(\"fap_asso_met_atac_chromState_trend.png\")\n",
    "\n",
    "fig.show()\n"
   ]
  },
  {
   "cell_type": "code",
   "execution_count": 17,
   "metadata": {},
   "outputs": [
    {
     "data": {
      "text/plain": [
       "1_TssA          4.020239\n",
       "2_TssFlnk       7.547526\n",
       "3_TssFlnkU      8.636442\n",
       "4_TssFlnkD     11.856839\n",
       "5_Tx           78.594622\n",
       "6_TxWk         56.357941\n",
       "7_EnhG1        60.704344\n",
       "9_EnhA1        44.694052\n",
       "10_EnhA2       45.907696\n",
       "8_EnhG2        47.441515\n",
       "11_EnhWk       44.979086\n",
       "12_ZNF_Rpts    46.688093\n",
       "13_Het         55.873890\n",
       "Name: met, dtype: float64"
      ]
     },
     "execution_count": 17,
     "metadata": {},
     "output_type": "execute_result"
    }
   ],
   "source": [
    "df['met']"
   ]
  },
  {
   "cell_type": "code",
   "execution_count": 18,
   "metadata": {},
   "outputs": [
    {
     "data": {
      "text/plain": [
       "-0.9142775410300252"
      ]
     },
     "execution_count": 18,
     "metadata": {},
     "output_type": "execute_result"
    }
   ],
   "source": [
    "from scipy.stats import pearsonr\n",
    "\n",
    "corr, _ = pearsonr(df['met'], df['atac'])\n",
    "corr"
   ]
  },
  {
   "cell_type": "code",
   "execution_count": null,
   "metadata": {},
   "outputs": [],
   "source": []
  },
  {
   "cell_type": "code",
   "execution_count": null,
   "metadata": {},
   "outputs": [],
   "source": []
  },
  {
   "cell_type": "code",
   "execution_count": null,
   "metadata": {},
   "outputs": [],
   "source": []
  }
 ],
 "metadata": {
  "kernelspec": {
   "display_name": "Python 3 (ipykernel)",
   "language": "python",
   "name": "python3"
  },
  "language_info": {
   "codemirror_mode": {
    "name": "ipython",
    "version": 3
   },
   "file_extension": ".py",
   "mimetype": "text/x-python",
   "name": "python",
   "nbconvert_exporter": "python",
   "pygments_lexer": "ipython3",
   "version": "3.11.0"
  }
 },
 "nbformat": 4,
 "nbformat_minor": 4
}
