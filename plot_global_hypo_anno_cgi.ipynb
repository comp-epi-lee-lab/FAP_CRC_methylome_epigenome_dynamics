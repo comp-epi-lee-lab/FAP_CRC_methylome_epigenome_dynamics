{
 "cells": [
  {
   "cell_type": "code",
   "execution_count": 1,
   "metadata": {},
   "outputs": [
    {
     "data": {
      "text/html": [
       "<div>\n",
       "<style scoped>\n",
       "    .dataframe tbody tr th:only-of-type {\n",
       "        vertical-align: middle;\n",
       "    }\n",
       "\n",
       "    .dataframe tbody tr th {\n",
       "        vertical-align: top;\n",
       "    }\n",
       "\n",
       "    .dataframe thead th {\n",
       "        text-align: right;\n",
       "    }\n",
       "</style>\n",
       "<table border=\"1\" class=\"dataframe\">\n",
       "  <thead>\n",
       "    <tr style=\"text-align: right;\">\n",
       "      <th></th>\n",
       "      <th>0</th>\n",
       "      <th>1</th>\n",
       "      <th>2</th>\n",
       "      <th>3</th>\n",
       "      <th>4</th>\n",
       "      <th>5</th>\n",
       "      <th>6</th>\n",
       "      <th>7</th>\n",
       "      <th>8</th>\n",
       "      <th>9</th>\n",
       "      <th>...</th>\n",
       "      <th>54</th>\n",
       "      <th>55</th>\n",
       "      <th>56</th>\n",
       "      <th>57</th>\n",
       "      <th>58</th>\n",
       "      <th>59</th>\n",
       "      <th>60</th>\n",
       "      <th>61</th>\n",
       "      <th>62</th>\n",
       "      <th>63</th>\n",
       "    </tr>\n",
       "  </thead>\n",
       "  <tbody>\n",
       "    <tr>\n",
       "      <th>0</th>\n",
       "      <td>chr</td>\n",
       "      <td>start</td>\n",
       "      <td>stop</td>\n",
       "      <td>B:A001_C113</td>\n",
       "      <td>B:A001_C206</td>\n",
       "      <td>B:A002_C012</td>\n",
       "      <td>B:A002_C111</td>\n",
       "      <td>B:A014_C037</td>\n",
       "      <td>B:A014_C044</td>\n",
       "      <td>B:A015_C203</td>\n",
       "      <td>...</td>\n",
       "      <td>CHR</td>\n",
       "      <td>start2</td>\n",
       "      <td>stop2</td>\n",
       "      <td>type</td>\n",
       "      <td>length</td>\n",
       "      <td>cpgNum</td>\n",
       "      <td>gcNum</td>\n",
       "      <td>perCpG</td>\n",
       "      <td>perGC</td>\n",
       "      <td>obsExp</td>\n",
       "    </tr>\n",
       "  </tbody>\n",
       "</table>\n",
       "<p>1 rows × 64 columns</p>\n",
       "</div>"
      ],
      "text/plain": [
       "    0      1     2            3            4            5            6   \\\n",
       "0  chr  start  stop  B:A001_C113  B:A001_C206  B:A002_C012  B:A002_C111   \n",
       "\n",
       "            7            8            9   ...   54      55     56    57  \\\n",
       "0  B:A014_C037  B:A014_C044  B:A015_C203  ...  CHR  start2  stop2  type   \n",
       "\n",
       "       58      59     60      61     62      63  \n",
       "0  length  cpgNum  gcNum  perCpG  perGC  obsExp  \n",
       "\n",
       "[1 rows x 64 columns]"
      ]
     },
     "execution_count": 1,
     "metadata": {},
     "output_type": "execute_result"
    }
   ],
   "source": [
    "import pandas as pd \n",
    "\n",
    "pd.read_csv( '../../data/omics/dmc.anno.cgisland/header.bed', sep='\\t', header=None)"
   ]
  },
  {
   "cell_type": "code",
   "execution_count": 2,
   "metadata": {},
   "outputs": [
    {
     "data": {
      "text/plain": [
       "['chr',\n",
       " 'start',\n",
       " 'stop',\n",
       " 'B:A001_C113',\n",
       " 'B:A001_C206',\n",
       " 'B:A002_C012',\n",
       " 'B:A002_C111',\n",
       " 'B:A014_C037',\n",
       " 'B:A014_C044',\n",
       " 'B:A015_C203',\n",
       " 'B:A033_E002',\n",
       " 'B:A035_E002',\n",
       " 'B:A035_E018',\n",
       " 'B:A035_E019',\n",
       " 'B:A035_E022',\n",
       " 'B:A035_E023',\n",
       " 'B:A035_E024',\n",
       " 'B:A052_E016',\n",
       " 'B:A052_E018',\n",
       " 'B:EP_007',\n",
       " 'B:EP_034',\n",
       " 'D:A001_C004',\n",
       " 'D:A001_C005',\n",
       " 'D:A002_C010',\n",
       " 'D:A002_C116',\n",
       " 'D:A002_C204',\n",
       " 'D:A014_C001',\n",
       " 'D:A014_C038',\n",
       " 'D:A015_C002',\n",
       " 'D:A035_E020',\n",
       " 'D:A035_E021',\n",
       " 'D:EP_88B',\n",
       " 'L:A001_blood',\n",
       " 'L:A002_Blood',\n",
       " 'L:A014_blood',\n",
       " 'L:A015_blood',\n",
       " 'L:EP_blood',\n",
       " 'N:A001_C021',\n",
       " 'N:A002_C121',\n",
       " 'N:A002_C212',\n",
       " 'N:A014_C052',\n",
       " 'N:A014_C115',\n",
       " 'N:A014_C202',\n",
       " 'N:A015_C008',\n",
       " 'N:A016_E001',\n",
       " 'N:A016_E003',\n",
       " 'N:A055_C012',\n",
       " 'N:A055_C111',\n",
       " 'N:A055_C211',\n",
       " 'T:A001_C007',\n",
       " 'T:CRC1_FreshFrozen',\n",
       " 'T:CRC2_FreshFrozen',\n",
       " 'T:CRC4_FreshFrozen',\n",
       " 'T:CRC6_FreshFrozen',\n",
       " 'CHR',\n",
       " 'start2',\n",
       " 'stop2',\n",
       " 'type',\n",
       " 'length',\n",
       " 'cpgNum',\n",
       " 'gcNum',\n",
       " 'perCpG',\n",
       " 'perGC',\n",
       " 'obsExp']"
      ]
     },
     "execution_count": 2,
     "metadata": {},
     "output_type": "execute_result"
    }
   ],
   "source": [
    "list(pd.read_csv( '../../data/omics/dmc.anno.cgisland/header.bed', sep='\\t', header=None).loc[0,:])"
   ]
  },
  {
   "cell_type": "code",
   "execution_count": 3,
   "metadata": {
    "scrolled": false
   },
   "outputs": [
    {
     "data": {
      "text/html": [
       "<div>\n",
       "<style scoped>\n",
       "    .dataframe tbody tr th:only-of-type {\n",
       "        vertical-align: middle;\n",
       "    }\n",
       "\n",
       "    .dataframe tbody tr th {\n",
       "        vertical-align: top;\n",
       "    }\n",
       "\n",
       "    .dataframe thead th {\n",
       "        text-align: right;\n",
       "    }\n",
       "</style>\n",
       "<table border=\"1\" class=\"dataframe\">\n",
       "  <thead>\n",
       "    <tr style=\"text-align: right;\">\n",
       "      <th></th>\n",
       "      <th>B:A001_C113</th>\n",
       "      <th>B:A001_C206</th>\n",
       "      <th>B:A002_C012</th>\n",
       "      <th>B:A002_C111</th>\n",
       "      <th>B:A014_C037</th>\n",
       "      <th>B:A014_C044</th>\n",
       "      <th>B:A015_C203</th>\n",
       "      <th>B:A033_E002</th>\n",
       "      <th>B:A035_E002</th>\n",
       "      <th>B:A035_E018</th>\n",
       "      <th>...</th>\n",
       "      <th>N:A016_E001</th>\n",
       "      <th>N:A016_E003</th>\n",
       "      <th>N:A055_C012</th>\n",
       "      <th>N:A055_C111</th>\n",
       "      <th>N:A055_C211</th>\n",
       "      <th>T:A001_C007</th>\n",
       "      <th>T:CRC1_FreshFrozen</th>\n",
       "      <th>T:CRC2_FreshFrozen</th>\n",
       "      <th>T:CRC4_FreshFrozen</th>\n",
       "      <th>T:CRC6_FreshFrozen</th>\n",
       "    </tr>\n",
       "  </thead>\n",
       "  <tbody>\n",
       "    <tr>\n",
       "      <th>island</th>\n",
       "      <td>NaN</td>\n",
       "      <td>NaN</td>\n",
       "      <td>NaN</td>\n",
       "      <td>NaN</td>\n",
       "      <td>NaN</td>\n",
       "      <td>NaN</td>\n",
       "      <td>NaN</td>\n",
       "      <td>NaN</td>\n",
       "      <td>NaN</td>\n",
       "      <td>NaN</td>\n",
       "      <td>...</td>\n",
       "      <td>NaN</td>\n",
       "      <td>NaN</td>\n",
       "      <td>NaN</td>\n",
       "      <td>NaN</td>\n",
       "      <td>NaN</td>\n",
       "      <td>NaN</td>\n",
       "      <td>NaN</td>\n",
       "      <td>NaN</td>\n",
       "      <td>NaN</td>\n",
       "      <td>NaN</td>\n",
       "    </tr>\n",
       "    <tr>\n",
       "      <th>shore</th>\n",
       "      <td>NaN</td>\n",
       "      <td>NaN</td>\n",
       "      <td>NaN</td>\n",
       "      <td>NaN</td>\n",
       "      <td>NaN</td>\n",
       "      <td>NaN</td>\n",
       "      <td>NaN</td>\n",
       "      <td>NaN</td>\n",
       "      <td>NaN</td>\n",
       "      <td>NaN</td>\n",
       "      <td>...</td>\n",
       "      <td>NaN</td>\n",
       "      <td>NaN</td>\n",
       "      <td>NaN</td>\n",
       "      <td>NaN</td>\n",
       "      <td>NaN</td>\n",
       "      <td>NaN</td>\n",
       "      <td>NaN</td>\n",
       "      <td>NaN</td>\n",
       "      <td>NaN</td>\n",
       "      <td>NaN</td>\n",
       "    </tr>\n",
       "    <tr>\n",
       "      <th>shelf</th>\n",
       "      <td>NaN</td>\n",
       "      <td>NaN</td>\n",
       "      <td>NaN</td>\n",
       "      <td>NaN</td>\n",
       "      <td>NaN</td>\n",
       "      <td>NaN</td>\n",
       "      <td>NaN</td>\n",
       "      <td>NaN</td>\n",
       "      <td>NaN</td>\n",
       "      <td>NaN</td>\n",
       "      <td>...</td>\n",
       "      <td>NaN</td>\n",
       "      <td>NaN</td>\n",
       "      <td>NaN</td>\n",
       "      <td>NaN</td>\n",
       "      <td>NaN</td>\n",
       "      <td>NaN</td>\n",
       "      <td>NaN</td>\n",
       "      <td>NaN</td>\n",
       "      <td>NaN</td>\n",
       "      <td>NaN</td>\n",
       "    </tr>\n",
       "    <tr>\n",
       "      <th>opensea</th>\n",
       "      <td>NaN</td>\n",
       "      <td>NaN</td>\n",
       "      <td>NaN</td>\n",
       "      <td>NaN</td>\n",
       "      <td>NaN</td>\n",
       "      <td>NaN</td>\n",
       "      <td>NaN</td>\n",
       "      <td>NaN</td>\n",
       "      <td>NaN</td>\n",
       "      <td>NaN</td>\n",
       "      <td>...</td>\n",
       "      <td>NaN</td>\n",
       "      <td>NaN</td>\n",
       "      <td>NaN</td>\n",
       "      <td>NaN</td>\n",
       "      <td>NaN</td>\n",
       "      <td>NaN</td>\n",
       "      <td>NaN</td>\n",
       "      <td>NaN</td>\n",
       "      <td>NaN</td>\n",
       "      <td>NaN</td>\n",
       "    </tr>\n",
       "  </tbody>\n",
       "</table>\n",
       "<p>4 rows × 51 columns</p>\n",
       "</div>"
      ],
      "text/plain": [
       "0       B:A001_C113 B:A001_C206 B:A002_C012 B:A002_C111 B:A014_C037  \\\n",
       "island          NaN         NaN         NaN         NaN         NaN   \n",
       "shore           NaN         NaN         NaN         NaN         NaN   \n",
       "shelf           NaN         NaN         NaN         NaN         NaN   \n",
       "opensea         NaN         NaN         NaN         NaN         NaN   \n",
       "\n",
       "0       B:A014_C044 B:A015_C203 B:A033_E002 B:A035_E002 B:A035_E018  ...  \\\n",
       "island          NaN         NaN         NaN         NaN         NaN  ...   \n",
       "shore           NaN         NaN         NaN         NaN         NaN  ...   \n",
       "shelf           NaN         NaN         NaN         NaN         NaN  ...   \n",
       "opensea         NaN         NaN         NaN         NaN         NaN  ...   \n",
       "\n",
       "0       N:A016_E001 N:A016_E003 N:A055_C012 N:A055_C111 N:A055_C211  \\\n",
       "island          NaN         NaN         NaN         NaN         NaN   \n",
       "shore           NaN         NaN         NaN         NaN         NaN   \n",
       "shelf           NaN         NaN         NaN         NaN         NaN   \n",
       "opensea         NaN         NaN         NaN         NaN         NaN   \n",
       "\n",
       "0       T:A001_C007 T:CRC1_FreshFrozen T:CRC2_FreshFrozen T:CRC4_FreshFrozen  \\\n",
       "island          NaN                NaN                NaN                NaN   \n",
       "shore           NaN                NaN                NaN                NaN   \n",
       "shelf           NaN                NaN                NaN                NaN   \n",
       "opensea         NaN                NaN                NaN                NaN   \n",
       "\n",
       "0       T:CRC6_FreshFrozen  \n",
       "island                 NaN  \n",
       "shore                  NaN  \n",
       "shelf                  NaN  \n",
       "opensea                NaN  \n",
       "\n",
       "[4 rows x 51 columns]"
      ]
     },
     "execution_count": 3,
     "metadata": {},
     "output_type": "execute_result"
    }
   ],
   "source": [
    "import pandas as pd \n",
    "\n",
    "#types = ['prom1k0','prom1k','prom2k','prom4k','gene','CDS','exon','start_codon','five_prime_UTR','three_prime_UTR'] \n",
    "#types = ['prom1k','gene','exon','CDS','five_prime_UTR','three_prime_UTR'] \n",
    "#types = ['SINE','LINE','LTR','Simple_repeat','DNA','Low_complexity','Retroposon','srpRNA','Satellite','snRNA','RC','tRNA','scRNA','rRNA']\n",
    "types = ['island' ,'shore', 'shelf']  #,'opensea']\n",
    "col_drop = ['chr','start','stop','L:NA12878','CHR','start2', 'stop2','type','length','cpgNum','gcNum','perCpG','perGC','obsExp']\n",
    "\n",
    "df_mean = pd.DataFrame(columns = pd.read_csv( '../../data/omics/dmc.anno.cgisland/header.bed', sep='\\t', header=None).loc[0,:],\n",
    "                      index = types + ['opensea']) \n",
    "df_mean.drop(col_drop, axis=1, inplace=True, errors='ignore')\n",
    "df_mean\n"
   ]
  },
  {
   "cell_type": "code",
   "execution_count": 4,
   "metadata": {},
   "outputs": [
    {
     "name": "stdout",
     "output_type": "stream",
     "text": [
      "island\n",
      "(1999317, 64)\n",
      "shore\n",
      "(2365223, 64)\n",
      "shelf\n",
      "(1933892, 64)\n"
     ]
    }
   ],
   "source": [
    "#for t in ['Retroposon'] : \n",
    "for t in types :     \n",
    "    print (t)\n",
    "    df = pd.read_csv( \"../../data/omics/dmc.anno.cgisland/fap.chrall23.ratio.anno.{}.bed\".format(t), sep='\\t', header=None)\n",
    "    print (df.shape)\n",
    "    df.columns = list(pd.read_csv( '../../data/omics/dmc.anno.cgisland/header.bed', sep='\\t', header=None).loc[0,:])\n",
    "    df.drop( col_drop, axis=1, inplace=True, errors='ignore')\n",
    "    df_mean.loc[t] = list(df._get_numeric_data().mean(axis=0, skipna=True )) \n",
    "#df\n",
    "\n"
   ]
  },
  {
   "cell_type": "code",
   "execution_count": 5,
   "metadata": {},
   "outputs": [
    {
     "name": "stdout",
     "output_type": "stream",
     "text": [
      "opensea\n",
      "(7587956, 57)\n"
     ]
    }
   ],
   "source": [
    "for t in ['opensea'] :\n",
    "    print (t)\n",
    "    df = pd.read_csv( \"../../data/omics/dmc.anno.cgisland/fap.chrall23.ratio.anno.{}.bed\".format(t), sep='\\t', header=None)\n",
    "    print (df.shape)\n",
    "    df.columns = list(pd.read_csv( '../../data/omics/dmc.anno.cgisland/header.opensea.bed', sep='\\t', header=None).loc[0,:])\n",
    "    df.drop( col_drop, axis=1, inplace=True, errors='ignore')\n",
    "    df_mean.loc[t] = list(df._get_numeric_data().mean(axis=0, skipna=True )) \n",
    "    "
   ]
  },
  {
   "cell_type": "code",
   "execution_count": 6,
   "metadata": {},
   "outputs": [
    {
     "data": {
      "text/html": [
       "<div>\n",
       "<style scoped>\n",
       "    .dataframe tbody tr th:only-of-type {\n",
       "        vertical-align: middle;\n",
       "    }\n",
       "\n",
       "    .dataframe tbody tr th {\n",
       "        vertical-align: top;\n",
       "    }\n",
       "\n",
       "    .dataframe thead th {\n",
       "        text-align: right;\n",
       "    }\n",
       "</style>\n",
       "<table border=\"1\" class=\"dataframe\">\n",
       "  <thead>\n",
       "    <tr style=\"text-align: right;\">\n",
       "      <th></th>\n",
       "      <th>B:A001_C113</th>\n",
       "      <th>B:A001_C206</th>\n",
       "      <th>B:A002_C012</th>\n",
       "      <th>B:A002_C111</th>\n",
       "      <th>B:A014_C037</th>\n",
       "      <th>B:A014_C044</th>\n",
       "      <th>B:A015_C203</th>\n",
       "      <th>B:A033_E002</th>\n",
       "      <th>B:A035_E002</th>\n",
       "      <th>B:A035_E018</th>\n",
       "      <th>...</th>\n",
       "      <th>N:A016_E001</th>\n",
       "      <th>N:A016_E003</th>\n",
       "      <th>N:A055_C012</th>\n",
       "      <th>N:A055_C111</th>\n",
       "      <th>N:A055_C211</th>\n",
       "      <th>T:A001_C007</th>\n",
       "      <th>T:CRC1_FreshFrozen</th>\n",
       "      <th>T:CRC2_FreshFrozen</th>\n",
       "      <th>T:CRC4_FreshFrozen</th>\n",
       "      <th>T:CRC6_FreshFrozen</th>\n",
       "    </tr>\n",
       "  </thead>\n",
       "  <tbody>\n",
       "    <tr>\n",
       "      <th>island</th>\n",
       "      <td>20.728272</td>\n",
       "      <td>18.806566</td>\n",
       "      <td>17.936052</td>\n",
       "      <td>17.695458</td>\n",
       "      <td>18.983544</td>\n",
       "      <td>18.495104</td>\n",
       "      <td>17.503049</td>\n",
       "      <td>19.227265</td>\n",
       "      <td>17.77251</td>\n",
       "      <td>18.140306</td>\n",
       "      <td>...</td>\n",
       "      <td>20.31432</td>\n",
       "      <td>19.671568</td>\n",
       "      <td>17.50694</td>\n",
       "      <td>17.079752</td>\n",
       "      <td>16.592517</td>\n",
       "      <td>24.878135</td>\n",
       "      <td>21.828355</td>\n",
       "      <td>17.725521</td>\n",
       "      <td>17.504547</td>\n",
       "      <td>16.201923</td>\n",
       "    </tr>\n",
       "    <tr>\n",
       "      <th>shore</th>\n",
       "      <td>54.91373</td>\n",
       "      <td>53.940703</td>\n",
       "      <td>54.045962</td>\n",
       "      <td>53.603037</td>\n",
       "      <td>52.671048</td>\n",
       "      <td>51.6073</td>\n",
       "      <td>55.296419</td>\n",
       "      <td>53.502858</td>\n",
       "      <td>55.537438</td>\n",
       "      <td>55.739251</td>\n",
       "      <td>...</td>\n",
       "      <td>55.215955</td>\n",
       "      <td>55.347887</td>\n",
       "      <td>57.664226</td>\n",
       "      <td>56.48967</td>\n",
       "      <td>56.135216</td>\n",
       "      <td>55.268381</td>\n",
       "      <td>57.677253</td>\n",
       "      <td>47.117875</td>\n",
       "      <td>50.296781</td>\n",
       "      <td>52.111979</td>\n",
       "    </tr>\n",
       "    <tr>\n",
       "      <th>shelf</th>\n",
       "      <td>66.195006</td>\n",
       "      <td>65.465245</td>\n",
       "      <td>65.641546</td>\n",
       "      <td>65.085443</td>\n",
       "      <td>63.702237</td>\n",
       "      <td>62.565055</td>\n",
       "      <td>67.195452</td>\n",
       "      <td>64.695452</td>\n",
       "      <td>67.444612</td>\n",
       "      <td>67.605932</td>\n",
       "      <td>...</td>\n",
       "      <td>66.797435</td>\n",
       "      <td>66.415459</td>\n",
       "      <td>69.971767</td>\n",
       "      <td>68.740593</td>\n",
       "      <td>68.362845</td>\n",
       "      <td>65.498473</td>\n",
       "      <td>68.870308</td>\n",
       "      <td>58.308425</td>\n",
       "      <td>60.121858</td>\n",
       "      <td>63.479257</td>\n",
       "    </tr>\n",
       "    <tr>\n",
       "      <th>opensea</th>\n",
       "      <td>70.701021</td>\n",
       "      <td>71.11756</td>\n",
       "      <td>73.180774</td>\n",
       "      <td>71.152895</td>\n",
       "      <td>67.570508</td>\n",
       "      <td>65.085361</td>\n",
       "      <td>76.670528</td>\n",
       "      <td>71.35079</td>\n",
       "      <td>78.361267</td>\n",
       "      <td>77.247945</td>\n",
       "      <td>...</td>\n",
       "      <td>72.118271</td>\n",
       "      <td>72.37669</td>\n",
       "      <td>82.337714</td>\n",
       "      <td>80.156642</td>\n",
       "      <td>80.394838</td>\n",
       "      <td>61.493142</td>\n",
       "      <td>73.125197</td>\n",
       "      <td>57.823325</td>\n",
       "      <td>66.611884</td>\n",
       "      <td>67.217435</td>\n",
       "    </tr>\n",
       "  </tbody>\n",
       "</table>\n",
       "<p>4 rows × 51 columns</p>\n",
       "</div>"
      ],
      "text/plain": [
       "0       B:A001_C113 B:A001_C206 B:A002_C012 B:A002_C111 B:A014_C037  \\\n",
       "island    20.728272   18.806566   17.936052   17.695458   18.983544   \n",
       "shore      54.91373   53.940703   54.045962   53.603037   52.671048   \n",
       "shelf     66.195006   65.465245   65.641546   65.085443   63.702237   \n",
       "opensea   70.701021    71.11756   73.180774   71.152895   67.570508   \n",
       "\n",
       "0       B:A014_C044 B:A015_C203 B:A033_E002 B:A035_E002 B:A035_E018  ...  \\\n",
       "island    18.495104   17.503049   19.227265    17.77251   18.140306  ...   \n",
       "shore       51.6073   55.296419   53.502858   55.537438   55.739251  ...   \n",
       "shelf     62.565055   67.195452   64.695452   67.444612   67.605932  ...   \n",
       "opensea   65.085361   76.670528    71.35079   78.361267   77.247945  ...   \n",
       "\n",
       "0       N:A016_E001 N:A016_E003 N:A055_C012 N:A055_C111 N:A055_C211  \\\n",
       "island     20.31432   19.671568    17.50694   17.079752   16.592517   \n",
       "shore     55.215955   55.347887   57.664226    56.48967   56.135216   \n",
       "shelf     66.797435   66.415459   69.971767   68.740593   68.362845   \n",
       "opensea   72.118271    72.37669   82.337714   80.156642   80.394838   \n",
       "\n",
       "0       T:A001_C007 T:CRC1_FreshFrozen T:CRC2_FreshFrozen T:CRC4_FreshFrozen  \\\n",
       "island    24.878135          21.828355          17.725521          17.504547   \n",
       "shore     55.268381          57.677253          47.117875          50.296781   \n",
       "shelf     65.498473          68.870308          58.308425          60.121858   \n",
       "opensea   61.493142          73.125197          57.823325          66.611884   \n",
       "\n",
       "0       T:CRC6_FreshFrozen  \n",
       "island           16.201923  \n",
       "shore            52.111979  \n",
       "shelf            63.479257  \n",
       "opensea          67.217435  \n",
       "\n",
       "[4 rows x 51 columns]"
      ]
     },
     "execution_count": 6,
     "metadata": {},
     "output_type": "execute_result"
    }
   ],
   "source": [
    "df_mean"
   ]
  },
  {
   "cell_type": "code",
   "execution_count": 7,
   "metadata": {},
   "outputs": [
    {
     "data": {
      "text/html": [
       "<div>\n",
       "<style scoped>\n",
       "    .dataframe tbody tr th:only-of-type {\n",
       "        vertical-align: middle;\n",
       "    }\n",
       "\n",
       "    .dataframe tbody tr th {\n",
       "        vertical-align: top;\n",
       "    }\n",
       "\n",
       "    .dataframe thead th {\n",
       "        text-align: right;\n",
       "    }\n",
       "</style>\n",
       "<table border=\"1\" class=\"dataframe\">\n",
       "  <thead>\n",
       "    <tr style=\"text-align: right;\">\n",
       "      <th></th>\n",
       "      <th>B:A001_C113</th>\n",
       "      <th>B:A001_C206</th>\n",
       "      <th>B:A002_C012</th>\n",
       "      <th>B:A002_C111</th>\n",
       "      <th>B:A014_C037</th>\n",
       "      <th>B:A014_C044</th>\n",
       "      <th>B:A015_C203</th>\n",
       "      <th>B:A033_E002</th>\n",
       "      <th>B:A035_E002</th>\n",
       "      <th>B:A035_E018</th>\n",
       "      <th>B:A035_E019</th>\n",
       "      <th>B:A035_E022</th>\n",
       "      <th>B:A035_E023</th>\n",
       "      <th>B:A035_E024</th>\n",
       "      <th>B:A052_E016</th>\n",
       "      <th>B:A052_E018</th>\n",
       "      <th>B:EP_007</th>\n",
       "      <th>B:EP_034</th>\n",
       "    </tr>\n",
       "  </thead>\n",
       "  <tbody>\n",
       "    <tr>\n",
       "      <th>island</th>\n",
       "      <td>20.728272</td>\n",
       "      <td>18.806566</td>\n",
       "      <td>17.936052</td>\n",
       "      <td>17.695458</td>\n",
       "      <td>18.983544</td>\n",
       "      <td>18.495104</td>\n",
       "      <td>17.503049</td>\n",
       "      <td>19.227265</td>\n",
       "      <td>17.77251</td>\n",
       "      <td>18.140306</td>\n",
       "      <td>20.066262</td>\n",
       "      <td>19.091342</td>\n",
       "      <td>21.277355</td>\n",
       "      <td>20.403706</td>\n",
       "      <td>18.998482</td>\n",
       "      <td>16.762792</td>\n",
       "      <td>17.766511</td>\n",
       "      <td>17.75175</td>\n",
       "    </tr>\n",
       "    <tr>\n",
       "      <th>shore</th>\n",
       "      <td>54.91373</td>\n",
       "      <td>53.940703</td>\n",
       "      <td>54.045962</td>\n",
       "      <td>53.603037</td>\n",
       "      <td>52.671048</td>\n",
       "      <td>51.6073</td>\n",
       "      <td>55.296419</td>\n",
       "      <td>53.502858</td>\n",
       "      <td>55.537438</td>\n",
       "      <td>55.739251</td>\n",
       "      <td>55.501984</td>\n",
       "      <td>56.335671</td>\n",
       "      <td>54.87427</td>\n",
       "      <td>55.772512</td>\n",
       "      <td>55.952728</td>\n",
       "      <td>56.219611</td>\n",
       "      <td>54.941181</td>\n",
       "      <td>53.41346</td>\n",
       "    </tr>\n",
       "    <tr>\n",
       "      <th>shelf</th>\n",
       "      <td>66.195006</td>\n",
       "      <td>65.465245</td>\n",
       "      <td>65.641546</td>\n",
       "      <td>65.085443</td>\n",
       "      <td>63.702237</td>\n",
       "      <td>62.565055</td>\n",
       "      <td>67.195452</td>\n",
       "      <td>64.695452</td>\n",
       "      <td>67.444612</td>\n",
       "      <td>67.605932</td>\n",
       "      <td>66.903971</td>\n",
       "      <td>68.096947</td>\n",
       "      <td>66.587157</td>\n",
       "      <td>67.361307</td>\n",
       "      <td>67.689906</td>\n",
       "      <td>68.446527</td>\n",
       "      <td>66.504045</td>\n",
       "      <td>64.916006</td>\n",
       "    </tr>\n",
       "    <tr>\n",
       "      <th>opensea</th>\n",
       "      <td>70.701021</td>\n",
       "      <td>71.11756</td>\n",
       "      <td>73.180774</td>\n",
       "      <td>71.152895</td>\n",
       "      <td>67.570508</td>\n",
       "      <td>65.085361</td>\n",
       "      <td>76.670528</td>\n",
       "      <td>71.35079</td>\n",
       "      <td>78.361267</td>\n",
       "      <td>77.247945</td>\n",
       "      <td>73.625693</td>\n",
       "      <td>77.079718</td>\n",
       "      <td>73.157617</td>\n",
       "      <td>74.923556</td>\n",
       "      <td>76.298554</td>\n",
       "      <td>79.328944</td>\n",
       "      <td>73.386625</td>\n",
       "      <td>71.121681</td>\n",
       "    </tr>\n",
       "  </tbody>\n",
       "</table>\n",
       "</div>"
      ],
      "text/plain": [
       "0       B:A001_C113 B:A001_C206 B:A002_C012 B:A002_C111 B:A014_C037  \\\n",
       "island    20.728272   18.806566   17.936052   17.695458   18.983544   \n",
       "shore      54.91373   53.940703   54.045962   53.603037   52.671048   \n",
       "shelf     66.195006   65.465245   65.641546   65.085443   63.702237   \n",
       "opensea   70.701021    71.11756   73.180774   71.152895   67.570508   \n",
       "\n",
       "0       B:A014_C044 B:A015_C203 B:A033_E002 B:A035_E002 B:A035_E018  \\\n",
       "island    18.495104   17.503049   19.227265    17.77251   18.140306   \n",
       "shore       51.6073   55.296419   53.502858   55.537438   55.739251   \n",
       "shelf     62.565055   67.195452   64.695452   67.444612   67.605932   \n",
       "opensea   65.085361   76.670528    71.35079   78.361267   77.247945   \n",
       "\n",
       "0       B:A035_E019 B:A035_E022 B:A035_E023 B:A035_E024 B:A052_E016  \\\n",
       "island    20.066262   19.091342   21.277355   20.403706   18.998482   \n",
       "shore     55.501984   56.335671    54.87427   55.772512   55.952728   \n",
       "shelf     66.903971   68.096947   66.587157   67.361307   67.689906   \n",
       "opensea   73.625693   77.079718   73.157617   74.923556   76.298554   \n",
       "\n",
       "0       B:A052_E018   B:EP_007   B:EP_034  \n",
       "island    16.762792  17.766511   17.75175  \n",
       "shore     56.219611  54.941181   53.41346  \n",
       "shelf     68.446527  66.504045  64.916006  \n",
       "opensea   79.328944  73.386625  71.121681  "
      ]
     },
     "execution_count": 7,
     "metadata": {},
     "output_type": "execute_result"
    }
   ],
   "source": [
    "df_mean[list(df_mean.columns[df_mean.columns.str.contains('B:')])]"
   ]
  },
  {
   "cell_type": "code",
   "execution_count": 8,
   "metadata": {},
   "outputs": [
    {
     "data": {
      "text/plain": [
       "array([20.728271919865698, 54.91372971500159, 66.19500623818716,\n",
       "       70.70102116597579, 18.80656629012825, 53.94070298735867,\n",
       "       65.46524476607938, 71.1175599253366, 17.93605167859224,\n",
       "       54.04596175554454, 65.64154599741927, 73.1807740019235,\n",
       "       17.69545796720662, 53.603036654019405, 65.0854427322276,\n",
       "       71.15289529153756, 18.983544104729265, 52.671047943314626,\n",
       "       63.70223715452333, 67.57050804491618, 18.49510427444141,\n",
       "       51.60729972396731, 62.565055047014546, 65.08536141736332,\n",
       "       17.503048621690652, 55.29641895926757, 67.19545240880159,\n",
       "       76.67052834262718, 19.22726481129021, 53.50285786489163,\n",
       "       64.69545239849428, 71.35078961155502, 17.772510253139504,\n",
       "       55.53743794642879, 67.44461248969768, 78.3612665607373,\n",
       "       18.14030588261442, 55.73925058614971, 67.60593192939825,\n",
       "       77.24794480033184, 20.06626222333015, 55.50198444949656,\n",
       "       66.9039711804013, 73.62569344305004, 19.091341743067094,\n",
       "       56.335670778465115, 68.09694711097713, 77.07971814816915,\n",
       "       21.277354864609237, 54.87427033695738, 66.58715682853457,\n",
       "       73.15761669827678, 20.403706480465583, 55.77251191118838,\n",
       "       67.36130661343184, 74.92355583742848, 18.99848183246604,\n",
       "       55.95272756973275, 67.68990633781155, 76.2985542400168,\n",
       "       16.762791517931955, 56.21961067173308, 68.44652726464975,\n",
       "       79.32894370258768, 17.766510566945488, 54.94118135534366,\n",
       "       66.50404520513838, 73.38662513054662, 17.7517496346785,\n",
       "       53.41345995867492, 64.916005886279, 71.12168053262286],\n",
       "      dtype=object)"
      ]
     },
     "execution_count": 8,
     "metadata": {},
     "output_type": "execute_result"
    }
   ],
   "source": [
    "df_mean[list(df_mean.columns[df_mean.columns.str.contains('B:')])].T.to_numpy().flatten()"
   ]
  },
  {
   "cell_type": "code",
   "execution_count": 9,
   "metadata": {},
   "outputs": [
    {
     "data": {
      "text/plain": [
       "['island',\n",
       " 'shore',\n",
       " 'shelf',\n",
       " 'opensea',\n",
       " 'island',\n",
       " 'shore',\n",
       " 'shelf',\n",
       " 'opensea',\n",
       " 'island',\n",
       " 'shore',\n",
       " 'shelf',\n",
       " 'opensea',\n",
       " 'island',\n",
       " 'shore',\n",
       " 'shelf',\n",
       " 'opensea',\n",
       " 'island',\n",
       " 'shore',\n",
       " 'shelf',\n",
       " 'opensea',\n",
       " 'island',\n",
       " 'shore',\n",
       " 'shelf',\n",
       " 'opensea',\n",
       " 'island',\n",
       " 'shore',\n",
       " 'shelf',\n",
       " 'opensea',\n",
       " 'island',\n",
       " 'shore',\n",
       " 'shelf',\n",
       " 'opensea',\n",
       " 'island',\n",
       " 'shore',\n",
       " 'shelf',\n",
       " 'opensea',\n",
       " 'island',\n",
       " 'shore',\n",
       " 'shelf',\n",
       " 'opensea',\n",
       " 'island',\n",
       " 'shore',\n",
       " 'shelf',\n",
       " 'opensea',\n",
       " 'island',\n",
       " 'shore',\n",
       " 'shelf',\n",
       " 'opensea',\n",
       " 'island',\n",
       " 'shore',\n",
       " 'shelf',\n",
       " 'opensea',\n",
       " 'island',\n",
       " 'shore',\n",
       " 'shelf',\n",
       " 'opensea',\n",
       " 'island',\n",
       " 'shore',\n",
       " 'shelf',\n",
       " 'opensea',\n",
       " 'island',\n",
       " 'shore',\n",
       " 'shelf',\n",
       " 'opensea',\n",
       " 'island',\n",
       " 'shore',\n",
       " 'shelf',\n",
       " 'opensea',\n",
       " 'island',\n",
       " 'shore',\n",
       " 'shelf',\n",
       " 'opensea']"
      ]
     },
     "execution_count": 9,
     "metadata": {},
     "output_type": "execute_result"
    }
   ],
   "source": [
    "list(df_mean.index)*len(list(df_mean.columns[df_mean.columns.str.contains('B:')]))"
   ]
  },
  {
   "cell_type": "code",
   "execution_count": 13,
   "metadata": {},
   "outputs": [
    {
     "data": {
      "application/vnd.plotly.v1+json": {
       "config": {
        "plotlyServerURL": "https://plot.ly"
       },
       "data": [
        {
         "line": {
          "width": 1
         },
         "marker": {
          "color": "rgb(255,0,0)"
         },
         "name": "Blood",
         "type": "box",
         "x": [
          "island",
          "shore",
          "shelf",
          "opensea",
          "island",
          "shore",
          "shelf",
          "opensea",
          "island",
          "shore",
          "shelf",
          "opensea",
          "island",
          "shore",
          "shelf",
          "opensea",
          "island",
          "shore",
          "shelf",
          "opensea"
         ],
         "y": [
          16.758603170683315,
          59.06186515195426,
          70.93900653245255,
          83.25964545812245,
          16.897774398855187,
          59.33653295702357,
          70.91148018443754,
          83.68612500461383,
          16.557487509581385,
          59.624904631450555,
          71.24670717806363,
          84.32933355418578,
          16.370276347570762,
          59.46063487765131,
          71.23351242159879,
          84.32665454978371,
          16.679239288724983,
          59.44642063702346,
          71.32411775593332,
          84.15516554170745
         ]
        },
        {
         "line": {
          "width": 1
         },
         "marker": {
          "color": "rgb(240, 240, 0)"
         },
         "name": "Normal",
         "type": "box",
         "x": [
          "island",
          "shore",
          "shelf",
          "opensea",
          "island",
          "shore",
          "shelf",
          "opensea",
          "island",
          "shore",
          "shelf",
          "opensea",
          "island",
          "shore",
          "shelf",
          "opensea",
          "island",
          "shore",
          "shelf",
          "opensea",
          "island",
          "shore",
          "shelf",
          "opensea",
          "island",
          "shore",
          "shelf",
          "opensea",
          "island",
          "shore",
          "shelf",
          "opensea",
          "island",
          "shore",
          "shelf",
          "opensea",
          "island",
          "shore",
          "shelf",
          "opensea",
          "island",
          "shore",
          "shelf",
          "opensea",
          "island",
          "shore",
          "shelf",
          "opensea"
         ],
         "y": [
          18.082168475168043,
          55.94334992913844,
          68.08963418692868,
          78.37109599222084,
          16.904010887960016,
          56.164022731363964,
          68.48992063704016,
          80.28783891648132,
          17.410898630683565,
          56.063891096741294,
          67.86915574959038,
          78.04757061811738,
          16.750536870907652,
          57.33886115305462,
          69.1802591535839,
          80.78555503073825,
          16.976238278351893,
          56.95151077746996,
          68.85342905097103,
          79.86920982626964,
          16.684336938814752,
          57.78659087464587,
          69.60580011130033,
          81.69444631142589,
          17.456419840301955,
          56.07719471976686,
          67.89160210840325,
          78.47319984811563,
          20.31432020466682,
          55.21595464918931,
          66.79743535359225,
          72.11827061450104,
          19.671567842683043,
          55.34788717793591,
          66.41545898036433,
          72.37669046299683,
          17.50693989101436,
          57.664225998329,
          69.97176712996055,
          82.33771408446569,
          17.079752304739714,
          56.48967037636238,
          68.74059308097395,
          80.15664168426069,
          16.592517430814034,
          56.13521591685527,
          68.36284545225078,
          80.39483845676081
         ]
        },
        {
         "line": {
          "width": 1
         },
         "marker": {
          "color": "rgb(153, 255, 51)"
         },
         "name": "Benign",
         "type": "box",
         "x": [
          "island",
          "shore",
          "shelf",
          "opensea",
          "island",
          "shore",
          "shelf",
          "opensea",
          "island",
          "shore",
          "shelf",
          "opensea",
          "island",
          "shore",
          "shelf",
          "opensea",
          "island",
          "shore",
          "shelf",
          "opensea",
          "island",
          "shore",
          "shelf",
          "opensea",
          "island",
          "shore",
          "shelf",
          "opensea",
          "island",
          "shore",
          "shelf",
          "opensea",
          "island",
          "shore",
          "shelf",
          "opensea",
          "island",
          "shore",
          "shelf",
          "opensea",
          "island",
          "shore",
          "shelf",
          "opensea",
          "island",
          "shore",
          "shelf",
          "opensea",
          "island",
          "shore",
          "shelf",
          "opensea",
          "island",
          "shore",
          "shelf",
          "opensea",
          "island",
          "shore",
          "shelf",
          "opensea",
          "island",
          "shore",
          "shelf",
          "opensea",
          "island",
          "shore",
          "shelf",
          "opensea",
          "island",
          "shore",
          "shelf",
          "opensea"
         ],
         "y": [
          20.728271919865698,
          54.91372971500159,
          66.19500623818716,
          70.70102116597579,
          18.80656629012825,
          53.94070298735867,
          65.46524476607938,
          71.1175599253366,
          17.93605167859224,
          54.04596175554454,
          65.64154599741927,
          73.1807740019235,
          17.69545796720662,
          53.603036654019405,
          65.0854427322276,
          71.15289529153756,
          18.983544104729265,
          52.671047943314626,
          63.70223715452333,
          67.57050804491618,
          18.49510427444141,
          51.60729972396731,
          62.565055047014546,
          65.08536141736332,
          17.503048621690652,
          55.29641895926757,
          67.19545240880159,
          76.67052834262718,
          19.22726481129021,
          53.50285786489163,
          64.69545239849428,
          71.35078961155502,
          17.772510253139504,
          55.53743794642879,
          67.44461248969768,
          78.3612665607373,
          18.14030588261442,
          55.73925058614971,
          67.60593192939825,
          77.24794480033184,
          20.06626222333015,
          55.50198444949656,
          66.9039711804013,
          73.62569344305004,
          19.091341743067094,
          56.335670778465115,
          68.09694711097713,
          77.07971814816915,
          21.277354864609237,
          54.87427033695738,
          66.58715682853457,
          73.15761669827678,
          20.403706480465583,
          55.77251191118838,
          67.36130661343184,
          74.92355583742848,
          18.99848183246604,
          55.95272756973275,
          67.68990633781155,
          76.2985542400168,
          16.762791517931955,
          56.21961067173308,
          68.44652726464975,
          79.32894370258768,
          17.766510566945488,
          54.94118135534366,
          66.50404520513838,
          73.38662513054662,
          17.7517496346785,
          53.41345995867492,
          64.916005886279,
          71.12168053262286
         ]
        },
        {
         "line": {
          "width": 1
         },
         "marker": {
          "color": "rgb(102, 204, 85)"
         },
         "name": "Dysplasisa",
         "type": "box",
         "x": [
          "island",
          "shore",
          "shelf",
          "opensea",
          "island",
          "shore",
          "shelf",
          "opensea",
          "island",
          "shore",
          "shelf",
          "opensea",
          "island",
          "shore",
          "shelf",
          "opensea",
          "island",
          "shore",
          "shelf",
          "opensea",
          "island",
          "shore",
          "shelf",
          "opensea",
          "island",
          "shore",
          "shelf",
          "opensea",
          "island",
          "shore",
          "shelf",
          "opensea",
          "island",
          "shore",
          "shelf",
          "opensea",
          "island",
          "shore",
          "shelf",
          "opensea",
          "island",
          "shore",
          "shelf",
          "opensea"
         ],
         "y": [
          20.774891354920427,
          54.08487006407937,
          65.44905481069104,
          68.71823086598141,
          19.831948700467297,
          54.87328009329507,
          66.49177181456895,
          73.41361791976706,
          18.75205144970184,
          50.73569615021134,
          61.35046948936777,
          58.535122882742805,
          18.56279560105757,
          52.02174481893787,
          62.92571807533769,
          63.87088922993693,
          21.43148802371043,
          51.89665041031873,
          62.50254608247739,
          61.71626490536111,
          19.872721656442767,
          52.0179694099923,
          62.802791819444046,
          64.82947775220035,
          19.104590585742393,
          53.12891009133753,
          64.12519586432812,
          65.9937682708088,
          18.197941087966825,
          53.263488470536814,
          64.74273777310924,
          72.93507392936552,
          19.142722270281283,
          56.74678761410683,
          68.640116951628,
          77.56755750902157,
          18.224979680427143,
          56.29429553796679,
          68.45639228595833,
          79.6743795142027,
          19.51045573358585,
          52.024845271751815,
          63.91151700819748,
          66.16667762140044
         ]
        },
        {
         "line": {
          "width": 1
         },
         "marker": {
          "color": "rgb(51, 102,  0)"
         },
         "name": "Adenocarcinoma",
         "type": "box",
         "x": [
          "island",
          "shore",
          "shelf",
          "opensea",
          "island",
          "shore",
          "shelf",
          "opensea",
          "island",
          "shore",
          "shelf",
          "opensea",
          "island",
          "shore",
          "shelf",
          "opensea",
          "island",
          "shore",
          "shelf",
          "opensea"
         ],
         "y": [
          24.878134986753587,
          55.26838082092439,
          65.49847288332913,
          61.49314235054886,
          21.828354747564415,
          57.67725349224431,
          68.87030816932825,
          73.1251965862115,
          17.725520841304697,
          47.11787507478858,
          58.30842515002461,
          57.82332536802417,
          17.504546932029623,
          50.29678085477425,
          60.1218578962315,
          66.61188430808993,
          16.201923302771167,
          52.11197859286267,
          63.47925683927442,
          67.21743451362686
         ]
        }
       ],
       "layout": {
        "boxmode": "group",
        "font": {
         "color": "black",
         "family": "Arial, monospace",
         "size": 14
        },
        "height": 400,
        "legend": {
         "bgcolor": "rgb(255, 255, 255)",
         "bordercolor": "Black",
         "borderwidth": 1
        },
        "plot_bgcolor": "rgb(250,250,250)",
        "template": {
         "data": {
          "bar": [
           {
            "error_x": {
             "color": "#2a3f5f"
            },
            "error_y": {
             "color": "#2a3f5f"
            },
            "marker": {
             "line": {
              "color": "#E5ECF6",
              "width": 0.5
             },
             "pattern": {
              "fillmode": "overlay",
              "size": 10,
              "solidity": 0.2
             }
            },
            "type": "bar"
           }
          ],
          "barpolar": [
           {
            "marker": {
             "line": {
              "color": "#E5ECF6",
              "width": 0.5
             },
             "pattern": {
              "fillmode": "overlay",
              "size": 10,
              "solidity": 0.2
             }
            },
            "type": "barpolar"
           }
          ],
          "carpet": [
           {
            "aaxis": {
             "endlinecolor": "#2a3f5f",
             "gridcolor": "white",
             "linecolor": "white",
             "minorgridcolor": "white",
             "startlinecolor": "#2a3f5f"
            },
            "baxis": {
             "endlinecolor": "#2a3f5f",
             "gridcolor": "white",
             "linecolor": "white",
             "minorgridcolor": "white",
             "startlinecolor": "#2a3f5f"
            },
            "type": "carpet"
           }
          ],
          "choropleth": [
           {
            "colorbar": {
             "outlinewidth": 0,
             "ticks": ""
            },
            "type": "choropleth"
           }
          ],
          "contour": [
           {
            "colorbar": {
             "outlinewidth": 0,
             "ticks": ""
            },
            "colorscale": [
             [
              0,
              "#0d0887"
             ],
             [
              0.1111111111111111,
              "#46039f"
             ],
             [
              0.2222222222222222,
              "#7201a8"
             ],
             [
              0.3333333333333333,
              "#9c179e"
             ],
             [
              0.4444444444444444,
              "#bd3786"
             ],
             [
              0.5555555555555556,
              "#d8576b"
             ],
             [
              0.6666666666666666,
              "#ed7953"
             ],
             [
              0.7777777777777778,
              "#fb9f3a"
             ],
             [
              0.8888888888888888,
              "#fdca26"
             ],
             [
              1,
              "#f0f921"
             ]
            ],
            "type": "contour"
           }
          ],
          "contourcarpet": [
           {
            "colorbar": {
             "outlinewidth": 0,
             "ticks": ""
            },
            "type": "contourcarpet"
           }
          ],
          "heatmap": [
           {
            "colorbar": {
             "outlinewidth": 0,
             "ticks": ""
            },
            "colorscale": [
             [
              0,
              "#0d0887"
             ],
             [
              0.1111111111111111,
              "#46039f"
             ],
             [
              0.2222222222222222,
              "#7201a8"
             ],
             [
              0.3333333333333333,
              "#9c179e"
             ],
             [
              0.4444444444444444,
              "#bd3786"
             ],
             [
              0.5555555555555556,
              "#d8576b"
             ],
             [
              0.6666666666666666,
              "#ed7953"
             ],
             [
              0.7777777777777778,
              "#fb9f3a"
             ],
             [
              0.8888888888888888,
              "#fdca26"
             ],
             [
              1,
              "#f0f921"
             ]
            ],
            "type": "heatmap"
           }
          ],
          "heatmapgl": [
           {
            "colorbar": {
             "outlinewidth": 0,
             "ticks": ""
            },
            "colorscale": [
             [
              0,
              "#0d0887"
             ],
             [
              0.1111111111111111,
              "#46039f"
             ],
             [
              0.2222222222222222,
              "#7201a8"
             ],
             [
              0.3333333333333333,
              "#9c179e"
             ],
             [
              0.4444444444444444,
              "#bd3786"
             ],
             [
              0.5555555555555556,
              "#d8576b"
             ],
             [
              0.6666666666666666,
              "#ed7953"
             ],
             [
              0.7777777777777778,
              "#fb9f3a"
             ],
             [
              0.8888888888888888,
              "#fdca26"
             ],
             [
              1,
              "#f0f921"
             ]
            ],
            "type": "heatmapgl"
           }
          ],
          "histogram": [
           {
            "marker": {
             "pattern": {
              "fillmode": "overlay",
              "size": 10,
              "solidity": 0.2
             }
            },
            "type": "histogram"
           }
          ],
          "histogram2d": [
           {
            "colorbar": {
             "outlinewidth": 0,
             "ticks": ""
            },
            "colorscale": [
             [
              0,
              "#0d0887"
             ],
             [
              0.1111111111111111,
              "#46039f"
             ],
             [
              0.2222222222222222,
              "#7201a8"
             ],
             [
              0.3333333333333333,
              "#9c179e"
             ],
             [
              0.4444444444444444,
              "#bd3786"
             ],
             [
              0.5555555555555556,
              "#d8576b"
             ],
             [
              0.6666666666666666,
              "#ed7953"
             ],
             [
              0.7777777777777778,
              "#fb9f3a"
             ],
             [
              0.8888888888888888,
              "#fdca26"
             ],
             [
              1,
              "#f0f921"
             ]
            ],
            "type": "histogram2d"
           }
          ],
          "histogram2dcontour": [
           {
            "colorbar": {
             "outlinewidth": 0,
             "ticks": ""
            },
            "colorscale": [
             [
              0,
              "#0d0887"
             ],
             [
              0.1111111111111111,
              "#46039f"
             ],
             [
              0.2222222222222222,
              "#7201a8"
             ],
             [
              0.3333333333333333,
              "#9c179e"
             ],
             [
              0.4444444444444444,
              "#bd3786"
             ],
             [
              0.5555555555555556,
              "#d8576b"
             ],
             [
              0.6666666666666666,
              "#ed7953"
             ],
             [
              0.7777777777777778,
              "#fb9f3a"
             ],
             [
              0.8888888888888888,
              "#fdca26"
             ],
             [
              1,
              "#f0f921"
             ]
            ],
            "type": "histogram2dcontour"
           }
          ],
          "mesh3d": [
           {
            "colorbar": {
             "outlinewidth": 0,
             "ticks": ""
            },
            "type": "mesh3d"
           }
          ],
          "parcoords": [
           {
            "line": {
             "colorbar": {
              "outlinewidth": 0,
              "ticks": ""
             }
            },
            "type": "parcoords"
           }
          ],
          "pie": [
           {
            "automargin": true,
            "type": "pie"
           }
          ],
          "scatter": [
           {
            "fillpattern": {
             "fillmode": "overlay",
             "size": 10,
             "solidity": 0.2
            },
            "type": "scatter"
           }
          ],
          "scatter3d": [
           {
            "line": {
             "colorbar": {
              "outlinewidth": 0,
              "ticks": ""
             }
            },
            "marker": {
             "colorbar": {
              "outlinewidth": 0,
              "ticks": ""
             }
            },
            "type": "scatter3d"
           }
          ],
          "scattercarpet": [
           {
            "marker": {
             "colorbar": {
              "outlinewidth": 0,
              "ticks": ""
             }
            },
            "type": "scattercarpet"
           }
          ],
          "scattergeo": [
           {
            "marker": {
             "colorbar": {
              "outlinewidth": 0,
              "ticks": ""
             }
            },
            "type": "scattergeo"
           }
          ],
          "scattergl": [
           {
            "marker": {
             "colorbar": {
              "outlinewidth": 0,
              "ticks": ""
             }
            },
            "type": "scattergl"
           }
          ],
          "scattermapbox": [
           {
            "marker": {
             "colorbar": {
              "outlinewidth": 0,
              "ticks": ""
             }
            },
            "type": "scattermapbox"
           }
          ],
          "scatterpolar": [
           {
            "marker": {
             "colorbar": {
              "outlinewidth": 0,
              "ticks": ""
             }
            },
            "type": "scatterpolar"
           }
          ],
          "scatterpolargl": [
           {
            "marker": {
             "colorbar": {
              "outlinewidth": 0,
              "ticks": ""
             }
            },
            "type": "scatterpolargl"
           }
          ],
          "scatterternary": [
           {
            "marker": {
             "colorbar": {
              "outlinewidth": 0,
              "ticks": ""
             }
            },
            "type": "scatterternary"
           }
          ],
          "surface": [
           {
            "colorbar": {
             "outlinewidth": 0,
             "ticks": ""
            },
            "colorscale": [
             [
              0,
              "#0d0887"
             ],
             [
              0.1111111111111111,
              "#46039f"
             ],
             [
              0.2222222222222222,
              "#7201a8"
             ],
             [
              0.3333333333333333,
              "#9c179e"
             ],
             [
              0.4444444444444444,
              "#bd3786"
             ],
             [
              0.5555555555555556,
              "#d8576b"
             ],
             [
              0.6666666666666666,
              "#ed7953"
             ],
             [
              0.7777777777777778,
              "#fb9f3a"
             ],
             [
              0.8888888888888888,
              "#fdca26"
             ],
             [
              1,
              "#f0f921"
             ]
            ],
            "type": "surface"
           }
          ],
          "table": [
           {
            "cells": {
             "fill": {
              "color": "#EBF0F8"
             },
             "line": {
              "color": "white"
             }
            },
            "header": {
             "fill": {
              "color": "#C8D4E3"
             },
             "line": {
              "color": "white"
             }
            },
            "type": "table"
           }
          ]
         },
         "layout": {
          "annotationdefaults": {
           "arrowcolor": "#2a3f5f",
           "arrowhead": 0,
           "arrowwidth": 1
          },
          "autotypenumbers": "strict",
          "coloraxis": {
           "colorbar": {
            "outlinewidth": 0,
            "ticks": ""
           }
          },
          "colorscale": {
           "diverging": [
            [
             0,
             "#8e0152"
            ],
            [
             0.1,
             "#c51b7d"
            ],
            [
             0.2,
             "#de77ae"
            ],
            [
             0.3,
             "#f1b6da"
            ],
            [
             0.4,
             "#fde0ef"
            ],
            [
             0.5,
             "#f7f7f7"
            ],
            [
             0.6,
             "#e6f5d0"
            ],
            [
             0.7,
             "#b8e186"
            ],
            [
             0.8,
             "#7fbc41"
            ],
            [
             0.9,
             "#4d9221"
            ],
            [
             1,
             "#276419"
            ]
           ],
           "sequential": [
            [
             0,
             "#0d0887"
            ],
            [
             0.1111111111111111,
             "#46039f"
            ],
            [
             0.2222222222222222,
             "#7201a8"
            ],
            [
             0.3333333333333333,
             "#9c179e"
            ],
            [
             0.4444444444444444,
             "#bd3786"
            ],
            [
             0.5555555555555556,
             "#d8576b"
            ],
            [
             0.6666666666666666,
             "#ed7953"
            ],
            [
             0.7777777777777778,
             "#fb9f3a"
            ],
            [
             0.8888888888888888,
             "#fdca26"
            ],
            [
             1,
             "#f0f921"
            ]
           ],
           "sequentialminus": [
            [
             0,
             "#0d0887"
            ],
            [
             0.1111111111111111,
             "#46039f"
            ],
            [
             0.2222222222222222,
             "#7201a8"
            ],
            [
             0.3333333333333333,
             "#9c179e"
            ],
            [
             0.4444444444444444,
             "#bd3786"
            ],
            [
             0.5555555555555556,
             "#d8576b"
            ],
            [
             0.6666666666666666,
             "#ed7953"
            ],
            [
             0.7777777777777778,
             "#fb9f3a"
            ],
            [
             0.8888888888888888,
             "#fdca26"
            ],
            [
             1,
             "#f0f921"
            ]
           ]
          },
          "colorway": [
           "#636efa",
           "#EF553B",
           "#00cc96",
           "#ab63fa",
           "#FFA15A",
           "#19d3f3",
           "#FF6692",
           "#B6E880",
           "#FF97FF",
           "#FECB52"
          ],
          "font": {
           "color": "#2a3f5f"
          },
          "geo": {
           "bgcolor": "white",
           "lakecolor": "white",
           "landcolor": "#E5ECF6",
           "showlakes": true,
           "showland": true,
           "subunitcolor": "white"
          },
          "hoverlabel": {
           "align": "left"
          },
          "hovermode": "closest",
          "mapbox": {
           "style": "light"
          },
          "paper_bgcolor": "white",
          "plot_bgcolor": "#E5ECF6",
          "polar": {
           "angularaxis": {
            "gridcolor": "white",
            "linecolor": "white",
            "ticks": ""
           },
           "bgcolor": "#E5ECF6",
           "radialaxis": {
            "gridcolor": "white",
            "linecolor": "white",
            "ticks": ""
           }
          },
          "scene": {
           "xaxis": {
            "backgroundcolor": "#E5ECF6",
            "gridcolor": "white",
            "gridwidth": 2,
            "linecolor": "white",
            "showbackground": true,
            "ticks": "",
            "zerolinecolor": "white"
           },
           "yaxis": {
            "backgroundcolor": "#E5ECF6",
            "gridcolor": "white",
            "gridwidth": 2,
            "linecolor": "white",
            "showbackground": true,
            "ticks": "",
            "zerolinecolor": "white"
           },
           "zaxis": {
            "backgroundcolor": "#E5ECF6",
            "gridcolor": "white",
            "gridwidth": 2,
            "linecolor": "white",
            "showbackground": true,
            "ticks": "",
            "zerolinecolor": "white"
           }
          },
          "shapedefaults": {
           "line": {
            "color": "#2a3f5f"
           }
          },
          "ternary": {
           "aaxis": {
            "gridcolor": "white",
            "linecolor": "white",
            "ticks": ""
           },
           "baxis": {
            "gridcolor": "white",
            "linecolor": "white",
            "ticks": ""
           },
           "bgcolor": "#E5ECF6",
           "caxis": {
            "gridcolor": "white",
            "linecolor": "white",
            "ticks": ""
           }
          },
          "title": {
           "x": 0.05
          },
          "xaxis": {
           "automargin": true,
           "gridcolor": "white",
           "linecolor": "white",
           "ticks": "",
           "title": {
            "standoff": 15
           },
           "zerolinecolor": "white",
           "zerolinewidth": 2
          },
          "yaxis": {
           "automargin": true,
           "gridcolor": "white",
           "linecolor": "white",
           "ticks": "",
           "title": {
            "standoff": 15
           },
           "zerolinecolor": "white",
           "zerolinewidth": 2
          }
         }
        },
        "title": {
         "font": {
          "size": 20
         },
         "text": "FAP WGEM-seq global hypomethylation per CGI and CG shore",
         "x": 0.5,
         "xanchor": "center"
        },
        "width": 500,
        "xaxis": {
         "linecolor": "black",
         "linewidth": 2,
         "mirror": true,
         "showline": true,
         "ticks": "outside"
        },
        "yaxis": {
         "linecolor": "black",
         "linewidth": 2,
         "mirror": true,
         "range": [
          0,
          100
         ],
         "showline": true,
         "tickmode": "array",
         "ticks": "outside",
         "tickvals": [
          0,
          10,
          20,
          30,
          40,
          50,
          60,
          70,
          80,
          90,
          100
         ],
         "title": {
          "text": "Methylation ratio (%)"
         }
        }
       }
      },
      "text/html": [
       "<div>                            <div id=\"e362ee0a-0f8f-4225-9549-165d8dcb5d42\" class=\"plotly-graph-div\" style=\"height:400px; width:500px;\"></div>            <script type=\"text/javascript\">                require([\"plotly\"], function(Plotly) {                    window.PLOTLYENV=window.PLOTLYENV || {};                                    if (document.getElementById(\"e362ee0a-0f8f-4225-9549-165d8dcb5d42\")) {                    Plotly.newPlot(                        \"e362ee0a-0f8f-4225-9549-165d8dcb5d42\",                        [{\"line\":{\"width\":1},\"marker\":{\"color\":\"rgb(255,0,0)\"},\"name\":\"Blood\",\"x\":[\"island\",\"shore\",\"shelf\",\"opensea\",\"island\",\"shore\",\"shelf\",\"opensea\",\"island\",\"shore\",\"shelf\",\"opensea\",\"island\",\"shore\",\"shelf\",\"opensea\",\"island\",\"shore\",\"shelf\",\"opensea\"],\"y\":[16.758603170683315,59.06186515195426,70.93900653245255,83.25964545812245,16.897774398855187,59.33653295702357,70.91148018443754,83.68612500461383,16.557487509581385,59.624904631450555,71.24670717806363,84.32933355418578,16.370276347570762,59.46063487765131,71.23351242159879,84.32665454978371,16.679239288724983,59.44642063702346,71.32411775593332,84.15516554170745],\"type\":\"box\"},{\"line\":{\"width\":1},\"marker\":{\"color\":\"rgb(240, 240, 0)\"},\"name\":\"Normal\",\"x\":[\"island\",\"shore\",\"shelf\",\"opensea\",\"island\",\"shore\",\"shelf\",\"opensea\",\"island\",\"shore\",\"shelf\",\"opensea\",\"island\",\"shore\",\"shelf\",\"opensea\",\"island\",\"shore\",\"shelf\",\"opensea\",\"island\",\"shore\",\"shelf\",\"opensea\",\"island\",\"shore\",\"shelf\",\"opensea\",\"island\",\"shore\",\"shelf\",\"opensea\",\"island\",\"shore\",\"shelf\",\"opensea\",\"island\",\"shore\",\"shelf\",\"opensea\",\"island\",\"shore\",\"shelf\",\"opensea\",\"island\",\"shore\",\"shelf\",\"opensea\"],\"y\":[18.082168475168043,55.94334992913844,68.08963418692868,78.37109599222084,16.904010887960016,56.164022731363964,68.48992063704016,80.28783891648132,17.410898630683565,56.063891096741294,67.86915574959038,78.04757061811738,16.750536870907652,57.33886115305462,69.1802591535839,80.78555503073825,16.976238278351893,56.95151077746996,68.85342905097103,79.86920982626964,16.684336938814752,57.78659087464587,69.60580011130033,81.69444631142589,17.456419840301955,56.07719471976686,67.89160210840325,78.47319984811563,20.31432020466682,55.21595464918931,66.79743535359225,72.11827061450104,19.671567842683043,55.34788717793591,66.41545898036433,72.37669046299683,17.50693989101436,57.664225998329,69.97176712996055,82.33771408446569,17.079752304739714,56.48967037636238,68.74059308097395,80.15664168426069,16.592517430814034,56.13521591685527,68.36284545225078,80.39483845676081],\"type\":\"box\"},{\"line\":{\"width\":1},\"marker\":{\"color\":\"rgb(153, 255, 51)\"},\"name\":\"Benign\",\"x\":[\"island\",\"shore\",\"shelf\",\"opensea\",\"island\",\"shore\",\"shelf\",\"opensea\",\"island\",\"shore\",\"shelf\",\"opensea\",\"island\",\"shore\",\"shelf\",\"opensea\",\"island\",\"shore\",\"shelf\",\"opensea\",\"island\",\"shore\",\"shelf\",\"opensea\",\"island\",\"shore\",\"shelf\",\"opensea\",\"island\",\"shore\",\"shelf\",\"opensea\",\"island\",\"shore\",\"shelf\",\"opensea\",\"island\",\"shore\",\"shelf\",\"opensea\",\"island\",\"shore\",\"shelf\",\"opensea\",\"island\",\"shore\",\"shelf\",\"opensea\",\"island\",\"shore\",\"shelf\",\"opensea\",\"island\",\"shore\",\"shelf\",\"opensea\",\"island\",\"shore\",\"shelf\",\"opensea\",\"island\",\"shore\",\"shelf\",\"opensea\",\"island\",\"shore\",\"shelf\",\"opensea\",\"island\",\"shore\",\"shelf\",\"opensea\"],\"y\":[20.728271919865698,54.91372971500159,66.19500623818716,70.70102116597579,18.80656629012825,53.94070298735867,65.46524476607938,71.1175599253366,17.93605167859224,54.04596175554454,65.64154599741927,73.1807740019235,17.69545796720662,53.603036654019405,65.0854427322276,71.15289529153756,18.983544104729265,52.671047943314626,63.70223715452333,67.57050804491618,18.49510427444141,51.60729972396731,62.565055047014546,65.08536141736332,17.503048621690652,55.29641895926757,67.19545240880159,76.67052834262718,19.22726481129021,53.50285786489163,64.69545239849428,71.35078961155502,17.772510253139504,55.53743794642879,67.44461248969768,78.3612665607373,18.14030588261442,55.73925058614971,67.60593192939825,77.24794480033184,20.06626222333015,55.50198444949656,66.9039711804013,73.62569344305004,19.091341743067094,56.335670778465115,68.09694711097713,77.07971814816915,21.277354864609237,54.87427033695738,66.58715682853457,73.15761669827678,20.403706480465583,55.77251191118838,67.36130661343184,74.92355583742848,18.99848183246604,55.95272756973275,67.68990633781155,76.2985542400168,16.762791517931955,56.21961067173308,68.44652726464975,79.32894370258768,17.766510566945488,54.94118135534366,66.50404520513838,73.38662513054662,17.7517496346785,53.41345995867492,64.916005886279,71.12168053262286],\"type\":\"box\"},{\"line\":{\"width\":1},\"marker\":{\"color\":\"rgb(102, 204, 85)\"},\"name\":\"Dysplasisa\",\"x\":[\"island\",\"shore\",\"shelf\",\"opensea\",\"island\",\"shore\",\"shelf\",\"opensea\",\"island\",\"shore\",\"shelf\",\"opensea\",\"island\",\"shore\",\"shelf\",\"opensea\",\"island\",\"shore\",\"shelf\",\"opensea\",\"island\",\"shore\",\"shelf\",\"opensea\",\"island\",\"shore\",\"shelf\",\"opensea\",\"island\",\"shore\",\"shelf\",\"opensea\",\"island\",\"shore\",\"shelf\",\"opensea\",\"island\",\"shore\",\"shelf\",\"opensea\",\"island\",\"shore\",\"shelf\",\"opensea\"],\"y\":[20.774891354920427,54.08487006407937,65.44905481069104,68.71823086598141,19.831948700467297,54.87328009329507,66.49177181456895,73.41361791976706,18.75205144970184,50.73569615021134,61.35046948936777,58.535122882742805,18.56279560105757,52.02174481893787,62.92571807533769,63.87088922993693,21.43148802371043,51.89665041031873,62.50254608247739,61.71626490536111,19.872721656442767,52.0179694099923,62.802791819444046,64.82947775220035,19.104590585742393,53.12891009133753,64.12519586432812,65.9937682708088,18.197941087966825,53.263488470536814,64.74273777310924,72.93507392936552,19.142722270281283,56.74678761410683,68.640116951628,77.56755750902157,18.224979680427143,56.29429553796679,68.45639228595833,79.6743795142027,19.51045573358585,52.024845271751815,63.91151700819748,66.16667762140044],\"type\":\"box\"},{\"line\":{\"width\":1},\"marker\":{\"color\":\"rgb(51, 102,  0)\"},\"name\":\"Adenocarcinoma\",\"x\":[\"island\",\"shore\",\"shelf\",\"opensea\",\"island\",\"shore\",\"shelf\",\"opensea\",\"island\",\"shore\",\"shelf\",\"opensea\",\"island\",\"shore\",\"shelf\",\"opensea\",\"island\",\"shore\",\"shelf\",\"opensea\"],\"y\":[24.878134986753587,55.26838082092439,65.49847288332913,61.49314235054886,21.828354747564415,57.67725349224431,68.87030816932825,73.1251965862115,17.725520841304697,47.11787507478858,58.30842515002461,57.82332536802417,17.504546932029623,50.29678085477425,60.1218578962315,66.61188430808993,16.201923302771167,52.11197859286267,63.47925683927442,67.21743451362686],\"type\":\"box\"}],                        {\"template\":{\"data\":{\"histogram2dcontour\":[{\"type\":\"histogram2dcontour\",\"colorbar\":{\"outlinewidth\":0,\"ticks\":\"\"},\"colorscale\":[[0.0,\"#0d0887\"],[0.1111111111111111,\"#46039f\"],[0.2222222222222222,\"#7201a8\"],[0.3333333333333333,\"#9c179e\"],[0.4444444444444444,\"#bd3786\"],[0.5555555555555556,\"#d8576b\"],[0.6666666666666666,\"#ed7953\"],[0.7777777777777778,\"#fb9f3a\"],[0.8888888888888888,\"#fdca26\"],[1.0,\"#f0f921\"]]}],\"choropleth\":[{\"type\":\"choropleth\",\"colorbar\":{\"outlinewidth\":0,\"ticks\":\"\"}}],\"histogram2d\":[{\"type\":\"histogram2d\",\"colorbar\":{\"outlinewidth\":0,\"ticks\":\"\"},\"colorscale\":[[0.0,\"#0d0887\"],[0.1111111111111111,\"#46039f\"],[0.2222222222222222,\"#7201a8\"],[0.3333333333333333,\"#9c179e\"],[0.4444444444444444,\"#bd3786\"],[0.5555555555555556,\"#d8576b\"],[0.6666666666666666,\"#ed7953\"],[0.7777777777777778,\"#fb9f3a\"],[0.8888888888888888,\"#fdca26\"],[1.0,\"#f0f921\"]]}],\"heatmap\":[{\"type\":\"heatmap\",\"colorbar\":{\"outlinewidth\":0,\"ticks\":\"\"},\"colorscale\":[[0.0,\"#0d0887\"],[0.1111111111111111,\"#46039f\"],[0.2222222222222222,\"#7201a8\"],[0.3333333333333333,\"#9c179e\"],[0.4444444444444444,\"#bd3786\"],[0.5555555555555556,\"#d8576b\"],[0.6666666666666666,\"#ed7953\"],[0.7777777777777778,\"#fb9f3a\"],[0.8888888888888888,\"#fdca26\"],[1.0,\"#f0f921\"]]}],\"heatmapgl\":[{\"type\":\"heatmapgl\",\"colorbar\":{\"outlinewidth\":0,\"ticks\":\"\"},\"colorscale\":[[0.0,\"#0d0887\"],[0.1111111111111111,\"#46039f\"],[0.2222222222222222,\"#7201a8\"],[0.3333333333333333,\"#9c179e\"],[0.4444444444444444,\"#bd3786\"],[0.5555555555555556,\"#d8576b\"],[0.6666666666666666,\"#ed7953\"],[0.7777777777777778,\"#fb9f3a\"],[0.8888888888888888,\"#fdca26\"],[1.0,\"#f0f921\"]]}],\"contourcarpet\":[{\"type\":\"contourcarpet\",\"colorbar\":{\"outlinewidth\":0,\"ticks\":\"\"}}],\"contour\":[{\"type\":\"contour\",\"colorbar\":{\"outlinewidth\":0,\"ticks\":\"\"},\"colorscale\":[[0.0,\"#0d0887\"],[0.1111111111111111,\"#46039f\"],[0.2222222222222222,\"#7201a8\"],[0.3333333333333333,\"#9c179e\"],[0.4444444444444444,\"#bd3786\"],[0.5555555555555556,\"#d8576b\"],[0.6666666666666666,\"#ed7953\"],[0.7777777777777778,\"#fb9f3a\"],[0.8888888888888888,\"#fdca26\"],[1.0,\"#f0f921\"]]}],\"surface\":[{\"type\":\"surface\",\"colorbar\":{\"outlinewidth\":0,\"ticks\":\"\"},\"colorscale\":[[0.0,\"#0d0887\"],[0.1111111111111111,\"#46039f\"],[0.2222222222222222,\"#7201a8\"],[0.3333333333333333,\"#9c179e\"],[0.4444444444444444,\"#bd3786\"],[0.5555555555555556,\"#d8576b\"],[0.6666666666666666,\"#ed7953\"],[0.7777777777777778,\"#fb9f3a\"],[0.8888888888888888,\"#fdca26\"],[1.0,\"#f0f921\"]]}],\"mesh3d\":[{\"type\":\"mesh3d\",\"colorbar\":{\"outlinewidth\":0,\"ticks\":\"\"}}],\"scatter\":[{\"fillpattern\":{\"fillmode\":\"overlay\",\"size\":10,\"solidity\":0.2},\"type\":\"scatter\"}],\"parcoords\":[{\"type\":\"parcoords\",\"line\":{\"colorbar\":{\"outlinewidth\":0,\"ticks\":\"\"}}}],\"scatterpolargl\":[{\"type\":\"scatterpolargl\",\"marker\":{\"colorbar\":{\"outlinewidth\":0,\"ticks\":\"\"}}}],\"bar\":[{\"error_x\":{\"color\":\"#2a3f5f\"},\"error_y\":{\"color\":\"#2a3f5f\"},\"marker\":{\"line\":{\"color\":\"#E5ECF6\",\"width\":0.5},\"pattern\":{\"fillmode\":\"overlay\",\"size\":10,\"solidity\":0.2}},\"type\":\"bar\"}],\"scattergeo\":[{\"type\":\"scattergeo\",\"marker\":{\"colorbar\":{\"outlinewidth\":0,\"ticks\":\"\"}}}],\"scatterpolar\":[{\"type\":\"scatterpolar\",\"marker\":{\"colorbar\":{\"outlinewidth\":0,\"ticks\":\"\"}}}],\"histogram\":[{\"marker\":{\"pattern\":{\"fillmode\":\"overlay\",\"size\":10,\"solidity\":0.2}},\"type\":\"histogram\"}],\"scattergl\":[{\"type\":\"scattergl\",\"marker\":{\"colorbar\":{\"outlinewidth\":0,\"ticks\":\"\"}}}],\"scatter3d\":[{\"type\":\"scatter3d\",\"line\":{\"colorbar\":{\"outlinewidth\":0,\"ticks\":\"\"}},\"marker\":{\"colorbar\":{\"outlinewidth\":0,\"ticks\":\"\"}}}],\"scattermapbox\":[{\"type\":\"scattermapbox\",\"marker\":{\"colorbar\":{\"outlinewidth\":0,\"ticks\":\"\"}}}],\"scatterternary\":[{\"type\":\"scatterternary\",\"marker\":{\"colorbar\":{\"outlinewidth\":0,\"ticks\":\"\"}}}],\"scattercarpet\":[{\"type\":\"scattercarpet\",\"marker\":{\"colorbar\":{\"outlinewidth\":0,\"ticks\":\"\"}}}],\"carpet\":[{\"aaxis\":{\"endlinecolor\":\"#2a3f5f\",\"gridcolor\":\"white\",\"linecolor\":\"white\",\"minorgridcolor\":\"white\",\"startlinecolor\":\"#2a3f5f\"},\"baxis\":{\"endlinecolor\":\"#2a3f5f\",\"gridcolor\":\"white\",\"linecolor\":\"white\",\"minorgridcolor\":\"white\",\"startlinecolor\":\"#2a3f5f\"},\"type\":\"carpet\"}],\"table\":[{\"cells\":{\"fill\":{\"color\":\"#EBF0F8\"},\"line\":{\"color\":\"white\"}},\"header\":{\"fill\":{\"color\":\"#C8D4E3\"},\"line\":{\"color\":\"white\"}},\"type\":\"table\"}],\"barpolar\":[{\"marker\":{\"line\":{\"color\":\"#E5ECF6\",\"width\":0.5},\"pattern\":{\"fillmode\":\"overlay\",\"size\":10,\"solidity\":0.2}},\"type\":\"barpolar\"}],\"pie\":[{\"automargin\":true,\"type\":\"pie\"}]},\"layout\":{\"autotypenumbers\":\"strict\",\"colorway\":[\"#636efa\",\"#EF553B\",\"#00cc96\",\"#ab63fa\",\"#FFA15A\",\"#19d3f3\",\"#FF6692\",\"#B6E880\",\"#FF97FF\",\"#FECB52\"],\"font\":{\"color\":\"#2a3f5f\"},\"hovermode\":\"closest\",\"hoverlabel\":{\"align\":\"left\"},\"paper_bgcolor\":\"white\",\"plot_bgcolor\":\"#E5ECF6\",\"polar\":{\"bgcolor\":\"#E5ECF6\",\"angularaxis\":{\"gridcolor\":\"white\",\"linecolor\":\"white\",\"ticks\":\"\"},\"radialaxis\":{\"gridcolor\":\"white\",\"linecolor\":\"white\",\"ticks\":\"\"}},\"ternary\":{\"bgcolor\":\"#E5ECF6\",\"aaxis\":{\"gridcolor\":\"white\",\"linecolor\":\"white\",\"ticks\":\"\"},\"baxis\":{\"gridcolor\":\"white\",\"linecolor\":\"white\",\"ticks\":\"\"},\"caxis\":{\"gridcolor\":\"white\",\"linecolor\":\"white\",\"ticks\":\"\"}},\"coloraxis\":{\"colorbar\":{\"outlinewidth\":0,\"ticks\":\"\"}},\"colorscale\":{\"sequential\":[[0.0,\"#0d0887\"],[0.1111111111111111,\"#46039f\"],[0.2222222222222222,\"#7201a8\"],[0.3333333333333333,\"#9c179e\"],[0.4444444444444444,\"#bd3786\"],[0.5555555555555556,\"#d8576b\"],[0.6666666666666666,\"#ed7953\"],[0.7777777777777778,\"#fb9f3a\"],[0.8888888888888888,\"#fdca26\"],[1.0,\"#f0f921\"]],\"sequentialminus\":[[0.0,\"#0d0887\"],[0.1111111111111111,\"#46039f\"],[0.2222222222222222,\"#7201a8\"],[0.3333333333333333,\"#9c179e\"],[0.4444444444444444,\"#bd3786\"],[0.5555555555555556,\"#d8576b\"],[0.6666666666666666,\"#ed7953\"],[0.7777777777777778,\"#fb9f3a\"],[0.8888888888888888,\"#fdca26\"],[1.0,\"#f0f921\"]],\"diverging\":[[0,\"#8e0152\"],[0.1,\"#c51b7d\"],[0.2,\"#de77ae\"],[0.3,\"#f1b6da\"],[0.4,\"#fde0ef\"],[0.5,\"#f7f7f7\"],[0.6,\"#e6f5d0\"],[0.7,\"#b8e186\"],[0.8,\"#7fbc41\"],[0.9,\"#4d9221\"],[1,\"#276419\"]]},\"xaxis\":{\"gridcolor\":\"white\",\"linecolor\":\"white\",\"ticks\":\"\",\"title\":{\"standoff\":15},\"zerolinecolor\":\"white\",\"automargin\":true,\"zerolinewidth\":2},\"yaxis\":{\"gridcolor\":\"white\",\"linecolor\":\"white\",\"ticks\":\"\",\"title\":{\"standoff\":15},\"zerolinecolor\":\"white\",\"automargin\":true,\"zerolinewidth\":2},\"scene\":{\"xaxis\":{\"backgroundcolor\":\"#E5ECF6\",\"gridcolor\":\"white\",\"linecolor\":\"white\",\"showbackground\":true,\"ticks\":\"\",\"zerolinecolor\":\"white\",\"gridwidth\":2},\"yaxis\":{\"backgroundcolor\":\"#E5ECF6\",\"gridcolor\":\"white\",\"linecolor\":\"white\",\"showbackground\":true,\"ticks\":\"\",\"zerolinecolor\":\"white\",\"gridwidth\":2},\"zaxis\":{\"backgroundcolor\":\"#E5ECF6\",\"gridcolor\":\"white\",\"linecolor\":\"white\",\"showbackground\":true,\"ticks\":\"\",\"zerolinecolor\":\"white\",\"gridwidth\":2}},\"shapedefaults\":{\"line\":{\"color\":\"#2a3f5f\"}},\"annotationdefaults\":{\"arrowcolor\":\"#2a3f5f\",\"arrowhead\":0,\"arrowwidth\":1},\"geo\":{\"bgcolor\":\"white\",\"landcolor\":\"#E5ECF6\",\"subunitcolor\":\"white\",\"showland\":true,\"showlakes\":true,\"lakecolor\":\"white\"},\"title\":{\"x\":0.05},\"mapbox\":{\"style\":\"light\"}}},\"yaxis\":{\"title\":{\"text\":\"Methylation ratio (%)\"},\"tickmode\":\"array\",\"tickvals\":[0,10,20,30,40,50,60,70,80,90,100],\"range\":[0,100],\"showline\":true,\"linecolor\":\"black\",\"mirror\":true,\"linewidth\":2,\"ticks\":\"outside\"},\"boxmode\":\"group\",\"font\":{\"family\":\"Arial, monospace\",\"size\":14,\"color\":\"black\"},\"title\":{\"font\":{\"size\":20},\"text\":\"FAP WGEM-seq global hypomethylation per CGI and CG shore\",\"xanchor\":\"center\",\"x\":0.5},\"legend\":{\"bgcolor\":\"rgb(255, 255, 255)\",\"bordercolor\":\"Black\",\"borderwidth\":1},\"width\":500,\"height\":400,\"plot_bgcolor\":\"rgb(250,250,250)\",\"xaxis\":{\"showline\":true,\"linecolor\":\"black\",\"mirror\":true,\"linewidth\":2,\"ticks\":\"outside\"}},                        {\"responsive\": true}                    ).then(function(){\n",
       "                            \n",
       "var gd = document.getElementById('e362ee0a-0f8f-4225-9549-165d8dcb5d42');\n",
       "var x = new MutationObserver(function (mutations, observer) {{\n",
       "        var display = window.getComputedStyle(gd).display;\n",
       "        if (!display || display === 'none') {{\n",
       "            console.log([gd, 'removed!']);\n",
       "            Plotly.purge(gd);\n",
       "            observer.disconnect();\n",
       "        }}\n",
       "}});\n",
       "\n",
       "// Listen for the removal of the full notebook cells\n",
       "var notebookContainer = gd.closest('#notebook-container');\n",
       "if (notebookContainer) {{\n",
       "    x.observe(notebookContainer, {childList: true});\n",
       "}}\n",
       "\n",
       "// Listen for the clearing of the current output cell\n",
       "var outputEl = gd.closest('.output');\n",
       "if (outputEl) {{\n",
       "    x.observe(outputEl, {childList: true});\n",
       "}}\n",
       "\n",
       "                        })                };                });            </script>        </div>"
      ]
     },
     "metadata": {},
     "output_type": "display_data"
    }
   ],
   "source": [
    "import plotly.express as px\n",
    "import plotly.graph_objects as go\n",
    "\n",
    "\n",
    "#pd.set_option('precision', 2)\n",
    "#pd.set_option('display.float_format', lambda x: '%.2f' % x)\n",
    "\n",
    "fig = go.Figure()\n",
    "\n",
    "px.defaults.template = \"simple_white\"\n",
    "#\"plotly\", \"plotly_white\", \"plotly_dark\", \"ggplot2\", \"seaborn\", \"simple_white\", \"none\"\n",
    "#px.defaults.color_continuous_scale = px.colors.sequential.Blackbody\n",
    "#px.defaults.width = 1000\n",
    "#px.defaults.height = 900\n",
    "\n",
    "#x = [i.split(':')[0] for i in df.columns]\n",
    "\n",
    "fig = go.Figure()\n",
    "\n",
    "fig.add_trace(go.Box(\n",
    "    y=df_mean[list(df_mean.columns[df_mean.columns.str.contains('L:')])].T.to_numpy().flatten(),\n",
    "    x=list(df_mean.index)*len(list(df_mean.columns[df_mean.columns.str.contains('L:')])),\n",
    "    name='Blood',\n",
    "    marker_color='rgb(255,0,0)',\n",
    "    line_width=1\n",
    "))\n",
    "fig.add_trace(go.Box(\n",
    "    y=df_mean[list(df_mean.columns[df_mean.columns.str.contains('N:')])].T.to_numpy().flatten(),\n",
    "    x=list(df_mean.index)*len(list(df_mean.columns[df_mean.columns.str.contains('N:')])),\n",
    "    name='Normal',\n",
    "    marker_color='rgb(240, 240, 0)',\n",
    "    line_width=1\n",
    "))\n",
    "fig.add_trace(go.Box(\n",
    "    y=df_mean[list(df_mean.columns[df_mean.columns.str.contains('B:')])].T.to_numpy().flatten(),\n",
    "    x=list(df_mean.index)*len(list(df_mean.columns[df_mean.columns.str.contains('B:')])),\n",
    "    name='Benign',\n",
    "    marker_color='rgb(153, 255, 51)',\n",
    "    line_width=1\n",
    "))\n",
    "fig.add_trace(go.Box(\n",
    "    y=df_mean[list(df_mean.columns[df_mean.columns.str.contains('D:')])].T.to_numpy().flatten(),\n",
    "    x=list(df_mean.index)*len(list(df_mean.columns[df_mean.columns.str.contains('D:')])),\n",
    "    name='Dysplasisa',\n",
    "    marker_color='rgb(102, 204, 85)',\n",
    "    line_width=1\n",
    "))\n",
    "fig.add_trace(go.Box(\n",
    "    y=df_mean[list(df_mean.columns[df_mean.columns.str.contains('T:')])].T.to_numpy().flatten(),\n",
    "    x=list(df_mean.index)*len(list(df_mean.columns[df_mean.columns.str.contains('T:')])),\n",
    "    name='Adenocarcinoma',\n",
    "    marker_color='rgb(51, 102,  0)',\n",
    "    line_width=1\n",
    "))\n",
    "\n",
    "\n",
    "\n",
    "fig.update_layout(\n",
    "    yaxis_title='Methylation ratio (%)',\n",
    "    boxmode='group' # group together boxes of the different traces for each value of x\n",
    ")\n",
    "\n",
    "fig.update_layout(\n",
    "    font_family=\"Arial\",\n",
    "    width=500,\n",
    "    height=400,\n",
    "    title=dict(text=\"FAP WGEM-seq global hypomethylation per CGI and CG shore\",\n",
    "              xanchor='center', x=0.5,  \n",
    "              ),\n",
    "    titlefont=dict(size=20),\n",
    "    #xaxis_title=\"PC_0\",\n",
    "    #yaxis_title=\"PC_1\",\n",
    "    #legend_title=None,\n",
    "    font=dict(\n",
    "        family=\"Arial, monospace\",\n",
    "        size=14,\n",
    "        color=\"black\"\n",
    "    ),\n",
    "    #xaxis = dict(\n",
    "    #    #tickmode = 'array',\n",
    "    #    #tickvals = ['SINE','LINE','LTR','Simple_repeat','DNA\\_transposon','Low_complexity','Retroposon','Satellite','RCHelitron',]\n",
    "    #),\n",
    "   yaxis = dict(\n",
    "        tickmode = 'array',\n",
    "        tickvals = [0,10,20,30,40,50,60,70,80,90,100],\n",
    "        range=[0,100]\n",
    "    ),\n",
    "    legend=dict(\n",
    "        #yanchor=\"bottom\",\n",
    "        #y=0.01,\n",
    "        #xanchor=\"left\",\n",
    "        #x=0.01,\n",
    "        #traceorder=\"reversed\",\n",
    "        bgcolor= \"rgb(255, 255, 255)\",\n",
    "        bordercolor=\"Black\",\n",
    "        borderwidth=1,\n",
    "        ),\n",
    "    plot_bgcolor='rgb(250,250,250)',\n",
    "\n",
    ")\n",
    "\n",
    "fig.update_xaxes(showline=True, linecolor='black', mirror=True, linewidth=2, ticks='outside')\n",
    "fig.update_yaxes(showline=True, linecolor='black', mirror=True, linewidth=2, ticks='outside')\n",
    "\n",
    "fig.show()\n",
    "\n",
    "fig.write_image(\"fap_anno_cgi_bloxplot.pdf\")\n",
    "fig.write_image(\"fap_anno_cgi_bloxplot.png\")\n",
    "\n",
    "\n"
   ]
  },
  {
   "cell_type": "code",
   "execution_count": 11,
   "metadata": {},
   "outputs": [
    {
     "name": "stdout",
     "output_type": "stream",
     "text": [
      "island\n",
      "island N->L: 1.5333e-02\t 0.015333\n",
      "island N->B: 5.9292e-03\t 0.005929\n",
      "island B->D: 8.7641e-02\t 0.087641\n",
      "island N->D: 2.0889e-03\t 0.002089\n",
      "shore\n",
      "shore N->L: 1.5654e-03\t 0.001565\n",
      "shore N->B: 5.1787e-04\t 0.000518\n",
      "shore B->D: 5.9058e-02\t 0.059058\n",
      "shore N->D: 1.6962e-03\t 0.001696\n",
      "shelf\n",
      "shelf N->L: 1.5654e-03\t 0.001565\n",
      "shelf N->B: 4.4196e-04\t 0.000442\n",
      "shelf B->D: 6.5356e-02\t 0.065356\n",
      "shelf N->D: 1.3725e-03\t 0.001372\n",
      "opensea\n",
      "opensea N->L: 1.5654e-03\t 0.001565\n",
      "opensea N->B: 5.1787e-04\t 0.000518\n",
      "opensea B->D: 4.7968e-02\t 0.047968\n",
      "opensea N->D: 7.1174e-04\t 0.000712\n"
     ]
    }
   ],
   "source": [
    "from scipy import stats\n",
    "\n",
    "#df_mean[list(df_mean.columns[df_mean.columns.str.contains('N:')])].mean(axis=0)\n",
    "\n",
    "for index, row in df_mean.iterrows():\n",
    "    #print(index, row[df_mean.columns.str.contains('N:')])\n",
    "    print(index)\n",
    "    print(index, \"N->L: {0:.4e}\\t {0:.6f}\".format( stats.ranksums(row[df_mean.columns.str.contains('N:')], row[df_mean.columns.str.contains('L:')])[1]) ) \n",
    "    print(index, \"N->B: {0:.4e}\\t {0:.6f}\".format( stats.ranksums(row[df_mean.columns.str.contains('N:')], row[df_mean.columns.str.contains('B:')])[1]) ) \n",
    "    print(index, \"B->D: {0:.4e}\\t {0:.6f}\".format( stats.ranksums(row[df_mean.columns.str.contains('B:')], row[df_mean.columns.str.contains('D:')])[1]) ) \n",
    "    print(index, \"N->D: {0:.4e}\\t {0:.6f}\".format( stats.ranksums(row[df_mean.columns.str.contains('N:')], row[df_mean.columns.str.contains('D:')])[1]) ) \n",
    "    \n",
    "    \n",
    "    "
   ]
  },
  {
   "cell_type": "code",
   "execution_count": null,
   "metadata": {},
   "outputs": [],
   "source": []
  },
  {
   "cell_type": "code",
   "execution_count": null,
   "metadata": {},
   "outputs": [],
   "source": []
  },
  {
   "cell_type": "code",
   "execution_count": null,
   "metadata": {},
   "outputs": [],
   "source": []
  },
  {
   "cell_type": "code",
   "execution_count": null,
   "metadata": {},
   "outputs": [],
   "source": []
  }
 ],
 "metadata": {
  "kernelspec": {
   "display_name": "Python 3 (ipykernel)",
   "language": "python",
   "name": "python3"
  },
  "language_info": {
   "codemirror_mode": {
    "name": "ipython",
    "version": 3
   },
   "file_extension": ".py",
   "mimetype": "text/x-python",
   "name": "python",
   "nbconvert_exporter": "python",
   "pygments_lexer": "ipython3",
   "version": "3.9.12"
  }
 },
 "nbformat": 4,
 "nbformat_minor": 4
}
